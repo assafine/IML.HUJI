{
 "cells": [
  {
   "cell_type": "markdown",
   "metadata": {
    "collapsed": true,
    "pycharm": {
     "name": "#%% md\n"
    }
   },
   "source": [
    "# Lab 03 - Polynomial Fitting\n",
    "In the previous lab we discussed linear regression and the OLS estimator for solving the minimization of the RSS. As we\n",
    "mentioned, regression problems are a very wide family of settings and algorithms which we use to try to estimate the relation between a set of explanatory variables and a **continuous** response (i.e. $\\mathcal{Y}\\in\\mathbb{R}^p$). In the following lab we will discuss one such setting called \"Polynomial Fitting\". \n",
    "\n",
    "Sometimes, the data (and the relation between the explanatory variables and response) can be described by some polynomial\n",
    "of some degree. Here, we only focus on the case where it is a polynomial of a single variable. That is: \n",
    "$$ p_k\\left(x\\right)=\\sum_{i=0}^{k}\\alpha_i x^i\\quad\\alpha_0,\\ldots,\\alpha_k\\in\\mathbb{R} $$\n",
    "\n",
    "So our hypothesis class is of the form:\n",
    "$$ \\mathcal{H}^k_{poly}=\\left\\{p_k\\,\\Big|\\, p_k\\left(x\\right)=\\sum_{i=0}^{k}\\alpha_i x^i\\quad\\alpha_0,\\ldots,\\alpha_k\\in\\mathbb{R}\\right\\} $$\n",
    "\n",
    "Notice that similar to linear regression, each hypothesis in the class is defined by a coefficients vector. Below are two\n",
    "examples (simulated and real) for datasets where the relation between the explanatory variable and response is polynomial."
   ]
  },
  {
   "cell_type": "code",
   "execution_count": 1,
   "metadata": {},
   "outputs": [],
   "source": [
    "import sys\n",
    "sys.path.append(\"../\")\n",
    "from utils import *"
   ]
  },
  {
   "cell_type": "code",
   "execution_count": 6,
   "metadata": {
    "pycharm": {
     "is_executing": false,
     "name": "#%%\n"
    }
   },
   "outputs": [
    {
     "data": {
      "application/vnd.plotly.v1+json": {
       "config": {
        "plotlyServerURL": "https://plot.ly"
       },
       "data": [
        {
         "marker": {
          "color": "black",
          "opacity": 0.7
         },
         "mode": "markers",
         "showlegend": false,
         "type": "scatter",
         "x": [
          -1.2,
          -1.0358974358974358,
          -0.8717948717948718,
          -0.7076923076923076,
          -0.5435897435897435,
          -0.37948717948717947,
          -0.21538461538461529,
          -0.05128205128205132,
          0.11282051282051286,
          0.27692307692307705,
          0.441025641025641,
          0.6051282051282052,
          0.7692307692307694,
          0.9333333333333333,
          1.0974358974358973,
          1.2615384615384617,
          1.4256410256410257,
          1.5897435897435896,
          1.753846153846154,
          1.917948717948718
         ],
         "xaxis": "x",
         "y": [
          5.8096,
          3.8381753317244733,
          2.522800884051074,
          1.7092797030916282,
          1.2608197821340592,
          1.058034061642376,
          0.9989404292566787,
          0.9989617197931566,
          0.9909257152440888,
          0.9250651447778439,
          0.7690176847388803,
          0.5078259586477458,
          0.14393753720107805,
          -0.3027950617283952,
          -0.7951143730918573,
          -1.278357984664403,
          -1.6804585370450331,
          -1.911943723656666,
          -1.8659362907461214,
          -1.418154037384138
         ],
         "yaxis": "y"
        },
        {
         "marker": {
          "color": "black",
          "opacity": 0.7
         },
         "mode": "markers",
         "showlegend": false,
         "type": "scatter",
         "x": [
          "Business Analyst",
          "Junior Consultant",
          "Senior Consultant",
          "Manager",
          "Country Manager",
          "Region Manager",
          "Partner",
          "Senior Partner",
          "C-level",
          "CEO"
         ],
         "xaxis": "x2",
         "y": [
          45000,
          50000,
          60000,
          80000,
          110000,
          150000,
          200000,
          300000,
          500000,
          1000000
         ],
         "yaxis": "y2"
        }
       ],
       "layout": {
        "annotations": [
         {
          "font": {
           "size": 16
          },
          "showarrow": false,
          "text": "$\\text{Simulated Data: }y=x^4-2x^3-0.5x^2+1$",
          "x": 0.225,
          "xanchor": "center",
          "xref": "paper",
          "y": 1,
          "yanchor": "bottom",
          "yref": "paper"
         },
         {
          "font": {
           "size": 16
          },
          "showarrow": false,
          "text": "$\\text{Positions Salary}$",
          "x": 0.775,
          "xanchor": "center",
          "xref": "paper",
          "y": 1,
          "yanchor": "bottom",
          "yref": "paper"
         }
        ],
        "margin": {
         "t": 100
        },
        "template": {
         "data": {
          "bar": [
           {
            "error_x": {
             "color": "rgb(36,36,36)"
            },
            "error_y": {
             "color": "rgb(36,36,36)"
            },
            "marker": {
             "line": {
              "color": "white",
              "width": 0.5
             },
             "pattern": {
              "fillmode": "overlay",
              "size": 10,
              "solidity": 0.2
             }
            },
            "type": "bar"
           }
          ],
          "barpolar": [
           {
            "marker": {
             "line": {
              "color": "white",
              "width": 0.5
             },
             "pattern": {
              "fillmode": "overlay",
              "size": 10,
              "solidity": 0.2
             }
            },
            "type": "barpolar"
           }
          ],
          "carpet": [
           {
            "aaxis": {
             "endlinecolor": "rgb(36,36,36)",
             "gridcolor": "white",
             "linecolor": "white",
             "minorgridcolor": "white",
             "startlinecolor": "rgb(36,36,36)"
            },
            "baxis": {
             "endlinecolor": "rgb(36,36,36)",
             "gridcolor": "white",
             "linecolor": "white",
             "minorgridcolor": "white",
             "startlinecolor": "rgb(36,36,36)"
            },
            "type": "carpet"
           }
          ],
          "choropleth": [
           {
            "colorbar": {
             "outlinewidth": 1,
             "tickcolor": "rgb(36,36,36)",
             "ticks": "outside"
            },
            "type": "choropleth"
           }
          ],
          "contour": [
           {
            "colorbar": {
             "outlinewidth": 1,
             "tickcolor": "rgb(36,36,36)",
             "ticks": "outside"
            },
            "colorscale": [
             [
              0,
              "#440154"
             ],
             [
              0.1111111111111111,
              "#482878"
             ],
             [
              0.2222222222222222,
              "#3e4989"
             ],
             [
              0.3333333333333333,
              "#31688e"
             ],
             [
              0.4444444444444444,
              "#26828e"
             ],
             [
              0.5555555555555556,
              "#1f9e89"
             ],
             [
              0.6666666666666666,
              "#35b779"
             ],
             [
              0.7777777777777778,
              "#6ece58"
             ],
             [
              0.8888888888888888,
              "#b5de2b"
             ],
             [
              1,
              "#fde725"
             ]
            ],
            "type": "contour"
           }
          ],
          "contourcarpet": [
           {
            "colorbar": {
             "outlinewidth": 1,
             "tickcolor": "rgb(36,36,36)",
             "ticks": "outside"
            },
            "type": "contourcarpet"
           }
          ],
          "heatmap": [
           {
            "colorbar": {
             "outlinewidth": 1,
             "tickcolor": "rgb(36,36,36)",
             "ticks": "outside"
            },
            "colorscale": [
             [
              0,
              "#440154"
             ],
             [
              0.1111111111111111,
              "#482878"
             ],
             [
              0.2222222222222222,
              "#3e4989"
             ],
             [
              0.3333333333333333,
              "#31688e"
             ],
             [
              0.4444444444444444,
              "#26828e"
             ],
             [
              0.5555555555555556,
              "#1f9e89"
             ],
             [
              0.6666666666666666,
              "#35b779"
             ],
             [
              0.7777777777777778,
              "#6ece58"
             ],
             [
              0.8888888888888888,
              "#b5de2b"
             ],
             [
              1,
              "#fde725"
             ]
            ],
            "type": "heatmap"
           }
          ],
          "heatmapgl": [
           {
            "colorbar": {
             "outlinewidth": 1,
             "tickcolor": "rgb(36,36,36)",
             "ticks": "outside"
            },
            "colorscale": [
             [
              0,
              "#440154"
             ],
             [
              0.1111111111111111,
              "#482878"
             ],
             [
              0.2222222222222222,
              "#3e4989"
             ],
             [
              0.3333333333333333,
              "#31688e"
             ],
             [
              0.4444444444444444,
              "#26828e"
             ],
             [
              0.5555555555555556,
              "#1f9e89"
             ],
             [
              0.6666666666666666,
              "#35b779"
             ],
             [
              0.7777777777777778,
              "#6ece58"
             ],
             [
              0.8888888888888888,
              "#b5de2b"
             ],
             [
              1,
              "#fde725"
             ]
            ],
            "type": "heatmapgl"
           }
          ],
          "histogram": [
           {
            "marker": {
             "line": {
              "color": "white",
              "width": 0.6
             }
            },
            "type": "histogram"
           }
          ],
          "histogram2d": [
           {
            "colorbar": {
             "outlinewidth": 1,
             "tickcolor": "rgb(36,36,36)",
             "ticks": "outside"
            },
            "colorscale": [
             [
              0,
              "#440154"
             ],
             [
              0.1111111111111111,
              "#482878"
             ],
             [
              0.2222222222222222,
              "#3e4989"
             ],
             [
              0.3333333333333333,
              "#31688e"
             ],
             [
              0.4444444444444444,
              "#26828e"
             ],
             [
              0.5555555555555556,
              "#1f9e89"
             ],
             [
              0.6666666666666666,
              "#35b779"
             ],
             [
              0.7777777777777778,
              "#6ece58"
             ],
             [
              0.8888888888888888,
              "#b5de2b"
             ],
             [
              1,
              "#fde725"
             ]
            ],
            "type": "histogram2d"
           }
          ],
          "histogram2dcontour": [
           {
            "colorbar": {
             "outlinewidth": 1,
             "tickcolor": "rgb(36,36,36)",
             "ticks": "outside"
            },
            "colorscale": [
             [
              0,
              "#440154"
             ],
             [
              0.1111111111111111,
              "#482878"
             ],
             [
              0.2222222222222222,
              "#3e4989"
             ],
             [
              0.3333333333333333,
              "#31688e"
             ],
             [
              0.4444444444444444,
              "#26828e"
             ],
             [
              0.5555555555555556,
              "#1f9e89"
             ],
             [
              0.6666666666666666,
              "#35b779"
             ],
             [
              0.7777777777777778,
              "#6ece58"
             ],
             [
              0.8888888888888888,
              "#b5de2b"
             ],
             [
              1,
              "#fde725"
             ]
            ],
            "type": "histogram2dcontour"
           }
          ],
          "mesh3d": [
           {
            "colorbar": {
             "outlinewidth": 1,
             "tickcolor": "rgb(36,36,36)",
             "ticks": "outside"
            },
            "type": "mesh3d"
           }
          ],
          "parcoords": [
           {
            "line": {
             "colorbar": {
              "outlinewidth": 1,
              "tickcolor": "rgb(36,36,36)",
              "ticks": "outside"
             }
            },
            "type": "parcoords"
           }
          ],
          "pie": [
           {
            "automargin": true,
            "type": "pie"
           }
          ],
          "scatter": [
           {
            "marker": {
             "colorbar": {
              "outlinewidth": 1,
              "tickcolor": "rgb(36,36,36)",
              "ticks": "outside"
             }
            },
            "type": "scatter"
           }
          ],
          "scatter3d": [
           {
            "line": {
             "colorbar": {
              "outlinewidth": 1,
              "tickcolor": "rgb(36,36,36)",
              "ticks": "outside"
             }
            },
            "marker": {
             "colorbar": {
              "outlinewidth": 1,
              "tickcolor": "rgb(36,36,36)",
              "ticks": "outside"
             }
            },
            "type": "scatter3d"
           }
          ],
          "scattercarpet": [
           {
            "marker": {
             "colorbar": {
              "outlinewidth": 1,
              "tickcolor": "rgb(36,36,36)",
              "ticks": "outside"
             }
            },
            "type": "scattercarpet"
           }
          ],
          "scattergeo": [
           {
            "marker": {
             "colorbar": {
              "outlinewidth": 1,
              "tickcolor": "rgb(36,36,36)",
              "ticks": "outside"
             }
            },
            "type": "scattergeo"
           }
          ],
          "scattergl": [
           {
            "marker": {
             "colorbar": {
              "outlinewidth": 1,
              "tickcolor": "rgb(36,36,36)",
              "ticks": "outside"
             }
            },
            "type": "scattergl"
           }
          ],
          "scattermapbox": [
           {
            "marker": {
             "colorbar": {
              "outlinewidth": 1,
              "tickcolor": "rgb(36,36,36)",
              "ticks": "outside"
             }
            },
            "type": "scattermapbox"
           }
          ],
          "scatterpolar": [
           {
            "marker": {
             "colorbar": {
              "outlinewidth": 1,
              "tickcolor": "rgb(36,36,36)",
              "ticks": "outside"
             }
            },
            "type": "scatterpolar"
           }
          ],
          "scatterpolargl": [
           {
            "marker": {
             "colorbar": {
              "outlinewidth": 1,
              "tickcolor": "rgb(36,36,36)",
              "ticks": "outside"
             }
            },
            "type": "scatterpolargl"
           }
          ],
          "scatterternary": [
           {
            "marker": {
             "colorbar": {
              "outlinewidth": 1,
              "tickcolor": "rgb(36,36,36)",
              "ticks": "outside"
             }
            },
            "type": "scatterternary"
           }
          ],
          "surface": [
           {
            "colorbar": {
             "outlinewidth": 1,
             "tickcolor": "rgb(36,36,36)",
             "ticks": "outside"
            },
            "colorscale": [
             [
              0,
              "#440154"
             ],
             [
              0.1111111111111111,
              "#482878"
             ],
             [
              0.2222222222222222,
              "#3e4989"
             ],
             [
              0.3333333333333333,
              "#31688e"
             ],
             [
              0.4444444444444444,
              "#26828e"
             ],
             [
              0.5555555555555556,
              "#1f9e89"
             ],
             [
              0.6666666666666666,
              "#35b779"
             ],
             [
              0.7777777777777778,
              "#6ece58"
             ],
             [
              0.8888888888888888,
              "#b5de2b"
             ],
             [
              1,
              "#fde725"
             ]
            ],
            "type": "surface"
           }
          ],
          "table": [
           {
            "cells": {
             "fill": {
              "color": "rgb(237,237,237)"
             },
             "line": {
              "color": "white"
             }
            },
            "header": {
             "fill": {
              "color": "rgb(217,217,217)"
             },
             "line": {
              "color": "white"
             }
            },
            "type": "table"
           }
          ]
         },
         "layout": {
          "annotationdefaults": {
           "arrowhead": 0,
           "arrowwidth": 1
          },
          "autotypenumbers": "strict",
          "coloraxis": {
           "colorbar": {
            "outlinewidth": 1,
            "tickcolor": "rgb(36,36,36)",
            "ticks": "outside"
           }
          },
          "colorscale": {
           "diverging": [
            [
             0,
             "rgb(103,0,31)"
            ],
            [
             0.1,
             "rgb(178,24,43)"
            ],
            [
             0.2,
             "rgb(214,96,77)"
            ],
            [
             0.3,
             "rgb(244,165,130)"
            ],
            [
             0.4,
             "rgb(253,219,199)"
            ],
            [
             0.5,
             "rgb(247,247,247)"
            ],
            [
             0.6,
             "rgb(209,229,240)"
            ],
            [
             0.7,
             "rgb(146,197,222)"
            ],
            [
             0.8,
             "rgb(67,147,195)"
            ],
            [
             0.9,
             "rgb(33,102,172)"
            ],
            [
             1,
             "rgb(5,48,97)"
            ]
           ],
           "sequential": [
            [
             0,
             "#440154"
            ],
            [
             0.1111111111111111,
             "#482878"
            ],
            [
             0.2222222222222222,
             "#3e4989"
            ],
            [
             0.3333333333333333,
             "#31688e"
            ],
            [
             0.4444444444444444,
             "#26828e"
            ],
            [
             0.5555555555555556,
             "#1f9e89"
            ],
            [
             0.6666666666666666,
             "#35b779"
            ],
            [
             0.7777777777777778,
             "#6ece58"
            ],
            [
             0.8888888888888888,
             "#b5de2b"
            ],
            [
             1,
             "#fde725"
            ]
           ],
           "sequentialminus": [
            [
             0,
             "#440154"
            ],
            [
             0.1111111111111111,
             "#482878"
            ],
            [
             0.2222222222222222,
             "#3e4989"
            ],
            [
             0.3333333333333333,
             "#31688e"
            ],
            [
             0.4444444444444444,
             "#26828e"
            ],
            [
             0.5555555555555556,
             "#1f9e89"
            ],
            [
             0.6666666666666666,
             "#35b779"
            ],
            [
             0.7777777777777778,
             "#6ece58"
            ],
            [
             0.8888888888888888,
             "#b5de2b"
            ],
            [
             1,
             "#fde725"
            ]
           ]
          },
          "colorway": [
           "#1F77B4",
           "#FF7F0E",
           "#2CA02C",
           "#D62728",
           "#9467BD",
           "#8C564B",
           "#E377C2",
           "#7F7F7F",
           "#BCBD22",
           "#17BECF"
          ],
          "font": {
           "color": "rgb(36,36,36)"
          },
          "geo": {
           "bgcolor": "white",
           "lakecolor": "white",
           "landcolor": "white",
           "showlakes": true,
           "showland": true,
           "subunitcolor": "white"
          },
          "hoverlabel": {
           "align": "left"
          },
          "hovermode": "closest",
          "mapbox": {
           "style": "light"
          },
          "margin": {
           "b": 0,
           "l": 20,
           "r": 20,
           "t": 40
          },
          "paper_bgcolor": "white",
          "plot_bgcolor": "white",
          "polar": {
           "angularaxis": {
            "gridcolor": "rgb(232,232,232)",
            "linecolor": "rgb(36,36,36)",
            "showgrid": false,
            "showline": true,
            "ticks": "outside"
           },
           "bgcolor": "white",
           "radialaxis": {
            "gridcolor": "rgb(232,232,232)",
            "linecolor": "rgb(36,36,36)",
            "showgrid": false,
            "showline": true,
            "ticks": "outside"
           }
          },
          "scene": {
           "xaxis": {
            "backgroundcolor": "white",
            "gridcolor": "rgb(232,232,232)",
            "gridwidth": 2,
            "linecolor": "rgb(36,36,36)",
            "showbackground": true,
            "showgrid": false,
            "showline": true,
            "ticks": "outside",
            "zeroline": false,
            "zerolinecolor": "rgb(36,36,36)"
           },
           "yaxis": {
            "backgroundcolor": "white",
            "gridcolor": "rgb(232,232,232)",
            "gridwidth": 2,
            "linecolor": "rgb(36,36,36)",
            "showbackground": true,
            "showgrid": false,
            "showline": true,
            "ticks": "outside",
            "zeroline": false,
            "zerolinecolor": "rgb(36,36,36)"
           },
           "zaxis": {
            "backgroundcolor": "white",
            "gridcolor": "rgb(232,232,232)",
            "gridwidth": 2,
            "linecolor": "rgb(36,36,36)",
            "showbackground": true,
            "showgrid": false,
            "showline": true,
            "ticks": "outside",
            "zeroline": false,
            "zerolinecolor": "rgb(36,36,36)"
           }
          },
          "shapedefaults": {
           "fillcolor": "black",
           "line": {
            "width": 0
           },
           "opacity": 0.3
          },
          "ternary": {
           "aaxis": {
            "gridcolor": "rgb(232,232,232)",
            "linecolor": "rgb(36,36,36)",
            "showgrid": false,
            "showline": true,
            "ticks": "outside"
           },
           "baxis": {
            "gridcolor": "rgb(232,232,232)",
            "linecolor": "rgb(36,36,36)",
            "showgrid": false,
            "showline": true,
            "ticks": "outside"
           },
           "bgcolor": "white",
           "caxis": {
            "gridcolor": "rgb(232,232,232)",
            "linecolor": "rgb(36,36,36)",
            "showgrid": false,
            "showline": true,
            "ticks": "outside"
           }
          },
          "title": {
           "x": 0.05
          },
          "xaxis": {
           "automargin": true,
           "gridcolor": "rgb(232,232,232)",
           "linecolor": "rgb(36,36,36)",
           "showgrid": false,
           "showline": true,
           "ticks": "outside",
           "title": {
            "standoff": 15
           },
           "zeroline": false,
           "zerolinecolor": "rgb(36,36,36)"
          },
          "yaxis": {
           "automargin": true,
           "gridcolor": "rgb(232,232,232)",
           "linecolor": "rgb(36,36,36)",
           "showgrid": false,
           "showline": true,
           "ticks": "outside",
           "title": {
            "standoff": 15
           },
           "zeroline": false,
           "zerolinecolor": "rgb(36,36,36)"
          }
         }
        },
        "title": {
         "text": "$\\text{(1) Datasets For Polynomial Fitting}$"
        },
        "xaxis": {
         "anchor": "y",
         "domain": [
          0,
          0.45
         ]
        },
        "xaxis2": {
         "anchor": "y2",
         "domain": [
          0.55,
          1
         ]
        },
        "yaxis": {
         "anchor": "x",
         "domain": [
          0,
          1
         ]
        },
        "yaxis2": {
         "anchor": "x2",
         "domain": [
          0,
          1
         ]
        }
       }
      },
      "text/html": [
       "<div>                            <div id=\"1d4d493f-d5a8-44cb-9d03-30372cbd4e43\" class=\"plotly-graph-div\" style=\"height:525px; width:100%;\"></div>            <script type=\"text/javascript\">                require([\"plotly\"], function(Plotly) {                    window.PLOTLYENV=window.PLOTLYENV || {};                                    if (document.getElementById(\"1d4d493f-d5a8-44cb-9d03-30372cbd4e43\")) {                    Plotly.newPlot(                        \"1d4d493f-d5a8-44cb-9d03-30372cbd4e43\",                        [{\"marker\":{\"color\":\"black\",\"opacity\":0.7},\"mode\":\"markers\",\"showlegend\":false,\"x\":[-1.2,-1.0358974358974358,-0.8717948717948718,-0.7076923076923076,-0.5435897435897435,-0.37948717948717947,-0.21538461538461529,-0.05128205128205132,0.11282051282051286,0.27692307692307705,0.441025641025641,0.6051282051282052,0.7692307692307694,0.9333333333333333,1.0974358974358973,1.2615384615384617,1.4256410256410257,1.5897435897435896,1.753846153846154,1.917948717948718],\"y\":[5.8096,3.8381753317244733,2.522800884051074,1.7092797030916282,1.2608197821340592,1.058034061642376,0.9989404292566787,0.9989617197931566,0.9909257152440888,0.9250651447778439,0.7690176847388803,0.5078259586477458,0.14393753720107805,-0.3027950617283952,-0.7951143730918573,-1.278357984664403,-1.6804585370450331,-1.911943723656666,-1.8659362907461214,-1.418154037384138],\"type\":\"scatter\",\"xaxis\":\"x\",\"yaxis\":\"y\"},{\"marker\":{\"color\":\"black\",\"opacity\":0.7},\"mode\":\"markers\",\"showlegend\":false,\"x\":[\"Business Analyst\",\"Junior Consultant\",\"Senior Consultant\",\"Manager\",\"Country Manager\",\"Region Manager\",\"Partner\",\"Senior Partner\",\"C-level\",\"CEO\"],\"y\":[45000,50000,60000,80000,110000,150000,200000,300000,500000,1000000],\"type\":\"scatter\",\"xaxis\":\"x2\",\"yaxis\":\"y2\"}],                        {\"template\":{\"data\":{\"barpolar\":[{\"marker\":{\"line\":{\"color\":\"white\",\"width\":0.5},\"pattern\":{\"fillmode\":\"overlay\",\"size\":10,\"solidity\":0.2}},\"type\":\"barpolar\"}],\"bar\":[{\"error_x\":{\"color\":\"rgb(36,36,36)\"},\"error_y\":{\"color\":\"rgb(36,36,36)\"},\"marker\":{\"line\":{\"color\":\"white\",\"width\":0.5},\"pattern\":{\"fillmode\":\"overlay\",\"size\":10,\"solidity\":0.2}},\"type\":\"bar\"}],\"carpet\":[{\"aaxis\":{\"endlinecolor\":\"rgb(36,36,36)\",\"gridcolor\":\"white\",\"linecolor\":\"white\",\"minorgridcolor\":\"white\",\"startlinecolor\":\"rgb(36,36,36)\"},\"baxis\":{\"endlinecolor\":\"rgb(36,36,36)\",\"gridcolor\":\"white\",\"linecolor\":\"white\",\"minorgridcolor\":\"white\",\"startlinecolor\":\"rgb(36,36,36)\"},\"type\":\"carpet\"}],\"choropleth\":[{\"colorbar\":{\"outlinewidth\":1,\"tickcolor\":\"rgb(36,36,36)\",\"ticks\":\"outside\"},\"type\":\"choropleth\"}],\"contourcarpet\":[{\"colorbar\":{\"outlinewidth\":1,\"tickcolor\":\"rgb(36,36,36)\",\"ticks\":\"outside\"},\"type\":\"contourcarpet\"}],\"contour\":[{\"colorbar\":{\"outlinewidth\":1,\"tickcolor\":\"rgb(36,36,36)\",\"ticks\":\"outside\"},\"colorscale\":[[0.0,\"#440154\"],[0.1111111111111111,\"#482878\"],[0.2222222222222222,\"#3e4989\"],[0.3333333333333333,\"#31688e\"],[0.4444444444444444,\"#26828e\"],[0.5555555555555556,\"#1f9e89\"],[0.6666666666666666,\"#35b779\"],[0.7777777777777778,\"#6ece58\"],[0.8888888888888888,\"#b5de2b\"],[1.0,\"#fde725\"]],\"type\":\"contour\"}],\"heatmapgl\":[{\"colorbar\":{\"outlinewidth\":1,\"tickcolor\":\"rgb(36,36,36)\",\"ticks\":\"outside\"},\"colorscale\":[[0.0,\"#440154\"],[0.1111111111111111,\"#482878\"],[0.2222222222222222,\"#3e4989\"],[0.3333333333333333,\"#31688e\"],[0.4444444444444444,\"#26828e\"],[0.5555555555555556,\"#1f9e89\"],[0.6666666666666666,\"#35b779\"],[0.7777777777777778,\"#6ece58\"],[0.8888888888888888,\"#b5de2b\"],[1.0,\"#fde725\"]],\"type\":\"heatmapgl\"}],\"heatmap\":[{\"colorbar\":{\"outlinewidth\":1,\"tickcolor\":\"rgb(36,36,36)\",\"ticks\":\"outside\"},\"colorscale\":[[0.0,\"#440154\"],[0.1111111111111111,\"#482878\"],[0.2222222222222222,\"#3e4989\"],[0.3333333333333333,\"#31688e\"],[0.4444444444444444,\"#26828e\"],[0.5555555555555556,\"#1f9e89\"],[0.6666666666666666,\"#35b779\"],[0.7777777777777778,\"#6ece58\"],[0.8888888888888888,\"#b5de2b\"],[1.0,\"#fde725\"]],\"type\":\"heatmap\"}],\"histogram2dcontour\":[{\"colorbar\":{\"outlinewidth\":1,\"tickcolor\":\"rgb(36,36,36)\",\"ticks\":\"outside\"},\"colorscale\":[[0.0,\"#440154\"],[0.1111111111111111,\"#482878\"],[0.2222222222222222,\"#3e4989\"],[0.3333333333333333,\"#31688e\"],[0.4444444444444444,\"#26828e\"],[0.5555555555555556,\"#1f9e89\"],[0.6666666666666666,\"#35b779\"],[0.7777777777777778,\"#6ece58\"],[0.8888888888888888,\"#b5de2b\"],[1.0,\"#fde725\"]],\"type\":\"histogram2dcontour\"}],\"histogram2d\":[{\"colorbar\":{\"outlinewidth\":1,\"tickcolor\":\"rgb(36,36,36)\",\"ticks\":\"outside\"},\"colorscale\":[[0.0,\"#440154\"],[0.1111111111111111,\"#482878\"],[0.2222222222222222,\"#3e4989\"],[0.3333333333333333,\"#31688e\"],[0.4444444444444444,\"#26828e\"],[0.5555555555555556,\"#1f9e89\"],[0.6666666666666666,\"#35b779\"],[0.7777777777777778,\"#6ece58\"],[0.8888888888888888,\"#b5de2b\"],[1.0,\"#fde725\"]],\"type\":\"histogram2d\"}],\"histogram\":[{\"marker\":{\"line\":{\"color\":\"white\",\"width\":0.6}},\"type\":\"histogram\"}],\"mesh3d\":[{\"colorbar\":{\"outlinewidth\":1,\"tickcolor\":\"rgb(36,36,36)\",\"ticks\":\"outside\"},\"type\":\"mesh3d\"}],\"parcoords\":[{\"line\":{\"colorbar\":{\"outlinewidth\":1,\"tickcolor\":\"rgb(36,36,36)\",\"ticks\":\"outside\"}},\"type\":\"parcoords\"}],\"pie\":[{\"automargin\":true,\"type\":\"pie\"}],\"scatter3d\":[{\"line\":{\"colorbar\":{\"outlinewidth\":1,\"tickcolor\":\"rgb(36,36,36)\",\"ticks\":\"outside\"}},\"marker\":{\"colorbar\":{\"outlinewidth\":1,\"tickcolor\":\"rgb(36,36,36)\",\"ticks\":\"outside\"}},\"type\":\"scatter3d\"}],\"scattercarpet\":[{\"marker\":{\"colorbar\":{\"outlinewidth\":1,\"tickcolor\":\"rgb(36,36,36)\",\"ticks\":\"outside\"}},\"type\":\"scattercarpet\"}],\"scattergeo\":[{\"marker\":{\"colorbar\":{\"outlinewidth\":1,\"tickcolor\":\"rgb(36,36,36)\",\"ticks\":\"outside\"}},\"type\":\"scattergeo\"}],\"scattergl\":[{\"marker\":{\"colorbar\":{\"outlinewidth\":1,\"tickcolor\":\"rgb(36,36,36)\",\"ticks\":\"outside\"}},\"type\":\"scattergl\"}],\"scattermapbox\":[{\"marker\":{\"colorbar\":{\"outlinewidth\":1,\"tickcolor\":\"rgb(36,36,36)\",\"ticks\":\"outside\"}},\"type\":\"scattermapbox\"}],\"scatterpolargl\":[{\"marker\":{\"colorbar\":{\"outlinewidth\":1,\"tickcolor\":\"rgb(36,36,36)\",\"ticks\":\"outside\"}},\"type\":\"scatterpolargl\"}],\"scatterpolar\":[{\"marker\":{\"colorbar\":{\"outlinewidth\":1,\"tickcolor\":\"rgb(36,36,36)\",\"ticks\":\"outside\"}},\"type\":\"scatterpolar\"}],\"scatter\":[{\"marker\":{\"colorbar\":{\"outlinewidth\":1,\"tickcolor\":\"rgb(36,36,36)\",\"ticks\":\"outside\"}},\"type\":\"scatter\"}],\"scatterternary\":[{\"marker\":{\"colorbar\":{\"outlinewidth\":1,\"tickcolor\":\"rgb(36,36,36)\",\"ticks\":\"outside\"}},\"type\":\"scatterternary\"}],\"surface\":[{\"colorbar\":{\"outlinewidth\":1,\"tickcolor\":\"rgb(36,36,36)\",\"ticks\":\"outside\"},\"colorscale\":[[0.0,\"#440154\"],[0.1111111111111111,\"#482878\"],[0.2222222222222222,\"#3e4989\"],[0.3333333333333333,\"#31688e\"],[0.4444444444444444,\"#26828e\"],[0.5555555555555556,\"#1f9e89\"],[0.6666666666666666,\"#35b779\"],[0.7777777777777778,\"#6ece58\"],[0.8888888888888888,\"#b5de2b\"],[1.0,\"#fde725\"]],\"type\":\"surface\"}],\"table\":[{\"cells\":{\"fill\":{\"color\":\"rgb(237,237,237)\"},\"line\":{\"color\":\"white\"}},\"header\":{\"fill\":{\"color\":\"rgb(217,217,217)\"},\"line\":{\"color\":\"white\"}},\"type\":\"table\"}]},\"layout\":{\"annotationdefaults\":{\"arrowhead\":0,\"arrowwidth\":1},\"autotypenumbers\":\"strict\",\"coloraxis\":{\"colorbar\":{\"outlinewidth\":1,\"tickcolor\":\"rgb(36,36,36)\",\"ticks\":\"outside\"}},\"colorscale\":{\"diverging\":[[0.0,\"rgb(103,0,31)\"],[0.1,\"rgb(178,24,43)\"],[0.2,\"rgb(214,96,77)\"],[0.3,\"rgb(244,165,130)\"],[0.4,\"rgb(253,219,199)\"],[0.5,\"rgb(247,247,247)\"],[0.6,\"rgb(209,229,240)\"],[0.7,\"rgb(146,197,222)\"],[0.8,\"rgb(67,147,195)\"],[0.9,\"rgb(33,102,172)\"],[1.0,\"rgb(5,48,97)\"]],\"sequential\":[[0.0,\"#440154\"],[0.1111111111111111,\"#482878\"],[0.2222222222222222,\"#3e4989\"],[0.3333333333333333,\"#31688e\"],[0.4444444444444444,\"#26828e\"],[0.5555555555555556,\"#1f9e89\"],[0.6666666666666666,\"#35b779\"],[0.7777777777777778,\"#6ece58\"],[0.8888888888888888,\"#b5de2b\"],[1.0,\"#fde725\"]],\"sequentialminus\":[[0.0,\"#440154\"],[0.1111111111111111,\"#482878\"],[0.2222222222222222,\"#3e4989\"],[0.3333333333333333,\"#31688e\"],[0.4444444444444444,\"#26828e\"],[0.5555555555555556,\"#1f9e89\"],[0.6666666666666666,\"#35b779\"],[0.7777777777777778,\"#6ece58\"],[0.8888888888888888,\"#b5de2b\"],[1.0,\"#fde725\"]]},\"colorway\":[\"#1F77B4\",\"#FF7F0E\",\"#2CA02C\",\"#D62728\",\"#9467BD\",\"#8C564B\",\"#E377C2\",\"#7F7F7F\",\"#BCBD22\",\"#17BECF\"],\"font\":{\"color\":\"rgb(36,36,36)\"},\"geo\":{\"bgcolor\":\"white\",\"lakecolor\":\"white\",\"landcolor\":\"white\",\"showlakes\":true,\"showland\":true,\"subunitcolor\":\"white\"},\"hoverlabel\":{\"align\":\"left\"},\"hovermode\":\"closest\",\"mapbox\":{\"style\":\"light\"},\"paper_bgcolor\":\"white\",\"plot_bgcolor\":\"white\",\"polar\":{\"angularaxis\":{\"gridcolor\":\"rgb(232,232,232)\",\"linecolor\":\"rgb(36,36,36)\",\"showgrid\":false,\"showline\":true,\"ticks\":\"outside\"},\"bgcolor\":\"white\",\"radialaxis\":{\"gridcolor\":\"rgb(232,232,232)\",\"linecolor\":\"rgb(36,36,36)\",\"showgrid\":false,\"showline\":true,\"ticks\":\"outside\"}},\"scene\":{\"xaxis\":{\"backgroundcolor\":\"white\",\"gridcolor\":\"rgb(232,232,232)\",\"gridwidth\":2,\"linecolor\":\"rgb(36,36,36)\",\"showbackground\":true,\"showgrid\":false,\"showline\":true,\"ticks\":\"outside\",\"zeroline\":false,\"zerolinecolor\":\"rgb(36,36,36)\"},\"yaxis\":{\"backgroundcolor\":\"white\",\"gridcolor\":\"rgb(232,232,232)\",\"gridwidth\":2,\"linecolor\":\"rgb(36,36,36)\",\"showbackground\":true,\"showgrid\":false,\"showline\":true,\"ticks\":\"outside\",\"zeroline\":false,\"zerolinecolor\":\"rgb(36,36,36)\"},\"zaxis\":{\"backgroundcolor\":\"white\",\"gridcolor\":\"rgb(232,232,232)\",\"gridwidth\":2,\"linecolor\":\"rgb(36,36,36)\",\"showbackground\":true,\"showgrid\":false,\"showline\":true,\"ticks\":\"outside\",\"zeroline\":false,\"zerolinecolor\":\"rgb(36,36,36)\"}},\"shapedefaults\":{\"fillcolor\":\"black\",\"line\":{\"width\":0},\"opacity\":0.3},\"ternary\":{\"aaxis\":{\"gridcolor\":\"rgb(232,232,232)\",\"linecolor\":\"rgb(36,36,36)\",\"showgrid\":false,\"showline\":true,\"ticks\":\"outside\"},\"baxis\":{\"gridcolor\":\"rgb(232,232,232)\",\"linecolor\":\"rgb(36,36,36)\",\"showgrid\":false,\"showline\":true,\"ticks\":\"outside\"},\"bgcolor\":\"white\",\"caxis\":{\"gridcolor\":\"rgb(232,232,232)\",\"linecolor\":\"rgb(36,36,36)\",\"showgrid\":false,\"showline\":true,\"ticks\":\"outside\"}},\"title\":{\"x\":0.05},\"xaxis\":{\"automargin\":true,\"gridcolor\":\"rgb(232,232,232)\",\"linecolor\":\"rgb(36,36,36)\",\"showgrid\":false,\"showline\":true,\"ticks\":\"outside\",\"title\":{\"standoff\":15},\"zeroline\":false,\"zerolinecolor\":\"rgb(36,36,36)\"},\"yaxis\":{\"automargin\":true,\"gridcolor\":\"rgb(232,232,232)\",\"linecolor\":\"rgb(36,36,36)\",\"showgrid\":false,\"showline\":true,\"ticks\":\"outside\",\"title\":{\"standoff\":15},\"zeroline\":false,\"zerolinecolor\":\"rgb(36,36,36)\"},\"margin\":{\"b\":0,\"l\":20,\"r\":20,\"t\":40}}},\"xaxis\":{\"anchor\":\"y\",\"domain\":[0.0,0.45]},\"yaxis\":{\"anchor\":\"x\",\"domain\":[0.0,1.0]},\"xaxis2\":{\"anchor\":\"y2\",\"domain\":[0.55,1.0]},\"yaxis2\":{\"anchor\":\"x2\",\"domain\":[0.0,1.0]},\"annotations\":[{\"font\":{\"size\":16},\"showarrow\":false,\"text\":\"$\\\\text{Simulated Data: }y=x^4-2x^3-0.5x^2+1$\",\"x\":0.225,\"xanchor\":\"center\",\"xref\":\"paper\",\"y\":1.0,\"yanchor\":\"bottom\",\"yref\":\"paper\"},{\"font\":{\"size\":16},\"showarrow\":false,\"text\":\"$\\\\text{Positions Salary}$\",\"x\":0.775,\"xanchor\":\"center\",\"xref\":\"paper\",\"y\":1.0,\"yanchor\":\"bottom\",\"yref\":\"paper\"}],\"margin\":{\"t\":100},\"title\":{\"text\":\"$\\\\text{(1) Datasets For Polynomial Fitting}$\"}},                        {\"responsive\": true}                    ).then(function(){\n",
       "                            \n",
       "var gd = document.getElementById('1d4d493f-d5a8-44cb-9d03-30372cbd4e43');\n",
       "var x = new MutationObserver(function (mutations, observer) {{\n",
       "        var display = window.getComputedStyle(gd).display;\n",
       "        if (!display || display === 'none') {{\n",
       "            console.log([gd, 'removed!']);\n",
       "            Plotly.purge(gd);\n",
       "            observer.disconnect();\n",
       "        }}\n",
       "}});\n",
       "\n",
       "// Listen for the removal of the full notebook cells\n",
       "var notebookContainer = gd.closest('#notebook-container');\n",
       "if (notebookContainer) {{\n",
       "    x.observe(notebookContainer, {childList: true});\n",
       "}}\n",
       "\n",
       "// Listen for the clearing of the current output cell\n",
       "var outputEl = gd.closest('.output');\n",
       "if (outputEl) {{\n",
       "    x.observe(outputEl, {childList: true});\n",
       "}}\n",
       "\n",
       "                        })                };                });            </script>        </div>"
      ]
     },
     "metadata": {},
     "output_type": "display_data"
    }
   ],
   "source": [
    "response = lambda x: x**4 - 2*x**3 - .5*x**2 + 1\n",
    "\n",
    "x = np.linspace(-1.2, 2, 40)[0::2]\n",
    "y_ = response(x)\n",
    "\n",
    "df = pd.read_csv(\"../datasets/Position_Salaries.csv\", skiprows=2, index_col=0)\n",
    "x2, y2 = df.index, df.Salary\n",
    "\n",
    "make_subplots(1, 2, subplot_titles=(r\"$\\text{Simulated Data: }y=x^4-2x^3-0.5x^2+1$\", r\"$\\text{Positions Salary}$\"))\\\n",
    "    .add_traces([go.Scatter(x=x, y=y_, mode=\"markers\", marker=dict(color=\"black\", opacity=.7), showlegend=False),\n",
    "                 go.Scatter(x=x2, y=y2, mode=\"markers\",marker=dict(color=\"black\", opacity=.7), showlegend=False)], \n",
    "                rows=[1,1], cols=[1,2])\\\n",
    "    .update_layout(title=r\"$\\text{(1) Datasets For Polynomial Fitting}$\", margin=dict(t=100)).show()\n",
    "\n"
   ]
  },
  {
   "cell_type": "markdown",
   "metadata": {
    "pycharm": {
     "name": "#%% md\n"
    }
   },
   "source": [
    "As we have discussed in class, solving a polynomial fitting problem can be done by first manipulating the input data,\n",
    "such that we represent each sample $x_i\\in\\mathbb{R}$ as a vector $\\mathbf{x}_i=\\left(x^0,x^1,\\ldots,x^k\\right)$. Then,\n",
    "we treat the data as a design matrix $\\mathbf{X}\\in\\mathbb{R}^{m\\times k}$ of a linear regression problem.\n",
    "\n",
    "For the simulated dataset above, which is of a polynomial of degree 4, the design matrix looks as follows: \n"
   ]
  },
  {
   "cell_type": "code",
   "execution_count": 3,
   "metadata": {
    "pycharm": {
     "is_executing": false,
     "name": "#%%\n"
    }
   },
   "outputs": [
    {
     "data": {
      "text/html": [
       "<div>\n",
       "<style scoped>\n",
       "    .dataframe tbody tr th:only-of-type {\n",
       "        vertical-align: middle;\n",
       "    }\n",
       "\n",
       "    .dataframe tbody tr th {\n",
       "        vertical-align: top;\n",
       "    }\n",
       "\n",
       "    .dataframe thead th {\n",
       "        text-align: right;\n",
       "    }\n",
       "</style>\n",
       "<table border=\"1\" class=\"dataframe\">\n",
       "  <thead>\n",
       "    <tr style=\"text-align: right;\">\n",
       "      <th></th>\n",
       "      <th>$x^0$</th>\n",
       "      <th>$x^1$</th>\n",
       "      <th>$x^2$</th>\n",
       "      <th>$x^3$</th>\n",
       "      <th>$x^4$</th>\n",
       "    </tr>\n",
       "  </thead>\n",
       "  <tbody>\n",
       "    <tr>\n",
       "      <th>$x_1$</th>\n",
       "      <td>1.0</td>\n",
       "      <td>-1.200000</td>\n",
       "      <td>1.440000</td>\n",
       "      <td>-1.728000</td>\n",
       "      <td>2.073600</td>\n",
       "    </tr>\n",
       "    <tr>\n",
       "      <th>$x_2$</th>\n",
       "      <td>1.0</td>\n",
       "      <td>-1.035897</td>\n",
       "      <td>1.073083</td>\n",
       "      <td>-1.111604</td>\n",
       "      <td>1.151508</td>\n",
       "    </tr>\n",
       "    <tr>\n",
       "      <th>$x_3$</th>\n",
       "      <td>1.0</td>\n",
       "      <td>-0.871795</td>\n",
       "      <td>0.760026</td>\n",
       "      <td>-0.662587</td>\n",
       "      <td>0.577640</td>\n",
       "    </tr>\n",
       "    <tr>\n",
       "      <th>$x_4$</th>\n",
       "      <td>1.0</td>\n",
       "      <td>-0.707692</td>\n",
       "      <td>0.500828</td>\n",
       "      <td>-0.354432</td>\n",
       "      <td>0.250829</td>\n",
       "    </tr>\n",
       "    <tr>\n",
       "      <th>$x_5$</th>\n",
       "      <td>1.0</td>\n",
       "      <td>-0.543590</td>\n",
       "      <td>0.295490</td>\n",
       "      <td>-0.160625</td>\n",
       "      <td>0.087314</td>\n",
       "    </tr>\n",
       "  </tbody>\n",
       "</table>\n",
       "</div>"
      ],
      "text/plain": [
       "       $x^0$     $x^1$     $x^2$     $x^3$     $x^4$\n",
       "$x_1$    1.0 -1.200000  1.440000 -1.728000  2.073600\n",
       "$x_2$    1.0 -1.035897  1.073083 -1.111604  1.151508\n",
       "$x_3$    1.0 -0.871795  0.760026 -0.662587  0.577640\n",
       "$x_4$    1.0 -0.707692  0.500828 -0.354432  0.250829\n",
       "$x_5$    1.0 -0.543590  0.295490 -0.160625  0.087314"
      ]
     },
     "execution_count": 3,
     "metadata": {},
     "output_type": "execute_result"
    }
   ],
   "source": [
    "from sklearn.preprocessing import PolynomialFeatures\n",
    "m, k, X = 5, 4, x.reshape(-1, 1)\n",
    "pd.DataFrame(PolynomialFeatures(k).fit_transform(X[:m]), \n",
    "             columns=[rf\"$x^{{0}}$\".format(i) for i in range(0, k+1)],\n",
    "             index=[rf\"$x_{{0}}$\".format(i) for i in range(1, m+1)])"
   ]
  },
  {
   "cell_type": "markdown",
   "metadata": {
    "pycharm": {
     "name": "#%% md\n"
    }
   },
   "source": [
    "## Fitting A Polynomial Of Different Degrees\n",
    "\n",
    "Next, let us fit polynomials of different degrees and different noise properties to study how it influences the learned model.\n",
    "We begin with the noise-less case where we fit for different values of $k$. As we increase $k$ we manage to fit a model\n",
    "that describes the data in a better way, reflected by the decrease in the MSE.\n",
    "\n",
    "*Notice that in both the `PolynomialFeatures` and `LinearRegression` functions we can add the bias/intercept parameter. As in this case it makes no difference, we will include the bias in the polynomial features transformation and fit a linear regression **without** an intercept. The bias parameter of the polynomial features (i.e. $x^0$) will in reality be the intercept of the linear regression.*"
   ]
  },
  {
   "cell_type": "code",
   "execution_count": 4,
   "metadata": {
    "pycharm": {
     "is_executing": false,
     "name": "#%%\n"
    }
   },
   "outputs": [
    {
     "data": {
      "application/vnd.plotly.v1+json": {
       "config": {
        "plotlyServerURL": "https://plot.ly"
       },
       "data": [
        {
         "marker": {
          "color": "black",
          "opacity": 0.7
         },
         "mode": "markers",
         "name": "Real Points",
         "showlegend": false,
         "type": "scatter",
         "x": [
          -1.2,
          -1.0358974358974358,
          -0.8717948717948718,
          -0.7076923076923076,
          -0.5435897435897435,
          -0.37948717948717947,
          -0.21538461538461529,
          -0.05128205128205132,
          0.11282051282051286,
          0.27692307692307705,
          0.441025641025641,
          0.6051282051282052,
          0.7692307692307694,
          0.9333333333333333,
          1.0974358974358973,
          1.2615384615384617,
          1.4256410256410257,
          1.5897435897435896,
          1.753846153846154,
          1.917948717948718
         ],
         "xaxis": "x",
         "y": [
          5.8096,
          3.8381753317244733,
          2.522800884051074,
          1.7092797030916282,
          1.2608197821340592,
          1.058034061642376,
          0.9989404292566787,
          0.9989617197931566,
          0.9909257152440888,
          0.9250651447778439,
          0.7690176847388803,
          0.5078259586477458,
          0.14393753720107805,
          -0.3027950617283952,
          -0.7951143730918573,
          -1.278357984664403,
          -1.6804585370450331,
          -1.911943723656666,
          -1.8659362907461214,
          -1.418154037384138
         ],
         "yaxis": "y"
        },
        {
         "marker": {
          "color": "blue",
          "opacity": 0.7
         },
         "mode": "markers",
         "name": "Predicted Points",
         "showlegend": false,
         "type": "scatter",
         "x": [
          -1.2,
          -1.0358974358974358,
          -0.8717948717948718,
          -0.7076923076923076,
          -0.5435897435897435,
          -0.37948717948717947,
          -0.21538461538461529,
          -0.05128205128205132,
          0.11282051282051286,
          0.27692307692307705,
          0.441025641025641,
          0.6051282051282052,
          0.7692307692307694,
          0.9333333333333333,
          1.0974358974358973,
          1.2615384615384617,
          1.4256410256410257,
          1.5897435897435896,
          1.753846153846154,
          1.917948717948718
         ],
         "xaxis": "x",
         "y": [
          4.121178320220212,
          3.621909150479429,
          3.144322612133674,
          2.6884187051829453,
          2.254197429627244,
          1.84165878546657,
          1.450802772700923,
          1.0816293913303034,
          0.7341386413547103,
          0.4083305227741445,
          0.1042050355886062,
          -0.1782378202019054,
          -0.43899804459739,
          -0.6780756375978471,
          -0.8954705992032772,
          -1.0911829294136806,
          -1.2652126282290568,
          -1.417559695649405,
          -1.5482241316747272,
          -1.6572059363050222
         ],
         "yaxis": "y"
        },
        {
         "marker": {
          "color": "black",
          "opacity": 0.7
         },
         "mode": "markers",
         "name": "Real Points",
         "showlegend": false,
         "type": "scatter",
         "x": [
          -1.2,
          -1.0358974358974358,
          -0.8717948717948718,
          -0.7076923076923076,
          -0.5435897435897435,
          -0.37948717948717947,
          -0.21538461538461529,
          -0.05128205128205132,
          0.11282051282051286,
          0.27692307692307705,
          0.441025641025641,
          0.6051282051282052,
          0.7692307692307694,
          0.9333333333333333,
          1.0974358974358973,
          1.2615384615384617,
          1.4256410256410257,
          1.5897435897435896,
          1.753846153846154,
          1.917948717948718
         ],
         "xaxis": "x2",
         "y": [
          5.8096,
          3.8381753317244733,
          2.522800884051074,
          1.7092797030916282,
          1.2608197821340592,
          1.058034061642376,
          0.9989404292566787,
          0.9989617197931566,
          0.9909257152440888,
          0.9250651447778439,
          0.7690176847388803,
          0.5078259586477458,
          0.14393753720107805,
          -0.3027950617283952,
          -0.7951143730918573,
          -1.278357984664403,
          -1.6804585370450331,
          -1.911943723656666,
          -1.8659362907461214,
          -1.418154037384138
         ],
         "yaxis": "y2"
        },
        {
         "marker": {
          "color": "blue",
          "opacity": 0.7
         },
         "mode": "markers",
         "name": "Predicted Points",
         "showlegend": false,
         "type": "scatter",
         "x": [
          -1.2,
          -1.0358974358974358,
          -0.8717948717948718,
          -0.7076923076923076,
          -0.5435897435897435,
          -0.37948717948717947,
          -0.21538461538461529,
          -0.05128205128205132,
          0.11282051282051286,
          0.27692307692307705,
          0.441025641025641,
          0.6051282051282052,
          0.7692307692307694,
          0.9333333333333333,
          1.0974358974358973,
          1.2615384615384617,
          1.4256410256410257,
          1.5897435897435896,
          1.753846153846154,
          1.917948717948718
         ],
         "xaxis": "x2",
         "y": [
          4.845863210649666,
          3.8888983206376504,
          3.0807537620960055,
          2.4064721585452773,
          1.8510961335060143,
          1.3996683104987648,
          1.0372313130440765,
          0.7488277646624975,
          0.5195002888745753,
          0.33429150920085837,
          0.17824404916189468,
          0.03640053227823181,
          -0.10619641792958201,
          -0.2645041779409986,
          -0.45348012423547,
          -0.6880816332924495,
          -0.9832660815913872,
          -1.3539908456117362,
          -1.8152133018329493,
          -2.3818908267344763
         ],
         "yaxis": "y2"
        },
        {
         "marker": {
          "color": "black",
          "opacity": 0.7
         },
         "mode": "markers",
         "name": "Real Points",
         "showlegend": false,
         "type": "scatter",
         "x": [
          -1.2,
          -1.0358974358974358,
          -0.8717948717948718,
          -0.7076923076923076,
          -0.5435897435897435,
          -0.37948717948717947,
          -0.21538461538461529,
          -0.05128205128205132,
          0.11282051282051286,
          0.27692307692307705,
          0.441025641025641,
          0.6051282051282052,
          0.7692307692307694,
          0.9333333333333333,
          1.0974358974358973,
          1.2615384615384617,
          1.4256410256410257,
          1.5897435897435896,
          1.753846153846154,
          1.917948717948718
         ],
         "xaxis": "x3",
         "y": [
          5.8096,
          3.8381753317244733,
          2.522800884051074,
          1.7092797030916282,
          1.2608197821340592,
          1.058034061642376,
          0.9989404292566787,
          0.9989617197931566,
          0.9909257152440888,
          0.9250651447778439,
          0.7690176847388803,
          0.5078259586477458,
          0.14393753720107805,
          -0.3027950617283952,
          -0.7951143730918573,
          -1.278357984664403,
          -1.6804585370450331,
          -1.911943723656666,
          -1.8659362907461214,
          -1.418154037384138
         ],
         "yaxis": "y3"
        },
        {
         "marker": {
          "color": "blue",
          "opacity": 0.7
         },
         "mode": "markers",
         "name": "Predicted Points",
         "showlegend": false,
         "type": "scatter",
         "x": [
          -1.2,
          -1.0358974358974358,
          -0.8717948717948718,
          -0.7076923076923076,
          -0.5435897435897435,
          -0.37948717948717947,
          -0.21538461538461529,
          -0.05128205128205132,
          0.11282051282051286,
          0.27692307692307705,
          0.441025641025641,
          0.6051282051282052,
          0.7692307692307694,
          0.9333333333333333,
          1.0974358974358973,
          1.2615384615384617,
          1.4256410256410257,
          1.5897435897435896,
          1.753846153846154,
          1.917948717948718
         ],
         "xaxis": "x3",
         "y": [
          5.809600000000005,
          3.838175331724477,
          2.5228008840510765,
          1.7092797030916298,
          1.26081978213406,
          1.0580340616423765,
          0.9989404292566788,
          0.9989617197931565,
          0.9909257152440889,
          0.9250651447778441,
          0.7690176847388805,
          0.507825958647746,
          0.1439375372010787,
          -0.3027950617283941,
          -0.7951143730918564,
          -1.2783579846644013,
          -1.6804585370450322,
          -1.9119437236566643,
          -1.86593629074612,
          -1.4181540373841361
         ],
         "yaxis": "y3"
        },
        {
         "marker": {
          "color": "black",
          "opacity": 0.7
         },
         "mode": "markers",
         "name": "Real Points",
         "showlegend": false,
         "type": "scatter",
         "x": [
          -1.2,
          -1.0358974358974358,
          -0.8717948717948718,
          -0.7076923076923076,
          -0.5435897435897435,
          -0.37948717948717947,
          -0.21538461538461529,
          -0.05128205128205132,
          0.11282051282051286,
          0.27692307692307705,
          0.441025641025641,
          0.6051282051282052,
          0.7692307692307694,
          0.9333333333333333,
          1.0974358974358973,
          1.2615384615384617,
          1.4256410256410257,
          1.5897435897435896,
          1.753846153846154,
          1.917948717948718
         ],
         "xaxis": "x4",
         "y": [
          5.8096,
          3.8381753317244733,
          2.522800884051074,
          1.7092797030916282,
          1.2608197821340592,
          1.058034061642376,
          0.9989404292566787,
          0.9989617197931566,
          0.9909257152440888,
          0.9250651447778439,
          0.7690176847388803,
          0.5078259586477458,
          0.14393753720107805,
          -0.3027950617283952,
          -0.7951143730918573,
          -1.278357984664403,
          -1.6804585370450331,
          -1.911943723656666,
          -1.8659362907461214,
          -1.418154037384138
         ],
         "yaxis": "y4"
        },
        {
         "marker": {
          "color": "blue",
          "opacity": 0.7
         },
         "mode": "markers",
         "name": "Predicted Points",
         "showlegend": false,
         "type": "scatter",
         "x": [
          -1.2,
          -1.0358974358974358,
          -0.8717948717948718,
          -0.7076923076923076,
          -0.5435897435897435,
          -0.37948717948717947,
          -0.21538461538461529,
          -0.05128205128205132,
          0.11282051282051286,
          0.27692307692307705,
          0.441025641025641,
          0.6051282051282052,
          0.7692307692307694,
          0.9333333333333333,
          1.0974358974358973,
          1.2615384615384617,
          1.4256410256410257,
          1.5897435897435896,
          1.753846153846154,
          1.917948717948718
         ],
         "xaxis": "x4",
         "y": [
          5.809599999999998,
          3.838175331724473,
          2.5228008840510743,
          1.7092797030916287,
          1.2608197821340597,
          1.058034061642376,
          0.9989404292566785,
          0.9989617197931561,
          0.9909257152440882,
          0.9250651447778431,
          0.769017684738879,
          0.5078259586477445,
          0.14393753720107605,
          -0.3027950617283979,
          -0.7951143730918604,
          -1.2783579846644062,
          -1.6804585370450358,
          -1.911943723656667,
          -1.86593629074612,
          -1.4181540373841326
         ],
         "yaxis": "y4"
        }
       ],
       "layout": {
        "annotations": [
         {
          "font": {
           "size": 16
          },
          "showarrow": false,
          "text": "$k=2, MSE=0.42$",
          "x": 0.10625,
          "xanchor": "center",
          "xref": "paper",
          "y": 1,
          "yanchor": "bottom",
          "yref": "paper"
         },
         {
          "font": {
           "size": 16
          },
          "showarrow": false,
          "text": "$k=3, MSE=0.28$",
          "x": 0.36875,
          "xanchor": "center",
          "xref": "paper",
          "y": 1,
          "yanchor": "bottom",
          "yref": "paper"
         },
         {
          "font": {
           "size": 16
          },
          "showarrow": false,
          "text": "$k=4, MSE=0.0$",
          "x": 0.6312500000000001,
          "xanchor": "center",
          "xref": "paper",
          "y": 1,
          "yanchor": "bottom",
          "yref": "paper"
         },
         {
          "font": {
           "size": 16
          },
          "showarrow": false,
          "text": "$k=5, MSE=0.0$",
          "x": 0.89375,
          "xanchor": "center",
          "xref": "paper",
          "y": 1,
          "yanchor": "bottom",
          "yref": "paper"
         }
        ],
        "height": 300,
        "margin": {
         "t": 60
        },
        "template": {
         "data": {
          "bar": [
           {
            "error_x": {
             "color": "rgb(36,36,36)"
            },
            "error_y": {
             "color": "rgb(36,36,36)"
            },
            "marker": {
             "line": {
              "color": "white",
              "width": 0.5
             }
            },
            "type": "bar"
           }
          ],
          "barpolar": [
           {
            "marker": {
             "line": {
              "color": "white",
              "width": 0.5
             }
            },
            "type": "barpolar"
           }
          ],
          "carpet": [
           {
            "aaxis": {
             "endlinecolor": "rgb(36,36,36)",
             "gridcolor": "white",
             "linecolor": "white",
             "minorgridcolor": "white",
             "startlinecolor": "rgb(36,36,36)"
            },
            "baxis": {
             "endlinecolor": "rgb(36,36,36)",
             "gridcolor": "white",
             "linecolor": "white",
             "minorgridcolor": "white",
             "startlinecolor": "rgb(36,36,36)"
            },
            "type": "carpet"
           }
          ],
          "choropleth": [
           {
            "colorbar": {
             "outlinewidth": 1,
             "tickcolor": "rgb(36,36,36)",
             "ticks": "outside"
            },
            "type": "choropleth"
           }
          ],
          "contour": [
           {
            "colorbar": {
             "outlinewidth": 1,
             "tickcolor": "rgb(36,36,36)",
             "ticks": "outside"
            },
            "colorscale": [
             [
              0,
              "#440154"
             ],
             [
              0.1111111111111111,
              "#482878"
             ],
             [
              0.2222222222222222,
              "#3e4989"
             ],
             [
              0.3333333333333333,
              "#31688e"
             ],
             [
              0.4444444444444444,
              "#26828e"
             ],
             [
              0.5555555555555556,
              "#1f9e89"
             ],
             [
              0.6666666666666666,
              "#35b779"
             ],
             [
              0.7777777777777778,
              "#6ece58"
             ],
             [
              0.8888888888888888,
              "#b5de2b"
             ],
             [
              1,
              "#fde725"
             ]
            ],
            "type": "contour"
           }
          ],
          "contourcarpet": [
           {
            "colorbar": {
             "outlinewidth": 1,
             "tickcolor": "rgb(36,36,36)",
             "ticks": "outside"
            },
            "type": "contourcarpet"
           }
          ],
          "heatmap": [
           {
            "colorbar": {
             "outlinewidth": 1,
             "tickcolor": "rgb(36,36,36)",
             "ticks": "outside"
            },
            "colorscale": [
             [
              0,
              "#440154"
             ],
             [
              0.1111111111111111,
              "#482878"
             ],
             [
              0.2222222222222222,
              "#3e4989"
             ],
             [
              0.3333333333333333,
              "#31688e"
             ],
             [
              0.4444444444444444,
              "#26828e"
             ],
             [
              0.5555555555555556,
              "#1f9e89"
             ],
             [
              0.6666666666666666,
              "#35b779"
             ],
             [
              0.7777777777777778,
              "#6ece58"
             ],
             [
              0.8888888888888888,
              "#b5de2b"
             ],
             [
              1,
              "#fde725"
             ]
            ],
            "type": "heatmap"
           }
          ],
          "heatmapgl": [
           {
            "colorbar": {
             "outlinewidth": 1,
             "tickcolor": "rgb(36,36,36)",
             "ticks": "outside"
            },
            "colorscale": [
             [
              0,
              "#440154"
             ],
             [
              0.1111111111111111,
              "#482878"
             ],
             [
              0.2222222222222222,
              "#3e4989"
             ],
             [
              0.3333333333333333,
              "#31688e"
             ],
             [
              0.4444444444444444,
              "#26828e"
             ],
             [
              0.5555555555555556,
              "#1f9e89"
             ],
             [
              0.6666666666666666,
              "#35b779"
             ],
             [
              0.7777777777777778,
              "#6ece58"
             ],
             [
              0.8888888888888888,
              "#b5de2b"
             ],
             [
              1,
              "#fde725"
             ]
            ],
            "type": "heatmapgl"
           }
          ],
          "histogram": [
           {
            "marker": {
             "line": {
              "color": "white",
              "width": 0.6
             }
            },
            "type": "histogram"
           }
          ],
          "histogram2d": [
           {
            "colorbar": {
             "outlinewidth": 1,
             "tickcolor": "rgb(36,36,36)",
             "ticks": "outside"
            },
            "colorscale": [
             [
              0,
              "#440154"
             ],
             [
              0.1111111111111111,
              "#482878"
             ],
             [
              0.2222222222222222,
              "#3e4989"
             ],
             [
              0.3333333333333333,
              "#31688e"
             ],
             [
              0.4444444444444444,
              "#26828e"
             ],
             [
              0.5555555555555556,
              "#1f9e89"
             ],
             [
              0.6666666666666666,
              "#35b779"
             ],
             [
              0.7777777777777778,
              "#6ece58"
             ],
             [
              0.8888888888888888,
              "#b5de2b"
             ],
             [
              1,
              "#fde725"
             ]
            ],
            "type": "histogram2d"
           }
          ],
          "histogram2dcontour": [
           {
            "colorbar": {
             "outlinewidth": 1,
             "tickcolor": "rgb(36,36,36)",
             "ticks": "outside"
            },
            "colorscale": [
             [
              0,
              "#440154"
             ],
             [
              0.1111111111111111,
              "#482878"
             ],
             [
              0.2222222222222222,
              "#3e4989"
             ],
             [
              0.3333333333333333,
              "#31688e"
             ],
             [
              0.4444444444444444,
              "#26828e"
             ],
             [
              0.5555555555555556,
              "#1f9e89"
             ],
             [
              0.6666666666666666,
              "#35b779"
             ],
             [
              0.7777777777777778,
              "#6ece58"
             ],
             [
              0.8888888888888888,
              "#b5de2b"
             ],
             [
              1,
              "#fde725"
             ]
            ],
            "type": "histogram2dcontour"
           }
          ],
          "mesh3d": [
           {
            "colorbar": {
             "outlinewidth": 1,
             "tickcolor": "rgb(36,36,36)",
             "ticks": "outside"
            },
            "type": "mesh3d"
           }
          ],
          "parcoords": [
           {
            "line": {
             "colorbar": {
              "outlinewidth": 1,
              "tickcolor": "rgb(36,36,36)",
              "ticks": "outside"
             }
            },
            "type": "parcoords"
           }
          ],
          "pie": [
           {
            "automargin": true,
            "type": "pie"
           }
          ],
          "scatter": [
           {
            "marker": {
             "colorbar": {
              "outlinewidth": 1,
              "tickcolor": "rgb(36,36,36)",
              "ticks": "outside"
             }
            },
            "type": "scatter"
           }
          ],
          "scatter3d": [
           {
            "line": {
             "colorbar": {
              "outlinewidth": 1,
              "tickcolor": "rgb(36,36,36)",
              "ticks": "outside"
             }
            },
            "marker": {
             "colorbar": {
              "outlinewidth": 1,
              "tickcolor": "rgb(36,36,36)",
              "ticks": "outside"
             }
            },
            "type": "scatter3d"
           }
          ],
          "scattercarpet": [
           {
            "marker": {
             "colorbar": {
              "outlinewidth": 1,
              "tickcolor": "rgb(36,36,36)",
              "ticks": "outside"
             }
            },
            "type": "scattercarpet"
           }
          ],
          "scattergeo": [
           {
            "marker": {
             "colorbar": {
              "outlinewidth": 1,
              "tickcolor": "rgb(36,36,36)",
              "ticks": "outside"
             }
            },
            "type": "scattergeo"
           }
          ],
          "scattergl": [
           {
            "marker": {
             "colorbar": {
              "outlinewidth": 1,
              "tickcolor": "rgb(36,36,36)",
              "ticks": "outside"
             }
            },
            "type": "scattergl"
           }
          ],
          "scattermapbox": [
           {
            "marker": {
             "colorbar": {
              "outlinewidth": 1,
              "tickcolor": "rgb(36,36,36)",
              "ticks": "outside"
             }
            },
            "type": "scattermapbox"
           }
          ],
          "scatterpolar": [
           {
            "marker": {
             "colorbar": {
              "outlinewidth": 1,
              "tickcolor": "rgb(36,36,36)",
              "ticks": "outside"
             }
            },
            "type": "scatterpolar"
           }
          ],
          "scatterpolargl": [
           {
            "marker": {
             "colorbar": {
              "outlinewidth": 1,
              "tickcolor": "rgb(36,36,36)",
              "ticks": "outside"
             }
            },
            "type": "scatterpolargl"
           }
          ],
          "scatterternary": [
           {
            "marker": {
             "colorbar": {
              "outlinewidth": 1,
              "tickcolor": "rgb(36,36,36)",
              "ticks": "outside"
             }
            },
            "type": "scatterternary"
           }
          ],
          "surface": [
           {
            "colorbar": {
             "outlinewidth": 1,
             "tickcolor": "rgb(36,36,36)",
             "ticks": "outside"
            },
            "colorscale": [
             [
              0,
              "#440154"
             ],
             [
              0.1111111111111111,
              "#482878"
             ],
             [
              0.2222222222222222,
              "#3e4989"
             ],
             [
              0.3333333333333333,
              "#31688e"
             ],
             [
              0.4444444444444444,
              "#26828e"
             ],
             [
              0.5555555555555556,
              "#1f9e89"
             ],
             [
              0.6666666666666666,
              "#35b779"
             ],
             [
              0.7777777777777778,
              "#6ece58"
             ],
             [
              0.8888888888888888,
              "#b5de2b"
             ],
             [
              1,
              "#fde725"
             ]
            ],
            "type": "surface"
           }
          ],
          "table": [
           {
            "cells": {
             "fill": {
              "color": "rgb(237,237,237)"
             },
             "line": {
              "color": "white"
             }
            },
            "header": {
             "fill": {
              "color": "rgb(217,217,217)"
             },
             "line": {
              "color": "white"
             }
            },
            "type": "table"
           }
          ]
         },
         "layout": {
          "annotationdefaults": {
           "arrowhead": 0,
           "arrowwidth": 1
          },
          "autotypenumbers": "strict",
          "coloraxis": {
           "colorbar": {
            "outlinewidth": 1,
            "tickcolor": "rgb(36,36,36)",
            "ticks": "outside"
           }
          },
          "colorscale": {
           "diverging": [
            [
             0,
             "rgb(103,0,31)"
            ],
            [
             0.1,
             "rgb(178,24,43)"
            ],
            [
             0.2,
             "rgb(214,96,77)"
            ],
            [
             0.3,
             "rgb(244,165,130)"
            ],
            [
             0.4,
             "rgb(253,219,199)"
            ],
            [
             0.5,
             "rgb(247,247,247)"
            ],
            [
             0.6,
             "rgb(209,229,240)"
            ],
            [
             0.7,
             "rgb(146,197,222)"
            ],
            [
             0.8,
             "rgb(67,147,195)"
            ],
            [
             0.9,
             "rgb(33,102,172)"
            ],
            [
             1,
             "rgb(5,48,97)"
            ]
           ],
           "sequential": [
            [
             0,
             "#440154"
            ],
            [
             0.1111111111111111,
             "#482878"
            ],
            [
             0.2222222222222222,
             "#3e4989"
            ],
            [
             0.3333333333333333,
             "#31688e"
            ],
            [
             0.4444444444444444,
             "#26828e"
            ],
            [
             0.5555555555555556,
             "#1f9e89"
            ],
            [
             0.6666666666666666,
             "#35b779"
            ],
            [
             0.7777777777777778,
             "#6ece58"
            ],
            [
             0.8888888888888888,
             "#b5de2b"
            ],
            [
             1,
             "#fde725"
            ]
           ],
           "sequentialminus": [
            [
             0,
             "#440154"
            ],
            [
             0.1111111111111111,
             "#482878"
            ],
            [
             0.2222222222222222,
             "#3e4989"
            ],
            [
             0.3333333333333333,
             "#31688e"
            ],
            [
             0.4444444444444444,
             "#26828e"
            ],
            [
             0.5555555555555556,
             "#1f9e89"
            ],
            [
             0.6666666666666666,
             "#35b779"
            ],
            [
             0.7777777777777778,
             "#6ece58"
            ],
            [
             0.8888888888888888,
             "#b5de2b"
            ],
            [
             1,
             "#fde725"
            ]
           ]
          },
          "colorway": [
           "#1F77B4",
           "#FF7F0E",
           "#2CA02C",
           "#D62728",
           "#9467BD",
           "#8C564B",
           "#E377C2",
           "#7F7F7F",
           "#BCBD22",
           "#17BECF"
          ],
          "font": {
           "color": "rgb(36,36,36)"
          },
          "geo": {
           "bgcolor": "white",
           "lakecolor": "white",
           "landcolor": "white",
           "showlakes": true,
           "showland": true,
           "subunitcolor": "white"
          },
          "hoverlabel": {
           "align": "left"
          },
          "hovermode": "closest",
          "mapbox": {
           "style": "light"
          },
          "margin": {
           "b": 0,
           "l": 20,
           "r": 20,
           "t": 40
          },
          "paper_bgcolor": "white",
          "plot_bgcolor": "white",
          "polar": {
           "angularaxis": {
            "gridcolor": "rgb(232,232,232)",
            "linecolor": "rgb(36,36,36)",
            "showgrid": false,
            "showline": true,
            "ticks": "outside"
           },
           "bgcolor": "white",
           "radialaxis": {
            "gridcolor": "rgb(232,232,232)",
            "linecolor": "rgb(36,36,36)",
            "showgrid": false,
            "showline": true,
            "ticks": "outside"
           }
          },
          "scene": {
           "xaxis": {
            "backgroundcolor": "white",
            "gridcolor": "rgb(232,232,232)",
            "gridwidth": 2,
            "linecolor": "rgb(36,36,36)",
            "showbackground": true,
            "showgrid": false,
            "showline": true,
            "ticks": "outside",
            "zeroline": false,
            "zerolinecolor": "rgb(36,36,36)"
           },
           "yaxis": {
            "backgroundcolor": "white",
            "gridcolor": "rgb(232,232,232)",
            "gridwidth": 2,
            "linecolor": "rgb(36,36,36)",
            "showbackground": true,
            "showgrid": false,
            "showline": true,
            "ticks": "outside",
            "zeroline": false,
            "zerolinecolor": "rgb(36,36,36)"
           },
           "zaxis": {
            "backgroundcolor": "white",
            "gridcolor": "rgb(232,232,232)",
            "gridwidth": 2,
            "linecolor": "rgb(36,36,36)",
            "showbackground": true,
            "showgrid": false,
            "showline": true,
            "ticks": "outside",
            "zeroline": false,
            "zerolinecolor": "rgb(36,36,36)"
           }
          },
          "shapedefaults": {
           "fillcolor": "black",
           "line": {
            "width": 0
           },
           "opacity": 0.3
          },
          "ternary": {
           "aaxis": {
            "gridcolor": "rgb(232,232,232)",
            "linecolor": "rgb(36,36,36)",
            "showgrid": false,
            "showline": true,
            "ticks": "outside"
           },
           "baxis": {
            "gridcolor": "rgb(232,232,232)",
            "linecolor": "rgb(36,36,36)",
            "showgrid": false,
            "showline": true,
            "ticks": "outside"
           },
           "bgcolor": "white",
           "caxis": {
            "gridcolor": "rgb(232,232,232)",
            "linecolor": "rgb(36,36,36)",
            "showgrid": false,
            "showline": true,
            "ticks": "outside"
           }
          },
          "title": {
           "x": 0.05
          },
          "xaxis": {
           "automargin": true,
           "gridcolor": "rgb(232,232,232)",
           "linecolor": "rgb(36,36,36)",
           "showgrid": false,
           "showline": true,
           "ticks": "outside",
           "title": {
            "standoff": 15
           },
           "zeroline": false,
           "zerolinecolor": "rgb(36,36,36)"
          },
          "yaxis": {
           "automargin": true,
           "gridcolor": "rgb(232,232,232)",
           "linecolor": "rgb(36,36,36)",
           "showgrid": false,
           "showline": true,
           "ticks": "outside",
           "title": {
            "standoff": 15
           },
           "zeroline": false,
           "zerolinecolor": "rgb(36,36,36)"
          }
         }
        },
        "title": {
         "text": "$\\text{(2) Simulated Data - Fitting Polynomials of Different Degrees}$"
        },
        "xaxis": {
         "anchor": "y",
         "domain": [
          0,
          0.2125
         ]
        },
        "xaxis2": {
         "anchor": "y2",
         "domain": [
          0.2625,
          0.475
         ]
        },
        "xaxis3": {
         "anchor": "y3",
         "domain": [
          0.525,
          0.7375
         ]
        },
        "xaxis4": {
         "anchor": "y4",
         "domain": [
          0.7875,
          1
         ]
        },
        "yaxis": {
         "anchor": "x",
         "domain": [
          0,
          1
         ],
         "title": {
          "text": "$\\widehat{y}$"
         }
        },
        "yaxis2": {
         "anchor": "x2",
         "domain": [
          0,
          1
         ]
        },
        "yaxis3": {
         "anchor": "x3",
         "domain": [
          0,
          1
         ]
        },
        "yaxis4": {
         "anchor": "x4",
         "domain": [
          0,
          1
         ]
        }
       }
      },
      "text/html": [
       "<div>                            <div id=\"c02a38cd-0c8c-4d65-8628-66191a45d231\" class=\"plotly-graph-div\" style=\"height:300px; width:100%;\"></div>            <script type=\"text/javascript\">                require([\"plotly\"], function(Plotly) {                    window.PLOTLYENV=window.PLOTLYENV || {};                                    if (document.getElementById(\"c02a38cd-0c8c-4d65-8628-66191a45d231\")) {                    Plotly.newPlot(                        \"c02a38cd-0c8c-4d65-8628-66191a45d231\",                        [{\"marker\": {\"color\": \"black\", \"opacity\": 0.7}, \"mode\": \"markers\", \"name\": \"Real Points\", \"showlegend\": false, \"type\": \"scatter\", \"x\": [-1.2, -1.0358974358974358, -0.8717948717948718, -0.7076923076923076, -0.5435897435897435, -0.37948717948717947, -0.21538461538461529, -0.05128205128205132, 0.11282051282051286, 0.27692307692307705, 0.441025641025641, 0.6051282051282052, 0.7692307692307694, 0.9333333333333333, 1.0974358974358973, 1.2615384615384617, 1.4256410256410257, 1.5897435897435896, 1.753846153846154, 1.917948717948718], \"xaxis\": \"x\", \"y\": [5.8096, 3.8381753317244733, 2.522800884051074, 1.7092797030916282, 1.2608197821340592, 1.058034061642376, 0.9989404292566787, 0.9989617197931566, 0.9909257152440888, 0.9250651447778439, 0.7690176847388803, 0.5078259586477458, 0.14393753720107805, -0.3027950617283952, -0.7951143730918573, -1.278357984664403, -1.6804585370450331, -1.911943723656666, -1.8659362907461214, -1.418154037384138], \"yaxis\": \"y\"}, {\"marker\": {\"color\": \"blue\", \"opacity\": 0.7}, \"mode\": \"markers\", \"name\": \"Predicted Points\", \"showlegend\": false, \"type\": \"scatter\", \"x\": [-1.2, -1.0358974358974358, -0.8717948717948718, -0.7076923076923076, -0.5435897435897435, -0.37948717948717947, -0.21538461538461529, -0.05128205128205132, 0.11282051282051286, 0.27692307692307705, 0.441025641025641, 0.6051282051282052, 0.7692307692307694, 0.9333333333333333, 1.0974358974358973, 1.2615384615384617, 1.4256410256410257, 1.5897435897435896, 1.753846153846154, 1.917948717948718], \"xaxis\": \"x\", \"y\": [4.121178320220212, 3.621909150479429, 3.144322612133674, 2.6884187051829453, 2.254197429627244, 1.84165878546657, 1.450802772700923, 1.0816293913303034, 0.7341386413547103, 0.4083305227741445, 0.1042050355886062, -0.1782378202019054, -0.43899804459739, -0.6780756375978471, -0.8954705992032772, -1.0911829294136806, -1.2652126282290568, -1.417559695649405, -1.5482241316747272, -1.6572059363050222], \"yaxis\": \"y\"}, {\"marker\": {\"color\": \"black\", \"opacity\": 0.7}, \"mode\": \"markers\", \"name\": \"Real Points\", \"showlegend\": false, \"type\": \"scatter\", \"x\": [-1.2, -1.0358974358974358, -0.8717948717948718, -0.7076923076923076, -0.5435897435897435, -0.37948717948717947, -0.21538461538461529, -0.05128205128205132, 0.11282051282051286, 0.27692307692307705, 0.441025641025641, 0.6051282051282052, 0.7692307692307694, 0.9333333333333333, 1.0974358974358973, 1.2615384615384617, 1.4256410256410257, 1.5897435897435896, 1.753846153846154, 1.917948717948718], \"xaxis\": \"x2\", \"y\": [5.8096, 3.8381753317244733, 2.522800884051074, 1.7092797030916282, 1.2608197821340592, 1.058034061642376, 0.9989404292566787, 0.9989617197931566, 0.9909257152440888, 0.9250651447778439, 0.7690176847388803, 0.5078259586477458, 0.14393753720107805, -0.3027950617283952, -0.7951143730918573, -1.278357984664403, -1.6804585370450331, -1.911943723656666, -1.8659362907461214, -1.418154037384138], \"yaxis\": \"y2\"}, {\"marker\": {\"color\": \"blue\", \"opacity\": 0.7}, \"mode\": \"markers\", \"name\": \"Predicted Points\", \"showlegend\": false, \"type\": \"scatter\", \"x\": [-1.2, -1.0358974358974358, -0.8717948717948718, -0.7076923076923076, -0.5435897435897435, -0.37948717948717947, -0.21538461538461529, -0.05128205128205132, 0.11282051282051286, 0.27692307692307705, 0.441025641025641, 0.6051282051282052, 0.7692307692307694, 0.9333333333333333, 1.0974358974358973, 1.2615384615384617, 1.4256410256410257, 1.5897435897435896, 1.753846153846154, 1.917948717948718], \"xaxis\": \"x2\", \"y\": [4.845863210649666, 3.8888983206376504, 3.0807537620960055, 2.4064721585452773, 1.8510961335060143, 1.3996683104987648, 1.0372313130440765, 0.7488277646624975, 0.5195002888745753, 0.33429150920085837, 0.17824404916189468, 0.03640053227823181, -0.10619641792958201, -0.2645041779409986, -0.45348012423547, -0.6880816332924495, -0.9832660815913872, -1.3539908456117362, -1.8152133018329493, -2.3818908267344763], \"yaxis\": \"y2\"}, {\"marker\": {\"color\": \"black\", \"opacity\": 0.7}, \"mode\": \"markers\", \"name\": \"Real Points\", \"showlegend\": false, \"type\": \"scatter\", \"x\": [-1.2, -1.0358974358974358, -0.8717948717948718, -0.7076923076923076, -0.5435897435897435, -0.37948717948717947, -0.21538461538461529, -0.05128205128205132, 0.11282051282051286, 0.27692307692307705, 0.441025641025641, 0.6051282051282052, 0.7692307692307694, 0.9333333333333333, 1.0974358974358973, 1.2615384615384617, 1.4256410256410257, 1.5897435897435896, 1.753846153846154, 1.917948717948718], \"xaxis\": \"x3\", \"y\": [5.8096, 3.8381753317244733, 2.522800884051074, 1.7092797030916282, 1.2608197821340592, 1.058034061642376, 0.9989404292566787, 0.9989617197931566, 0.9909257152440888, 0.9250651447778439, 0.7690176847388803, 0.5078259586477458, 0.14393753720107805, -0.3027950617283952, -0.7951143730918573, -1.278357984664403, -1.6804585370450331, -1.911943723656666, -1.8659362907461214, -1.418154037384138], \"yaxis\": \"y3\"}, {\"marker\": {\"color\": \"blue\", \"opacity\": 0.7}, \"mode\": \"markers\", \"name\": \"Predicted Points\", \"showlegend\": false, \"type\": \"scatter\", \"x\": [-1.2, -1.0358974358974358, -0.8717948717948718, -0.7076923076923076, -0.5435897435897435, -0.37948717948717947, -0.21538461538461529, -0.05128205128205132, 0.11282051282051286, 0.27692307692307705, 0.441025641025641, 0.6051282051282052, 0.7692307692307694, 0.9333333333333333, 1.0974358974358973, 1.2615384615384617, 1.4256410256410257, 1.5897435897435896, 1.753846153846154, 1.917948717948718], \"xaxis\": \"x3\", \"y\": [5.809600000000005, 3.838175331724477, 2.5228008840510765, 1.7092797030916298, 1.26081978213406, 1.0580340616423765, 0.9989404292566788, 0.9989617197931565, 0.9909257152440889, 0.9250651447778441, 0.7690176847388805, 0.507825958647746, 0.1439375372010787, -0.3027950617283941, -0.7951143730918564, -1.2783579846644013, -1.6804585370450322, -1.9119437236566643, -1.86593629074612, -1.4181540373841361], \"yaxis\": \"y3\"}, {\"marker\": {\"color\": \"black\", \"opacity\": 0.7}, \"mode\": \"markers\", \"name\": \"Real Points\", \"showlegend\": false, \"type\": \"scatter\", \"x\": [-1.2, -1.0358974358974358, -0.8717948717948718, -0.7076923076923076, -0.5435897435897435, -0.37948717948717947, -0.21538461538461529, -0.05128205128205132, 0.11282051282051286, 0.27692307692307705, 0.441025641025641, 0.6051282051282052, 0.7692307692307694, 0.9333333333333333, 1.0974358974358973, 1.2615384615384617, 1.4256410256410257, 1.5897435897435896, 1.753846153846154, 1.917948717948718], \"xaxis\": \"x4\", \"y\": [5.8096, 3.8381753317244733, 2.522800884051074, 1.7092797030916282, 1.2608197821340592, 1.058034061642376, 0.9989404292566787, 0.9989617197931566, 0.9909257152440888, 0.9250651447778439, 0.7690176847388803, 0.5078259586477458, 0.14393753720107805, -0.3027950617283952, -0.7951143730918573, -1.278357984664403, -1.6804585370450331, -1.911943723656666, -1.8659362907461214, -1.418154037384138], \"yaxis\": \"y4\"}, {\"marker\": {\"color\": \"blue\", \"opacity\": 0.7}, \"mode\": \"markers\", \"name\": \"Predicted Points\", \"showlegend\": false, \"type\": \"scatter\", \"x\": [-1.2, -1.0358974358974358, -0.8717948717948718, -0.7076923076923076, -0.5435897435897435, -0.37948717948717947, -0.21538461538461529, -0.05128205128205132, 0.11282051282051286, 0.27692307692307705, 0.441025641025641, 0.6051282051282052, 0.7692307692307694, 0.9333333333333333, 1.0974358974358973, 1.2615384615384617, 1.4256410256410257, 1.5897435897435896, 1.753846153846154, 1.917948717948718], \"xaxis\": \"x4\", \"y\": [5.809599999999998, 3.838175331724473, 2.5228008840510743, 1.7092797030916287, 1.2608197821340597, 1.058034061642376, 0.9989404292566785, 0.9989617197931561, 0.9909257152440882, 0.9250651447778431, 0.769017684738879, 0.5078259586477445, 0.14393753720107605, -0.3027950617283979, -0.7951143730918604, -1.2783579846644062, -1.6804585370450358, -1.911943723656667, -1.86593629074612, -1.4181540373841326], \"yaxis\": \"y4\"}],                        {\"annotations\": [{\"font\": {\"size\": 16}, \"showarrow\": false, \"text\": \"$k=2, MSE=0.42$\", \"x\": 0.10625, \"xanchor\": \"center\", \"xref\": \"paper\", \"y\": 1.0, \"yanchor\": \"bottom\", \"yref\": \"paper\"}, {\"font\": {\"size\": 16}, \"showarrow\": false, \"text\": \"$k=3, MSE=0.28$\", \"x\": 0.36875, \"xanchor\": \"center\", \"xref\": \"paper\", \"y\": 1.0, \"yanchor\": \"bottom\", \"yref\": \"paper\"}, {\"font\": {\"size\": 16}, \"showarrow\": false, \"text\": \"$k=4, MSE=0.0$\", \"x\": 0.6312500000000001, \"xanchor\": \"center\", \"xref\": \"paper\", \"y\": 1.0, \"yanchor\": \"bottom\", \"yref\": \"paper\"}, {\"font\": {\"size\": 16}, \"showarrow\": false, \"text\": \"$k=5, MSE=0.0$\", \"x\": 0.89375, \"xanchor\": \"center\", \"xref\": \"paper\", \"y\": 1.0, \"yanchor\": \"bottom\", \"yref\": \"paper\"}], \"height\": 300, \"margin\": {\"t\": 60}, \"template\": {\"data\": {\"bar\": [{\"error_x\": {\"color\": \"rgb(36,36,36)\"}, \"error_y\": {\"color\": \"rgb(36,36,36)\"}, \"marker\": {\"line\": {\"color\": \"white\", \"width\": 0.5}}, \"type\": \"bar\"}], \"barpolar\": [{\"marker\": {\"line\": {\"color\": \"white\", \"width\": 0.5}}, \"type\": \"barpolar\"}], \"carpet\": [{\"aaxis\": {\"endlinecolor\": \"rgb(36,36,36)\", \"gridcolor\": \"white\", \"linecolor\": \"white\", \"minorgridcolor\": \"white\", \"startlinecolor\": \"rgb(36,36,36)\"}, \"baxis\": {\"endlinecolor\": \"rgb(36,36,36)\", \"gridcolor\": \"white\", \"linecolor\": \"white\", \"minorgridcolor\": \"white\", \"startlinecolor\": \"rgb(36,36,36)\"}, \"type\": \"carpet\"}], \"choropleth\": [{\"colorbar\": {\"outlinewidth\": 1, \"tickcolor\": \"rgb(36,36,36)\", \"ticks\": \"outside\"}, \"type\": \"choropleth\"}], \"contour\": [{\"colorbar\": {\"outlinewidth\": 1, \"tickcolor\": \"rgb(36,36,36)\", \"ticks\": \"outside\"}, \"colorscale\": [[0.0, \"#440154\"], [0.1111111111111111, \"#482878\"], [0.2222222222222222, \"#3e4989\"], [0.3333333333333333, \"#31688e\"], [0.4444444444444444, \"#26828e\"], [0.5555555555555556, \"#1f9e89\"], [0.6666666666666666, \"#35b779\"], [0.7777777777777778, \"#6ece58\"], [0.8888888888888888, \"#b5de2b\"], [1.0, \"#fde725\"]], \"type\": \"contour\"}], \"contourcarpet\": [{\"colorbar\": {\"outlinewidth\": 1, \"tickcolor\": \"rgb(36,36,36)\", \"ticks\": \"outside\"}, \"type\": \"contourcarpet\"}], \"heatmap\": [{\"colorbar\": {\"outlinewidth\": 1, \"tickcolor\": \"rgb(36,36,36)\", \"ticks\": \"outside\"}, \"colorscale\": [[0.0, \"#440154\"], [0.1111111111111111, \"#482878\"], [0.2222222222222222, \"#3e4989\"], [0.3333333333333333, \"#31688e\"], [0.4444444444444444, \"#26828e\"], [0.5555555555555556, \"#1f9e89\"], [0.6666666666666666, \"#35b779\"], [0.7777777777777778, \"#6ece58\"], [0.8888888888888888, \"#b5de2b\"], [1.0, \"#fde725\"]], \"type\": \"heatmap\"}], \"heatmapgl\": [{\"colorbar\": {\"outlinewidth\": 1, \"tickcolor\": \"rgb(36,36,36)\", \"ticks\": \"outside\"}, \"colorscale\": [[0.0, \"#440154\"], [0.1111111111111111, \"#482878\"], [0.2222222222222222, \"#3e4989\"], [0.3333333333333333, \"#31688e\"], [0.4444444444444444, \"#26828e\"], [0.5555555555555556, \"#1f9e89\"], [0.6666666666666666, \"#35b779\"], [0.7777777777777778, \"#6ece58\"], [0.8888888888888888, \"#b5de2b\"], [1.0, \"#fde725\"]], \"type\": \"heatmapgl\"}], \"histogram\": [{\"marker\": {\"line\": {\"color\": \"white\", \"width\": 0.6}}, \"type\": \"histogram\"}], \"histogram2d\": [{\"colorbar\": {\"outlinewidth\": 1, \"tickcolor\": \"rgb(36,36,36)\", \"ticks\": \"outside\"}, \"colorscale\": [[0.0, \"#440154\"], [0.1111111111111111, \"#482878\"], [0.2222222222222222, \"#3e4989\"], [0.3333333333333333, \"#31688e\"], [0.4444444444444444, \"#26828e\"], [0.5555555555555556, \"#1f9e89\"], [0.6666666666666666, \"#35b779\"], [0.7777777777777778, \"#6ece58\"], [0.8888888888888888, \"#b5de2b\"], [1.0, \"#fde725\"]], \"type\": \"histogram2d\"}], \"histogram2dcontour\": [{\"colorbar\": {\"outlinewidth\": 1, \"tickcolor\": \"rgb(36,36,36)\", \"ticks\": \"outside\"}, \"colorscale\": [[0.0, \"#440154\"], [0.1111111111111111, \"#482878\"], [0.2222222222222222, \"#3e4989\"], [0.3333333333333333, \"#31688e\"], [0.4444444444444444, \"#26828e\"], [0.5555555555555556, \"#1f9e89\"], [0.6666666666666666, \"#35b779\"], [0.7777777777777778, \"#6ece58\"], [0.8888888888888888, \"#b5de2b\"], [1.0, \"#fde725\"]], \"type\": \"histogram2dcontour\"}], \"mesh3d\": [{\"colorbar\": {\"outlinewidth\": 1, \"tickcolor\": \"rgb(36,36,36)\", \"ticks\": \"outside\"}, \"type\": \"mesh3d\"}], \"parcoords\": [{\"line\": {\"colorbar\": {\"outlinewidth\": 1, \"tickcolor\": \"rgb(36,36,36)\", \"ticks\": \"outside\"}}, \"type\": \"parcoords\"}], \"pie\": [{\"automargin\": true, \"type\": \"pie\"}], \"scatter\": [{\"marker\": {\"colorbar\": {\"outlinewidth\": 1, \"tickcolor\": \"rgb(36,36,36)\", \"ticks\": \"outside\"}}, \"type\": \"scatter\"}], \"scatter3d\": [{\"line\": {\"colorbar\": {\"outlinewidth\": 1, \"tickcolor\": \"rgb(36,36,36)\", \"ticks\": \"outside\"}}, \"marker\": {\"colorbar\": {\"outlinewidth\": 1, \"tickcolor\": \"rgb(36,36,36)\", \"ticks\": \"outside\"}}, \"type\": \"scatter3d\"}], \"scattercarpet\": [{\"marker\": {\"colorbar\": {\"outlinewidth\": 1, \"tickcolor\": \"rgb(36,36,36)\", \"ticks\": \"outside\"}}, \"type\": \"scattercarpet\"}], \"scattergeo\": [{\"marker\": {\"colorbar\": {\"outlinewidth\": 1, \"tickcolor\": \"rgb(36,36,36)\", \"ticks\": \"outside\"}}, \"type\": \"scattergeo\"}], \"scattergl\": [{\"marker\": {\"colorbar\": {\"outlinewidth\": 1, \"tickcolor\": \"rgb(36,36,36)\", \"ticks\": \"outside\"}}, \"type\": \"scattergl\"}], \"scattermapbox\": [{\"marker\": {\"colorbar\": {\"outlinewidth\": 1, \"tickcolor\": \"rgb(36,36,36)\", \"ticks\": \"outside\"}}, \"type\": \"scattermapbox\"}], \"scatterpolar\": [{\"marker\": {\"colorbar\": {\"outlinewidth\": 1, \"tickcolor\": \"rgb(36,36,36)\", \"ticks\": \"outside\"}}, \"type\": \"scatterpolar\"}], \"scatterpolargl\": [{\"marker\": {\"colorbar\": {\"outlinewidth\": 1, \"tickcolor\": \"rgb(36,36,36)\", \"ticks\": \"outside\"}}, \"type\": \"scatterpolargl\"}], \"scatterternary\": [{\"marker\": {\"colorbar\": {\"outlinewidth\": 1, \"tickcolor\": \"rgb(36,36,36)\", \"ticks\": \"outside\"}}, \"type\": \"scatterternary\"}], \"surface\": [{\"colorbar\": {\"outlinewidth\": 1, \"tickcolor\": \"rgb(36,36,36)\", \"ticks\": \"outside\"}, \"colorscale\": [[0.0, \"#440154\"], [0.1111111111111111, \"#482878\"], [0.2222222222222222, \"#3e4989\"], [0.3333333333333333, \"#31688e\"], [0.4444444444444444, \"#26828e\"], [0.5555555555555556, \"#1f9e89\"], [0.6666666666666666, \"#35b779\"], [0.7777777777777778, \"#6ece58\"], [0.8888888888888888, \"#b5de2b\"], [1.0, \"#fde725\"]], \"type\": \"surface\"}], \"table\": [{\"cells\": {\"fill\": {\"color\": \"rgb(237,237,237)\"}, \"line\": {\"color\": \"white\"}}, \"header\": {\"fill\": {\"color\": \"rgb(217,217,217)\"}, \"line\": {\"color\": \"white\"}}, \"type\": \"table\"}]}, \"layout\": {\"annotationdefaults\": {\"arrowhead\": 0, \"arrowwidth\": 1}, \"autotypenumbers\": \"strict\", \"coloraxis\": {\"colorbar\": {\"outlinewidth\": 1, \"tickcolor\": \"rgb(36,36,36)\", \"ticks\": \"outside\"}}, \"colorscale\": {\"diverging\": [[0.0, \"rgb(103,0,31)\"], [0.1, \"rgb(178,24,43)\"], [0.2, \"rgb(214,96,77)\"], [0.3, \"rgb(244,165,130)\"], [0.4, \"rgb(253,219,199)\"], [0.5, \"rgb(247,247,247)\"], [0.6, \"rgb(209,229,240)\"], [0.7, \"rgb(146,197,222)\"], [0.8, \"rgb(67,147,195)\"], [0.9, \"rgb(33,102,172)\"], [1.0, \"rgb(5,48,97)\"]], \"sequential\": [[0.0, \"#440154\"], [0.1111111111111111, \"#482878\"], [0.2222222222222222, \"#3e4989\"], [0.3333333333333333, \"#31688e\"], [0.4444444444444444, \"#26828e\"], [0.5555555555555556, \"#1f9e89\"], [0.6666666666666666, \"#35b779\"], [0.7777777777777778, \"#6ece58\"], [0.8888888888888888, \"#b5de2b\"], [1.0, \"#fde725\"]], \"sequentialminus\": [[0.0, \"#440154\"], [0.1111111111111111, \"#482878\"], [0.2222222222222222, \"#3e4989\"], [0.3333333333333333, \"#31688e\"], [0.4444444444444444, \"#26828e\"], [0.5555555555555556, \"#1f9e89\"], [0.6666666666666666, \"#35b779\"], [0.7777777777777778, \"#6ece58\"], [0.8888888888888888, \"#b5de2b\"], [1.0, \"#fde725\"]]}, \"colorway\": [\"#1F77B4\", \"#FF7F0E\", \"#2CA02C\", \"#D62728\", \"#9467BD\", \"#8C564B\", \"#E377C2\", \"#7F7F7F\", \"#BCBD22\", \"#17BECF\"], \"font\": {\"color\": \"rgb(36,36,36)\"}, \"geo\": {\"bgcolor\": \"white\", \"lakecolor\": \"white\", \"landcolor\": \"white\", \"showlakes\": true, \"showland\": true, \"subunitcolor\": \"white\"}, \"hoverlabel\": {\"align\": \"left\"}, \"hovermode\": \"closest\", \"mapbox\": {\"style\": \"light\"}, \"margin\": {\"b\": 0, \"l\": 20, \"r\": 20, \"t\": 40}, \"paper_bgcolor\": \"white\", \"plot_bgcolor\": \"white\", \"polar\": {\"angularaxis\": {\"gridcolor\": \"rgb(232,232,232)\", \"linecolor\": \"rgb(36,36,36)\", \"showgrid\": false, \"showline\": true, \"ticks\": \"outside\"}, \"bgcolor\": \"white\", \"radialaxis\": {\"gridcolor\": \"rgb(232,232,232)\", \"linecolor\": \"rgb(36,36,36)\", \"showgrid\": false, \"showline\": true, \"ticks\": \"outside\"}}, \"scene\": {\"xaxis\": {\"backgroundcolor\": \"white\", \"gridcolor\": \"rgb(232,232,232)\", \"gridwidth\": 2, \"linecolor\": \"rgb(36,36,36)\", \"showbackground\": true, \"showgrid\": false, \"showline\": true, \"ticks\": \"outside\", \"zeroline\": false, \"zerolinecolor\": \"rgb(36,36,36)\"}, \"yaxis\": {\"backgroundcolor\": \"white\", \"gridcolor\": \"rgb(232,232,232)\", \"gridwidth\": 2, \"linecolor\": \"rgb(36,36,36)\", \"showbackground\": true, \"showgrid\": false, \"showline\": true, \"ticks\": \"outside\", \"zeroline\": false, \"zerolinecolor\": \"rgb(36,36,36)\"}, \"zaxis\": {\"backgroundcolor\": \"white\", \"gridcolor\": \"rgb(232,232,232)\", \"gridwidth\": 2, \"linecolor\": \"rgb(36,36,36)\", \"showbackground\": true, \"showgrid\": false, \"showline\": true, \"ticks\": \"outside\", \"zeroline\": false, \"zerolinecolor\": \"rgb(36,36,36)\"}}, \"shapedefaults\": {\"fillcolor\": \"black\", \"line\": {\"width\": 0}, \"opacity\": 0.3}, \"ternary\": {\"aaxis\": {\"gridcolor\": \"rgb(232,232,232)\", \"linecolor\": \"rgb(36,36,36)\", \"showgrid\": false, \"showline\": true, \"ticks\": \"outside\"}, \"baxis\": {\"gridcolor\": \"rgb(232,232,232)\", \"linecolor\": \"rgb(36,36,36)\", \"showgrid\": false, \"showline\": true, \"ticks\": \"outside\"}, \"bgcolor\": \"white\", \"caxis\": {\"gridcolor\": \"rgb(232,232,232)\", \"linecolor\": \"rgb(36,36,36)\", \"showgrid\": false, \"showline\": true, \"ticks\": \"outside\"}}, \"title\": {\"x\": 0.05}, \"xaxis\": {\"automargin\": true, \"gridcolor\": \"rgb(232,232,232)\", \"linecolor\": \"rgb(36,36,36)\", \"showgrid\": false, \"showline\": true, \"ticks\": \"outside\", \"title\": {\"standoff\": 15}, \"zeroline\": false, \"zerolinecolor\": \"rgb(36,36,36)\"}, \"yaxis\": {\"automargin\": true, \"gridcolor\": \"rgb(232,232,232)\", \"linecolor\": \"rgb(36,36,36)\", \"showgrid\": false, \"showline\": true, \"ticks\": \"outside\", \"title\": {\"standoff\": 15}, \"zeroline\": false, \"zerolinecolor\": \"rgb(36,36,36)\"}}}, \"title\": {\"text\": \"$\\\\text{(2) Simulated Data - Fitting Polynomials of Different Degrees}$\"}, \"xaxis\": {\"anchor\": \"y\", \"domain\": [0.0, 0.2125]}, \"xaxis2\": {\"anchor\": \"y2\", \"domain\": [0.2625, 0.475]}, \"xaxis3\": {\"anchor\": \"y3\", \"domain\": [0.525, 0.7375]}, \"xaxis4\": {\"anchor\": \"y4\", \"domain\": [0.7875, 1.0]}, \"yaxis\": {\"anchor\": \"x\", \"domain\": [0.0, 1.0], \"title\": {\"text\": \"$\\\\widehat{y}$\"}}, \"yaxis2\": {\"anchor\": \"x2\", \"domain\": [0.0, 1.0]}, \"yaxis3\": {\"anchor\": \"x3\", \"domain\": [0.0, 1.0]}, \"yaxis4\": {\"anchor\": \"x4\", \"domain\": [0.0, 1.0]}},                        {\"responsive\": true}                    ).then(function(){\n",
       "                            \n",
       "var gd = document.getElementById('c02a38cd-0c8c-4d65-8628-66191a45d231');\n",
       "var x = new MutationObserver(function (mutations, observer) {{\n",
       "        var display = window.getComputedStyle(gd).display;\n",
       "        if (!display || display === 'none') {{\n",
       "            console.log([gd, 'removed!']);\n",
       "            Plotly.purge(gd);\n",
       "            observer.disconnect();\n",
       "        }}\n",
       "}});\n",
       "\n",
       "// Listen for the removal of the full notebook cells\n",
       "var notebookContainer = gd.closest('#notebook-container');\n",
       "if (notebookContainer) {{\n",
       "    x.observe(notebookContainer, {childList: true});\n",
       "}}\n",
       "\n",
       "// Listen for the clearing of the current output cell\n",
       "var outputEl = gd.closest('.output');\n",
       "if (outputEl) {{\n",
       "    x.observe(outputEl, {childList: true});\n",
       "}}\n",
       "\n",
       "                        })                };                });            </script>        </div>"
      ]
     },
     "metadata": {},
     "output_type": "display_data"
    }
   ],
   "source": [
    "from sklearn.linear_model import LinearRegression\n",
    "from sklearn.pipeline import make_pipeline\n",
    "\n",
    "ks = [2, 3, 4, 5]\n",
    "fig = make_subplots(1, 4, subplot_titles=list(ks))\n",
    "for i, k in enumerate(ks):\n",
    "    y_hat = make_pipeline(PolynomialFeatures(k), LinearRegression(fit_intercept=False)).fit(X, y_).predict(X)\n",
    "    \n",
    "    fig.add_traces([go.Scatter(x=x, y=y_, mode=\"markers\", name=\"Real Points\",  marker=dict(color=\"black\", opacity=.7), showlegend=False),\n",
    "                    go.Scatter(x=x, y=y_hat, mode=\"markers\", name=\"Predicted Points\",  marker=dict(color=\"blue\", opacity=.7), showlegend=False)], rows=1, cols=i+1)\n",
    "    fig[\"layout\"][\"annotations\"][i][\"text\"] = rf\"$k={{0}}, MSE={{1}}$\".format(k, round(np.mean((y_-y_hat)**2), 2))\n",
    "\n",
    "fig.update_layout(title=r\"$\\text{(2) Simulated Data - Fitting Polynomials of Different Degrees}$\",\n",
    "                  margin=dict(t=60),\n",
    "                  yaxis_title=r\"$\\widehat{y}$\",\n",
    "                  height=300).show()"
   ]
  },
  {
   "cell_type": "markdown",
   "metadata": {
    "pycharm": {
     "name": "#%% md\n"
    }
   },
   "source": [
    "Once we find the right $k$ (which in our case is 4) we managed to fit a perfect model, after which, as we increase $k$, \n",
    "the additional coefficients will be zero."
   ]
  },
  {
   "cell_type": "code",
   "execution_count": 5,
   "metadata": {
    "pycharm": {
     "is_executing": false,
     "name": "#%%\n"
    }
   },
   "outputs": [
    {
     "data": {
      "text/html": [
       "<div>\n",
       "<style scoped>\n",
       "    .dataframe tbody tr th:only-of-type {\n",
       "        vertical-align: middle;\n",
       "    }\n",
       "\n",
       "    .dataframe tbody tr th {\n",
       "        vertical-align: top;\n",
       "    }\n",
       "\n",
       "    .dataframe thead th {\n",
       "        text-align: right;\n",
       "    }\n",
       "</style>\n",
       "<table border=\"1\" class=\"dataframe\">\n",
       "  <thead>\n",
       "    <tr style=\"text-align: right;\">\n",
       "      <th></th>\n",
       "      <th>$w_{0}$</th>\n",
       "      <th>$w_{1}$</th>\n",
       "      <th>$w_{2}$</th>\n",
       "      <th>$w_{3}$</th>\n",
       "      <th>$w_{4}$</th>\n",
       "      <th>$w_{5}$</th>\n",
       "    </tr>\n",
       "  </thead>\n",
       "  <tbody>\n",
       "    <tr>\n",
       "      <th>$k={2}$</th>\n",
       "      <td>0.971</td>\n",
       "      <td>-2.142</td>\n",
       "      <td>0.403</td>\n",
       "      <td>NaN</td>\n",
       "      <td>NaN</td>\n",
       "      <td>NaN</td>\n",
       "    </tr>\n",
       "    <tr>\n",
       "      <th>$k={3}$</th>\n",
       "      <td>0.672</td>\n",
       "      <td>-1.454</td>\n",
       "      <td>1.010</td>\n",
       "      <td>-0.564</td>\n",
       "      <td>NaN</td>\n",
       "      <td>NaN</td>\n",
       "    </tr>\n",
       "    <tr>\n",
       "      <th>$k={4}$</th>\n",
       "      <td>1.000</td>\n",
       "      <td>-0.000</td>\n",
       "      <td>-0.500</td>\n",
       "      <td>-2.000</td>\n",
       "      <td>1.0</td>\n",
       "      <td>NaN</td>\n",
       "    </tr>\n",
       "    <tr>\n",
       "      <th>$k={5}$</th>\n",
       "      <td>1.000</td>\n",
       "      <td>-0.000</td>\n",
       "      <td>-0.500</td>\n",
       "      <td>-2.000</td>\n",
       "      <td>1.0</td>\n",
       "      <td>0.0</td>\n",
       "    </tr>\n",
       "  </tbody>\n",
       "</table>\n",
       "</div>"
      ],
      "text/plain": [
       "         $w_{0}$  $w_{1}$  $w_{2}$  $w_{3}$  $w_{4}$  $w_{5}$\n",
       "$k={2}$    0.971   -2.142    0.403      NaN      NaN      NaN\n",
       "$k={3}$    0.672   -1.454    1.010   -0.564      NaN      NaN\n",
       "$k={4}$    1.000   -0.000   -0.500   -2.000      1.0      NaN\n",
       "$k={5}$    1.000   -0.000   -0.500   -2.000      1.0      0.0"
      ]
     },
     "execution_count": 5,
     "metadata": {},
     "output_type": "execute_result"
    }
   ],
   "source": [
    "coefs = {}\n",
    "for k in ks:\n",
    "    fit = make_pipeline(PolynomialFeatures(k), LinearRegression(fit_intercept=False)).fit(X, y_)\n",
    "    coefs[rf\"$k={{{k}}}$\"] = [round(c,3) for c in fit.steps[1][1].coef_]\n",
    "pd.DataFrame.from_dict(coefs, orient='index', columns=[rf\"$w_{{{i}}}$\" for i in range(max(ks)+1)])\n",
    "\n",
    "\n"
   ]
  },
  {
   "cell_type": "markdown",
   "metadata": {
    "pycharm": {
     "name": "#%% md\n"
    }
   },
   "source": [
    "## Fitting Polynomial Of Different Degrees - With Sample Noise\n",
    "\n",
    "Still fitting for different values of $k$, let us add some standard Gaussian noise (i.e. $\\mathcal{N}\\left(0,1\\right)$).\n",
    "This time we observe two things:\n",
    "- Even for the correct $k=4$ model we are not able to achieve zero MSE.\n",
    "- As we increase $4<k\\rightarrow 7$ we manage to decrease the error more and more."
   ]
  },
  {
   "cell_type": "code",
   "execution_count": 6,
   "metadata": {
    "pycharm": {
     "is_executing": false,
     "name": "#%%\n"
    }
   },
   "outputs": [
    {
     "data": {
      "application/vnd.plotly.v1+json": {
       "config": {
        "plotlyServerURL": "https://plot.ly"
       },
       "data": [
        {
         "marker": {
          "color": "black",
          "opacity": 0.7
         },
         "mode": "markers",
         "name": "Real Points",
         "showlegend": false,
         "type": "scatter",
         "x": [
          -1.2,
          -1.0358974358974358,
          -0.8717948717948718,
          -0.7076923076923076,
          -0.5435897435897435,
          -0.37948717948717947,
          -0.21538461538461529,
          -0.05128205128205132,
          0.11282051282051286,
          0.27692307692307705,
          0.441025641025641,
          0.6051282051282052,
          0.7692307692307694,
          0.9333333333333333,
          1.0974358974358973,
          1.2615384615384617,
          1.4256410256410257,
          1.5897435897435896,
          1.753846153846154,
          1.917948717948718
         ],
         "xaxis": "x",
         "y": [
          5.8096,
          3.8381753317244733,
          2.522800884051074,
          1.7092797030916282,
          1.2608197821340592,
          1.058034061642376,
          0.9989404292566787,
          0.9989617197931566,
          0.9909257152440888,
          0.9250651447778439,
          0.7690176847388803,
          0.5078259586477458,
          0.14393753720107805,
          -0.3027950617283952,
          -0.7951143730918573,
          -1.278357984664403,
          -1.6804585370450331,
          -1.911943723656666,
          -1.8659362907461214,
          -1.418154037384138
         ],
         "yaxis": "y"
        },
        {
         "marker": {
          "color": "red",
          "opacity": 0.7
         },
         "mode": "markers",
         "name": "Observed Points",
         "showlegend": false,
         "type": "scatter",
         "x": [
          -1.2,
          -1.0358974358974358,
          -0.8717948717948718,
          -0.7076923076923076,
          -0.5435897435897435,
          -0.37948717948717947,
          -0.21538461538461529,
          -0.05128205128205132,
          0.11282051282051286,
          0.27692307692307705,
          0.441025641025641,
          0.6051282051282052,
          0.7692307692307694,
          0.9333333333333333,
          1.0974358974358973,
          1.2615384615384617,
          1.4256410256410257,
          1.5897435897435896,
          1.753846153846154,
          1.917948717948718
         ],
         "xaxis": "x",
         "y": [
          6.735566152461027,
          4.122754037714723,
          2.7419755809407835,
          3.93924825954048,
          1.1570379456696693,
          0.6709271786940312,
          0.3038149021085126,
          0.9723976085183392,
          0.2446992669722996,
          1.7063474441990456,
          0.6918013180535798,
          1.0847090695714272,
          0.3318738878550176,
          -1.1246187753063386,
          -2.2402765475289144,
          1.3872119309233377,
          -1.0910462634446354,
          -1.7030778643758098,
          -4.203940624477999,
          -1.7689613970926115
         ],
         "yaxis": "y"
        },
        {
         "marker": {
          "color": "blue",
          "opacity": 0.7
         },
         "mode": "markers",
         "name": "Predicted Points",
         "showlegend": false,
         "type": "scatter",
         "x": [
          -1.2,
          -1.0358974358974358,
          -0.8717948717948718,
          -0.7076923076923076,
          -0.5435897435897435,
          -0.37948717948717947,
          -0.21538461538461529,
          -0.05128205128205132,
          0.11282051282051286,
          0.27692307692307705,
          0.441025641025641,
          0.6051282051282052,
          0.7692307692307694,
          0.9333333333333333,
          1.0974358974358973,
          1.2615384615384617,
          1.4256410256410257,
          1.5897435897435896,
          1.753846153846154,
          1.917948717948718
         ],
         "xaxis": "x",
         "y": [
          4.72117687567039,
          4.1583062932851425,
          3.618664058488304,
          3.1022501712798727,
          2.60906463165985,
          2.139107439628235,
          1.6923785951850274,
          1.2688780983302286,
          0.8686059490638371,
          0.4915621473858535,
          0.13774669329627848,
          -0.19284041320488926,
          -0.5001991721176491,
          -0.7843295834420003,
          -1.045231647177944,
          -1.2829053633254803,
          -1.4973507318846078,
          -1.6885677528553273,
          -1.85655642623764,
          -2.001316752031544
         ],
         "yaxis": "y"
        },
        {
         "marker": {
          "color": "black",
          "opacity": 0.7
         },
         "mode": "markers",
         "name": "Real Points",
         "showlegend": false,
         "type": "scatter",
         "x": [
          -1.2,
          -1.0358974358974358,
          -0.8717948717948718,
          -0.7076923076923076,
          -0.5435897435897435,
          -0.37948717948717947,
          -0.21538461538461529,
          -0.05128205128205132,
          0.11282051282051286,
          0.27692307692307705,
          0.441025641025641,
          0.6051282051282052,
          0.7692307692307694,
          0.9333333333333333,
          1.0974358974358973,
          1.2615384615384617,
          1.4256410256410257,
          1.5897435897435896,
          1.753846153846154,
          1.917948717948718
         ],
         "xaxis": "x2",
         "y": [
          5.8096,
          3.8381753317244733,
          2.522800884051074,
          1.7092797030916282,
          1.2608197821340592,
          1.058034061642376,
          0.9989404292566787,
          0.9989617197931566,
          0.9909257152440888,
          0.9250651447778439,
          0.7690176847388803,
          0.5078259586477458,
          0.14393753720107805,
          -0.3027950617283952,
          -0.7951143730918573,
          -1.278357984664403,
          -1.6804585370450331,
          -1.911943723656666,
          -1.8659362907461214,
          -1.418154037384138
         ],
         "yaxis": "y2"
        },
        {
         "marker": {
          "color": "red",
          "opacity": 0.7
         },
         "mode": "markers",
         "name": "Observed Points",
         "showlegend": false,
         "type": "scatter",
         "x": [
          -1.2,
          -1.0358974358974358,
          -0.8717948717948718,
          -0.7076923076923076,
          -0.5435897435897435,
          -0.37948717948717947,
          -0.21538461538461529,
          -0.05128205128205132,
          0.11282051282051286,
          0.27692307692307705,
          0.441025641025641,
          0.6051282051282052,
          0.7692307692307694,
          0.9333333333333333,
          1.0974358974358973,
          1.2615384615384617,
          1.4256410256410257,
          1.5897435897435896,
          1.753846153846154,
          1.917948717948718
         ],
         "xaxis": "x2",
         "y": [
          6.735566152461027,
          4.122754037714723,
          2.7419755809407835,
          3.93924825954048,
          1.1570379456696693,
          0.6709271786940312,
          0.3038149021085126,
          0.9723976085183392,
          0.2446992669722996,
          1.7063474441990456,
          0.6918013180535798,
          1.0847090695714272,
          0.3318738878550176,
          -1.1246187753063386,
          -2.2402765475289144,
          1.3872119309233377,
          -1.0910462634446354,
          -1.7030778643758098,
          -4.203940624477999,
          -1.7689613970926115
         ],
         "yaxis": "y2"
        },
        {
         "marker": {
          "color": "blue",
          "opacity": 0.7
         },
         "mode": "markers",
         "name": "Predicted Points",
         "showlegend": false,
         "type": "scatter",
         "x": [
          -1.2,
          -1.0358974358974358,
          -0.8717948717948718,
          -0.7076923076923076,
          -0.5435897435897435,
          -0.37948717948717947,
          -0.21538461538461529,
          -0.05128205128205132,
          0.11282051282051286,
          0.27692307692307705,
          0.441025641025641,
          0.6051282051282052,
          0.7692307692307694,
          0.9333333333333333,
          1.0974358974358973,
          1.2615384615384617,
          1.4256410256410257,
          1.5897435897435896,
          1.753846153846154,
          1.917948717948718
         ],
         "xaxis": "x2",
         "y": [
          5.9876778352176085,
          4.624911909960435,
          3.507567483089429,
          2.609504183922497,
          1.9045816417775523,
          1.3666594859725056,
          0.969597345825267,
          0.6872548506537485,
          0.4934916297758602,
          0.3621673125095136,
          0.26714152817261955,
          0.1822739060830887,
          0.08142407555883235,
          -0.06154833408223859,
          -0.2727836935222131,
          -0.5784223734431816,
          -1.0046047445272301,
          -1.57747117745645,
          -2.3231620429129323,
          -3.2678177115787603
         ],
         "yaxis": "y2"
        },
        {
         "marker": {
          "color": "black",
          "opacity": 0.7
         },
         "mode": "markers",
         "name": "Real Points",
         "showlegend": false,
         "type": "scatter",
         "x": [
          -1.2,
          -1.0358974358974358,
          -0.8717948717948718,
          -0.7076923076923076,
          -0.5435897435897435,
          -0.37948717948717947,
          -0.21538461538461529,
          -0.05128205128205132,
          0.11282051282051286,
          0.27692307692307705,
          0.441025641025641,
          0.6051282051282052,
          0.7692307692307694,
          0.9333333333333333,
          1.0974358974358973,
          1.2615384615384617,
          1.4256410256410257,
          1.5897435897435896,
          1.753846153846154,
          1.917948717948718
         ],
         "xaxis": "x3",
         "y": [
          5.8096,
          3.8381753317244733,
          2.522800884051074,
          1.7092797030916282,
          1.2608197821340592,
          1.058034061642376,
          0.9989404292566787,
          0.9989617197931566,
          0.9909257152440888,
          0.9250651447778439,
          0.7690176847388803,
          0.5078259586477458,
          0.14393753720107805,
          -0.3027950617283952,
          -0.7951143730918573,
          -1.278357984664403,
          -1.6804585370450331,
          -1.911943723656666,
          -1.8659362907461214,
          -1.418154037384138
         ],
         "yaxis": "y3"
        },
        {
         "marker": {
          "color": "red",
          "opacity": 0.7
         },
         "mode": "markers",
         "name": "Observed Points",
         "showlegend": false,
         "type": "scatter",
         "x": [
          -1.2,
          -1.0358974358974358,
          -0.8717948717948718,
          -0.7076923076923076,
          -0.5435897435897435,
          -0.37948717948717947,
          -0.21538461538461529,
          -0.05128205128205132,
          0.11282051282051286,
          0.27692307692307705,
          0.441025641025641,
          0.6051282051282052,
          0.7692307692307694,
          0.9333333333333333,
          1.0974358974358973,
          1.2615384615384617,
          1.4256410256410257,
          1.5897435897435896,
          1.753846153846154,
          1.917948717948718
         ],
         "xaxis": "x3",
         "y": [
          6.735566152461027,
          4.122754037714723,
          2.7419755809407835,
          3.93924825954048,
          1.1570379456696693,
          0.6709271786940312,
          0.3038149021085126,
          0.9723976085183392,
          0.2446992669722996,
          1.7063474441990456,
          0.6918013180535798,
          1.0847090695714272,
          0.3318738878550176,
          -1.1246187753063386,
          -2.2402765475289144,
          1.3872119309233377,
          -1.0910462634446354,
          -1.7030778643758098,
          -4.203940624477999,
          -1.7689613970926115
         ],
         "yaxis": "y3"
        },
        {
         "marker": {
          "color": "blue",
          "opacity": 0.7
         },
         "mode": "markers",
         "name": "Predicted Points",
         "showlegend": false,
         "type": "scatter",
         "x": [
          -1.2,
          -1.0358974358974358,
          -0.8717948717948718,
          -0.7076923076923076,
          -0.5435897435897435,
          -0.37948717948717947,
          -0.21538461538461529,
          -0.05128205128205132,
          0.11282051282051286,
          0.27692307692307705,
          0.441025641025641,
          0.6051282051282052,
          0.7692307692307694,
          0.9333333333333333,
          1.0974358974358973,
          1.2615384615384617,
          1.4256410256410257,
          1.5897435897435896,
          1.753846153846154,
          1.917948717948718
         ],
         "xaxis": "x3",
         "y": [
          6.6111719614988225,
          4.592096429629847,
          3.14659719945294,
          2.158452189574584,
          1.5226995324401968,
          1.1456375743341205,
          0.9448248753796264,
          0.8490802095389138,
          0.7984825646131096,
          0.744371142242269,
          0.6493453579053747,
          0.487264840920338,
          0.2432494344439975,
          -0.0863208045278796,
          -0.4938056051605981,
          -0.9603044827805376,
          -1.4556567388751436,
          -1.9384414610929408,
          -2.35597752324352,
          -2.6443235852975473
         ],
         "yaxis": "y3"
        },
        {
         "marker": {
          "color": "black",
          "opacity": 0.7
         },
         "mode": "markers",
         "name": "Real Points",
         "showlegend": false,
         "type": "scatter",
         "x": [
          -1.2,
          -1.0358974358974358,
          -0.8717948717948718,
          -0.7076923076923076,
          -0.5435897435897435,
          -0.37948717948717947,
          -0.21538461538461529,
          -0.05128205128205132,
          0.11282051282051286,
          0.27692307692307705,
          0.441025641025641,
          0.6051282051282052,
          0.7692307692307694,
          0.9333333333333333,
          1.0974358974358973,
          1.2615384615384617,
          1.4256410256410257,
          1.5897435897435896,
          1.753846153846154,
          1.917948717948718
         ],
         "xaxis": "x4",
         "y": [
          5.8096,
          3.8381753317244733,
          2.522800884051074,
          1.7092797030916282,
          1.2608197821340592,
          1.058034061642376,
          0.9989404292566787,
          0.9989617197931566,
          0.9909257152440888,
          0.9250651447778439,
          0.7690176847388803,
          0.5078259586477458,
          0.14393753720107805,
          -0.3027950617283952,
          -0.7951143730918573,
          -1.278357984664403,
          -1.6804585370450331,
          -1.911943723656666,
          -1.8659362907461214,
          -1.418154037384138
         ],
         "yaxis": "y4"
        },
        {
         "marker": {
          "color": "red",
          "opacity": 0.7
         },
         "mode": "markers",
         "name": "Observed Points",
         "showlegend": false,
         "type": "scatter",
         "x": [
          -1.2,
          -1.0358974358974358,
          -0.8717948717948718,
          -0.7076923076923076,
          -0.5435897435897435,
          -0.37948717948717947,
          -0.21538461538461529,
          -0.05128205128205132,
          0.11282051282051286,
          0.27692307692307705,
          0.441025641025641,
          0.6051282051282052,
          0.7692307692307694,
          0.9333333333333333,
          1.0974358974358973,
          1.2615384615384617,
          1.4256410256410257,
          1.5897435897435896,
          1.753846153846154,
          1.917948717948718
         ],
         "xaxis": "x4",
         "y": [
          6.735566152461027,
          4.122754037714723,
          2.7419755809407835,
          3.93924825954048,
          1.1570379456696693,
          0.6709271786940312,
          0.3038149021085126,
          0.9723976085183392,
          0.2446992669722996,
          1.7063474441990456,
          0.6918013180535798,
          1.0847090695714272,
          0.3318738878550176,
          -1.1246187753063386,
          -2.2402765475289144,
          1.3872119309233377,
          -1.0910462634446354,
          -1.7030778643758098,
          -4.203940624477999,
          -1.7689613970926115
         ],
         "yaxis": "y4"
        },
        {
         "marker": {
          "color": "blue",
          "opacity": 0.7
         },
         "mode": "markers",
         "name": "Predicted Points",
         "showlegend": false,
         "type": "scatter",
         "x": [
          -1.2,
          -1.0358974358974358,
          -0.8717948717948718,
          -0.7076923076923076,
          -0.5435897435897435,
          -0.37948717948717947,
          -0.21538461538461529,
          -0.05128205128205132,
          0.11282051282051286,
          0.27692307692307705,
          0.441025641025641,
          0.6051282051282052,
          0.7692307692307694,
          0.9333333333333333,
          1.0974358974358973,
          1.2615384615384617,
          1.4256410256410257,
          1.5897435897435896,
          1.753846153846154,
          1.917948717948718
         ],
         "xaxis": "x4",
         "y": [
          6.463377903777509,
          4.677661410415862,
          3.284019744351695,
          2.2516432827301216,
          1.5369603625711985,
          1.0868402479651167,
          0.8417960972674041,
          0.7391879302941232,
          0.7164255955170683,
          0.7141717372589661,
          0.6795447628886735,
          0.5693218100163752,
          0.3531417136887838,
          0.016707973584338065,
          -0.435008278791599,
          -0.9745653129115446,
          -1.5488478320306855,
          -2.0758640059916997,
          -2.441542504029538,
          -2.496529527576241
         ],
         "yaxis": "y4"
        },
        {
         "marker": {
          "color": "black",
          "opacity": 0.7
         },
         "mode": "markers",
         "name": "Real Points",
         "showlegend": false,
         "type": "scatter",
         "x": [
          -1.2,
          -1.0358974358974358,
          -0.8717948717948718,
          -0.7076923076923076,
          -0.5435897435897435,
          -0.37948717948717947,
          -0.21538461538461529,
          -0.05128205128205132,
          0.11282051282051286,
          0.27692307692307705,
          0.441025641025641,
          0.6051282051282052,
          0.7692307692307694,
          0.9333333333333333,
          1.0974358974358973,
          1.2615384615384617,
          1.4256410256410257,
          1.5897435897435896,
          1.753846153846154,
          1.917948717948718
         ],
         "xaxis": "x5",
         "y": [
          5.8096,
          3.8381753317244733,
          2.522800884051074,
          1.7092797030916282,
          1.2608197821340592,
          1.058034061642376,
          0.9989404292566787,
          0.9989617197931566,
          0.9909257152440888,
          0.9250651447778439,
          0.7690176847388803,
          0.5078259586477458,
          0.14393753720107805,
          -0.3027950617283952,
          -0.7951143730918573,
          -1.278357984664403,
          -1.6804585370450331,
          -1.911943723656666,
          -1.8659362907461214,
          -1.418154037384138
         ],
         "yaxis": "y5"
        },
        {
         "marker": {
          "color": "red",
          "opacity": 0.7
         },
         "mode": "markers",
         "name": "Observed Points",
         "showlegend": false,
         "type": "scatter",
         "x": [
          -1.2,
          -1.0358974358974358,
          -0.8717948717948718,
          -0.7076923076923076,
          -0.5435897435897435,
          -0.37948717948717947,
          -0.21538461538461529,
          -0.05128205128205132,
          0.11282051282051286,
          0.27692307692307705,
          0.441025641025641,
          0.6051282051282052,
          0.7692307692307694,
          0.9333333333333333,
          1.0974358974358973,
          1.2615384615384617,
          1.4256410256410257,
          1.5897435897435896,
          1.753846153846154,
          1.917948717948718
         ],
         "xaxis": "x5",
         "y": [
          6.735566152461027,
          4.122754037714723,
          2.7419755809407835,
          3.93924825954048,
          1.1570379456696693,
          0.6709271786940312,
          0.3038149021085126,
          0.9723976085183392,
          0.2446992669722996,
          1.7063474441990456,
          0.6918013180535798,
          1.0847090695714272,
          0.3318738878550176,
          -1.1246187753063386,
          -2.2402765475289144,
          1.3872119309233377,
          -1.0910462634446354,
          -1.7030778643758098,
          -4.203940624477999,
          -1.7689613970926115
         ],
         "yaxis": "y5"
        },
        {
         "marker": {
          "color": "blue",
          "opacity": 0.7
         },
         "mode": "markers",
         "name": "Predicted Points",
         "showlegend": false,
         "type": "scatter",
         "x": [
          -1.2,
          -1.0358974358974358,
          -0.8717948717948718,
          -0.7076923076923076,
          -0.5435897435897435,
          -0.37948717948717947,
          -0.21538461538461529,
          -0.05128205128205132,
          0.11282051282051286,
          0.27692307692307705,
          0.441025641025641,
          0.6051282051282052,
          0.7692307692307694,
          0.9333333333333333,
          1.0974358974358973,
          1.2615384615384617,
          1.4256410256410257,
          1.5897435897435896,
          1.753846153846154,
          1.917948717948718
         ],
         "xaxis": "x5",
         "y": [
          6.557588546201052,
          4.563616948534726,
          3.193114738504413,
          2.2519349565456737,
          1.6097329795516147,
          1.1807106042705173,
          0.9075685426745547,
          0.7486673292995889,
          0.6683966405560456,
          0.6307530260108738,
          0.5961260516405806,
          0.5212928550553518,
          0.3626211126942478,
          0.08248041899148517,
          -0.3411379224862058,
          -0.9017926959311444,
          -1.548556158215166,
          -2.1667690118390412,
          -2.5555869659107797,
          -2.402318885152873
         ],
         "yaxis": "y5"
        },
        {
         "marker": {
          "color": "black",
          "opacity": 0.7
         },
         "mode": "markers",
         "name": "Real Points",
         "showlegend": false,
         "type": "scatter",
         "x": [
          -1.2,
          -1.0358974358974358,
          -0.8717948717948718,
          -0.7076923076923076,
          -0.5435897435897435,
          -0.37948717948717947,
          -0.21538461538461529,
          -0.05128205128205132,
          0.11282051282051286,
          0.27692307692307705,
          0.441025641025641,
          0.6051282051282052,
          0.7692307692307694,
          0.9333333333333333,
          1.0974358974358973,
          1.2615384615384617,
          1.4256410256410257,
          1.5897435897435896,
          1.753846153846154,
          1.917948717948718
         ],
         "xaxis": "x6",
         "y": [
          5.8096,
          3.8381753317244733,
          2.522800884051074,
          1.7092797030916282,
          1.2608197821340592,
          1.058034061642376,
          0.9989404292566787,
          0.9989617197931566,
          0.9909257152440888,
          0.9250651447778439,
          0.7690176847388803,
          0.5078259586477458,
          0.14393753720107805,
          -0.3027950617283952,
          -0.7951143730918573,
          -1.278357984664403,
          -1.6804585370450331,
          -1.911943723656666,
          -1.8659362907461214,
          -1.418154037384138
         ],
         "yaxis": "y6"
        },
        {
         "marker": {
          "color": "red",
          "opacity": 0.7
         },
         "mode": "markers",
         "name": "Observed Points",
         "showlegend": false,
         "type": "scatter",
         "x": [
          -1.2,
          -1.0358974358974358,
          -0.8717948717948718,
          -0.7076923076923076,
          -0.5435897435897435,
          -0.37948717948717947,
          -0.21538461538461529,
          -0.05128205128205132,
          0.11282051282051286,
          0.27692307692307705,
          0.441025641025641,
          0.6051282051282052,
          0.7692307692307694,
          0.9333333333333333,
          1.0974358974358973,
          1.2615384615384617,
          1.4256410256410257,
          1.5897435897435896,
          1.753846153846154,
          1.917948717948718
         ],
         "xaxis": "x6",
         "y": [
          6.735566152461027,
          4.122754037714723,
          2.7419755809407835,
          3.93924825954048,
          1.1570379456696693,
          0.6709271786940312,
          0.3038149021085126,
          0.9723976085183392,
          0.2446992669722996,
          1.7063474441990456,
          0.6918013180535798,
          1.0847090695714272,
          0.3318738878550176,
          -1.1246187753063386,
          -2.2402765475289144,
          1.3872119309233377,
          -1.0910462634446354,
          -1.7030778643758098,
          -4.203940624477999,
          -1.7689613970926115
         ],
         "yaxis": "y6"
        },
        {
         "marker": {
          "color": "blue",
          "opacity": 0.7
         },
         "mode": "markers",
         "name": "Predicted Points",
         "showlegend": false,
         "type": "scatter",
         "x": [
          -1.2,
          -1.0358974358974358,
          -0.8717948717948718,
          -0.7076923076923076,
          -0.5435897435897435,
          -0.37948717948717947,
          -0.21538461538461529,
          -0.05128205128205132,
          0.11282051282051286,
          0.27692307692307705,
          0.441025641025641,
          0.6051282051282052,
          0.7692307692307694,
          0.9333333333333333,
          1.0974358974358973,
          1.2615384615384617,
          1.4256410256410257,
          1.5897435897435896,
          1.753846153846154,
          1.917948717948718
         ],
         "xaxis": "x6",
         "y": [
          6.391444092744906,
          4.887161410528268,
          3.2718147427731115,
          2.0713878879292444,
          1.3805770847692267,
          1.081178245930696,
          0.9901263902897662,
          0.9485036146485496,
          0.862831945219899,
          0.7099674093924464,
          0.5169116682590181,
          0.326857550391509,
          0.1627848273452992,
          -7.742862371218351e-05,
          -0.2416055641463668,
          -0.6726368011487311,
          -1.368009089598699,
          -2.2454690161076893,
          -2.879131427904241,
          -2.2361744316965897
         ],
         "yaxis": "y6"
        }
       ],
       "layout": {
        "annotations": [
         {
          "font": {
           "size": 16
          },
          "showarrow": false,
          "text": "$k=2, MSE=1.54$",
          "x": 0.14444444444444446,
          "xanchor": "center",
          "xref": "paper",
          "y": 1,
          "yanchor": "bottom",
          "yref": "paper"
         },
         {
          "font": {
           "size": 16
          },
          "showarrow": false,
          "text": "$k=3, MSE=1.12$",
          "x": 0.5,
          "xanchor": "center",
          "xref": "paper",
          "y": 1,
          "yanchor": "bottom",
          "yref": "paper"
         },
         {
          "font": {
           "size": 16
          },
          "showarrow": false,
          "text": "$k=4, MSE=1.0$",
          "x": 0.8555555555555556,
          "xanchor": "center",
          "xref": "paper",
          "y": 1,
          "yanchor": "bottom",
          "yref": "paper"
         },
         {
          "font": {
           "size": 16
          },
          "showarrow": false,
          "text": "$k=5, MSE=0.99$",
          "x": 0.14444444444444446,
          "xanchor": "center",
          "xref": "paper",
          "y": 0.375,
          "yanchor": "bottom",
          "yref": "paper"
         },
         {
          "font": {
           "size": 16
          },
          "showarrow": false,
          "text": "$k=6, MSE=0.98$",
          "x": 0.5,
          "xanchor": "center",
          "xref": "paper",
          "y": 0.375,
          "yanchor": "bottom",
          "yref": "paper"
         },
         {
          "font": {
           "size": 16
          },
          "showarrow": false,
          "text": "$k=7, MSE=0.95$",
          "x": 0.8555555555555556,
          "xanchor": "center",
          "xref": "paper",
          "y": 0.375,
          "yanchor": "bottom",
          "yref": "paper"
         }
        ],
        "margin": {
         "t": 80
        },
        "template": {
         "data": {
          "bar": [
           {
            "error_x": {
             "color": "rgb(36,36,36)"
            },
            "error_y": {
             "color": "rgb(36,36,36)"
            },
            "marker": {
             "line": {
              "color": "white",
              "width": 0.5
             }
            },
            "type": "bar"
           }
          ],
          "barpolar": [
           {
            "marker": {
             "line": {
              "color": "white",
              "width": 0.5
             }
            },
            "type": "barpolar"
           }
          ],
          "carpet": [
           {
            "aaxis": {
             "endlinecolor": "rgb(36,36,36)",
             "gridcolor": "white",
             "linecolor": "white",
             "minorgridcolor": "white",
             "startlinecolor": "rgb(36,36,36)"
            },
            "baxis": {
             "endlinecolor": "rgb(36,36,36)",
             "gridcolor": "white",
             "linecolor": "white",
             "minorgridcolor": "white",
             "startlinecolor": "rgb(36,36,36)"
            },
            "type": "carpet"
           }
          ],
          "choropleth": [
           {
            "colorbar": {
             "outlinewidth": 1,
             "tickcolor": "rgb(36,36,36)",
             "ticks": "outside"
            },
            "type": "choropleth"
           }
          ],
          "contour": [
           {
            "colorbar": {
             "outlinewidth": 1,
             "tickcolor": "rgb(36,36,36)",
             "ticks": "outside"
            },
            "colorscale": [
             [
              0,
              "#440154"
             ],
             [
              0.1111111111111111,
              "#482878"
             ],
             [
              0.2222222222222222,
              "#3e4989"
             ],
             [
              0.3333333333333333,
              "#31688e"
             ],
             [
              0.4444444444444444,
              "#26828e"
             ],
             [
              0.5555555555555556,
              "#1f9e89"
             ],
             [
              0.6666666666666666,
              "#35b779"
             ],
             [
              0.7777777777777778,
              "#6ece58"
             ],
             [
              0.8888888888888888,
              "#b5de2b"
             ],
             [
              1,
              "#fde725"
             ]
            ],
            "type": "contour"
           }
          ],
          "contourcarpet": [
           {
            "colorbar": {
             "outlinewidth": 1,
             "tickcolor": "rgb(36,36,36)",
             "ticks": "outside"
            },
            "type": "contourcarpet"
           }
          ],
          "heatmap": [
           {
            "colorbar": {
             "outlinewidth": 1,
             "tickcolor": "rgb(36,36,36)",
             "ticks": "outside"
            },
            "colorscale": [
             [
              0,
              "#440154"
             ],
             [
              0.1111111111111111,
              "#482878"
             ],
             [
              0.2222222222222222,
              "#3e4989"
             ],
             [
              0.3333333333333333,
              "#31688e"
             ],
             [
              0.4444444444444444,
              "#26828e"
             ],
             [
              0.5555555555555556,
              "#1f9e89"
             ],
             [
              0.6666666666666666,
              "#35b779"
             ],
             [
              0.7777777777777778,
              "#6ece58"
             ],
             [
              0.8888888888888888,
              "#b5de2b"
             ],
             [
              1,
              "#fde725"
             ]
            ],
            "type": "heatmap"
           }
          ],
          "heatmapgl": [
           {
            "colorbar": {
             "outlinewidth": 1,
             "tickcolor": "rgb(36,36,36)",
             "ticks": "outside"
            },
            "colorscale": [
             [
              0,
              "#440154"
             ],
             [
              0.1111111111111111,
              "#482878"
             ],
             [
              0.2222222222222222,
              "#3e4989"
             ],
             [
              0.3333333333333333,
              "#31688e"
             ],
             [
              0.4444444444444444,
              "#26828e"
             ],
             [
              0.5555555555555556,
              "#1f9e89"
             ],
             [
              0.6666666666666666,
              "#35b779"
             ],
             [
              0.7777777777777778,
              "#6ece58"
             ],
             [
              0.8888888888888888,
              "#b5de2b"
             ],
             [
              1,
              "#fde725"
             ]
            ],
            "type": "heatmapgl"
           }
          ],
          "histogram": [
           {
            "marker": {
             "line": {
              "color": "white",
              "width": 0.6
             }
            },
            "type": "histogram"
           }
          ],
          "histogram2d": [
           {
            "colorbar": {
             "outlinewidth": 1,
             "tickcolor": "rgb(36,36,36)",
             "ticks": "outside"
            },
            "colorscale": [
             [
              0,
              "#440154"
             ],
             [
              0.1111111111111111,
              "#482878"
             ],
             [
              0.2222222222222222,
              "#3e4989"
             ],
             [
              0.3333333333333333,
              "#31688e"
             ],
             [
              0.4444444444444444,
              "#26828e"
             ],
             [
              0.5555555555555556,
              "#1f9e89"
             ],
             [
              0.6666666666666666,
              "#35b779"
             ],
             [
              0.7777777777777778,
              "#6ece58"
             ],
             [
              0.8888888888888888,
              "#b5de2b"
             ],
             [
              1,
              "#fde725"
             ]
            ],
            "type": "histogram2d"
           }
          ],
          "histogram2dcontour": [
           {
            "colorbar": {
             "outlinewidth": 1,
             "tickcolor": "rgb(36,36,36)",
             "ticks": "outside"
            },
            "colorscale": [
             [
              0,
              "#440154"
             ],
             [
              0.1111111111111111,
              "#482878"
             ],
             [
              0.2222222222222222,
              "#3e4989"
             ],
             [
              0.3333333333333333,
              "#31688e"
             ],
             [
              0.4444444444444444,
              "#26828e"
             ],
             [
              0.5555555555555556,
              "#1f9e89"
             ],
             [
              0.6666666666666666,
              "#35b779"
             ],
             [
              0.7777777777777778,
              "#6ece58"
             ],
             [
              0.8888888888888888,
              "#b5de2b"
             ],
             [
              1,
              "#fde725"
             ]
            ],
            "type": "histogram2dcontour"
           }
          ],
          "mesh3d": [
           {
            "colorbar": {
             "outlinewidth": 1,
             "tickcolor": "rgb(36,36,36)",
             "ticks": "outside"
            },
            "type": "mesh3d"
           }
          ],
          "parcoords": [
           {
            "line": {
             "colorbar": {
              "outlinewidth": 1,
              "tickcolor": "rgb(36,36,36)",
              "ticks": "outside"
             }
            },
            "type": "parcoords"
           }
          ],
          "pie": [
           {
            "automargin": true,
            "type": "pie"
           }
          ],
          "scatter": [
           {
            "marker": {
             "colorbar": {
              "outlinewidth": 1,
              "tickcolor": "rgb(36,36,36)",
              "ticks": "outside"
             }
            },
            "type": "scatter"
           }
          ],
          "scatter3d": [
           {
            "line": {
             "colorbar": {
              "outlinewidth": 1,
              "tickcolor": "rgb(36,36,36)",
              "ticks": "outside"
             }
            },
            "marker": {
             "colorbar": {
              "outlinewidth": 1,
              "tickcolor": "rgb(36,36,36)",
              "ticks": "outside"
             }
            },
            "type": "scatter3d"
           }
          ],
          "scattercarpet": [
           {
            "marker": {
             "colorbar": {
              "outlinewidth": 1,
              "tickcolor": "rgb(36,36,36)",
              "ticks": "outside"
             }
            },
            "type": "scattercarpet"
           }
          ],
          "scattergeo": [
           {
            "marker": {
             "colorbar": {
              "outlinewidth": 1,
              "tickcolor": "rgb(36,36,36)",
              "ticks": "outside"
             }
            },
            "type": "scattergeo"
           }
          ],
          "scattergl": [
           {
            "marker": {
             "colorbar": {
              "outlinewidth": 1,
              "tickcolor": "rgb(36,36,36)",
              "ticks": "outside"
             }
            },
            "type": "scattergl"
           }
          ],
          "scattermapbox": [
           {
            "marker": {
             "colorbar": {
              "outlinewidth": 1,
              "tickcolor": "rgb(36,36,36)",
              "ticks": "outside"
             }
            },
            "type": "scattermapbox"
           }
          ],
          "scatterpolar": [
           {
            "marker": {
             "colorbar": {
              "outlinewidth": 1,
              "tickcolor": "rgb(36,36,36)",
              "ticks": "outside"
             }
            },
            "type": "scatterpolar"
           }
          ],
          "scatterpolargl": [
           {
            "marker": {
             "colorbar": {
              "outlinewidth": 1,
              "tickcolor": "rgb(36,36,36)",
              "ticks": "outside"
             }
            },
            "type": "scatterpolargl"
           }
          ],
          "scatterternary": [
           {
            "marker": {
             "colorbar": {
              "outlinewidth": 1,
              "tickcolor": "rgb(36,36,36)",
              "ticks": "outside"
             }
            },
            "type": "scatterternary"
           }
          ],
          "surface": [
           {
            "colorbar": {
             "outlinewidth": 1,
             "tickcolor": "rgb(36,36,36)",
             "ticks": "outside"
            },
            "colorscale": [
             [
              0,
              "#440154"
             ],
             [
              0.1111111111111111,
              "#482878"
             ],
             [
              0.2222222222222222,
              "#3e4989"
             ],
             [
              0.3333333333333333,
              "#31688e"
             ],
             [
              0.4444444444444444,
              "#26828e"
             ],
             [
              0.5555555555555556,
              "#1f9e89"
             ],
             [
              0.6666666666666666,
              "#35b779"
             ],
             [
              0.7777777777777778,
              "#6ece58"
             ],
             [
              0.8888888888888888,
              "#b5de2b"
             ],
             [
              1,
              "#fde725"
             ]
            ],
            "type": "surface"
           }
          ],
          "table": [
           {
            "cells": {
             "fill": {
              "color": "rgb(237,237,237)"
             },
             "line": {
              "color": "white"
             }
            },
            "header": {
             "fill": {
              "color": "rgb(217,217,217)"
             },
             "line": {
              "color": "white"
             }
            },
            "type": "table"
           }
          ]
         },
         "layout": {
          "annotationdefaults": {
           "arrowhead": 0,
           "arrowwidth": 1
          },
          "autotypenumbers": "strict",
          "coloraxis": {
           "colorbar": {
            "outlinewidth": 1,
            "tickcolor": "rgb(36,36,36)",
            "ticks": "outside"
           }
          },
          "colorscale": {
           "diverging": [
            [
             0,
             "rgb(103,0,31)"
            ],
            [
             0.1,
             "rgb(178,24,43)"
            ],
            [
             0.2,
             "rgb(214,96,77)"
            ],
            [
             0.3,
             "rgb(244,165,130)"
            ],
            [
             0.4,
             "rgb(253,219,199)"
            ],
            [
             0.5,
             "rgb(247,247,247)"
            ],
            [
             0.6,
             "rgb(209,229,240)"
            ],
            [
             0.7,
             "rgb(146,197,222)"
            ],
            [
             0.8,
             "rgb(67,147,195)"
            ],
            [
             0.9,
             "rgb(33,102,172)"
            ],
            [
             1,
             "rgb(5,48,97)"
            ]
           ],
           "sequential": [
            [
             0,
             "#440154"
            ],
            [
             0.1111111111111111,
             "#482878"
            ],
            [
             0.2222222222222222,
             "#3e4989"
            ],
            [
             0.3333333333333333,
             "#31688e"
            ],
            [
             0.4444444444444444,
             "#26828e"
            ],
            [
             0.5555555555555556,
             "#1f9e89"
            ],
            [
             0.6666666666666666,
             "#35b779"
            ],
            [
             0.7777777777777778,
             "#6ece58"
            ],
            [
             0.8888888888888888,
             "#b5de2b"
            ],
            [
             1,
             "#fde725"
            ]
           ],
           "sequentialminus": [
            [
             0,
             "#440154"
            ],
            [
             0.1111111111111111,
             "#482878"
            ],
            [
             0.2222222222222222,
             "#3e4989"
            ],
            [
             0.3333333333333333,
             "#31688e"
            ],
            [
             0.4444444444444444,
             "#26828e"
            ],
            [
             0.5555555555555556,
             "#1f9e89"
            ],
            [
             0.6666666666666666,
             "#35b779"
            ],
            [
             0.7777777777777778,
             "#6ece58"
            ],
            [
             0.8888888888888888,
             "#b5de2b"
            ],
            [
             1,
             "#fde725"
            ]
           ]
          },
          "colorway": [
           "#1F77B4",
           "#FF7F0E",
           "#2CA02C",
           "#D62728",
           "#9467BD",
           "#8C564B",
           "#E377C2",
           "#7F7F7F",
           "#BCBD22",
           "#17BECF"
          ],
          "font": {
           "color": "rgb(36,36,36)"
          },
          "geo": {
           "bgcolor": "white",
           "lakecolor": "white",
           "landcolor": "white",
           "showlakes": true,
           "showland": true,
           "subunitcolor": "white"
          },
          "hoverlabel": {
           "align": "left"
          },
          "hovermode": "closest",
          "mapbox": {
           "style": "light"
          },
          "margin": {
           "b": 0,
           "l": 20,
           "r": 20,
           "t": 40
          },
          "paper_bgcolor": "white",
          "plot_bgcolor": "white",
          "polar": {
           "angularaxis": {
            "gridcolor": "rgb(232,232,232)",
            "linecolor": "rgb(36,36,36)",
            "showgrid": false,
            "showline": true,
            "ticks": "outside"
           },
           "bgcolor": "white",
           "radialaxis": {
            "gridcolor": "rgb(232,232,232)",
            "linecolor": "rgb(36,36,36)",
            "showgrid": false,
            "showline": true,
            "ticks": "outside"
           }
          },
          "scene": {
           "xaxis": {
            "backgroundcolor": "white",
            "gridcolor": "rgb(232,232,232)",
            "gridwidth": 2,
            "linecolor": "rgb(36,36,36)",
            "showbackground": true,
            "showgrid": false,
            "showline": true,
            "ticks": "outside",
            "zeroline": false,
            "zerolinecolor": "rgb(36,36,36)"
           },
           "yaxis": {
            "backgroundcolor": "white",
            "gridcolor": "rgb(232,232,232)",
            "gridwidth": 2,
            "linecolor": "rgb(36,36,36)",
            "showbackground": true,
            "showgrid": false,
            "showline": true,
            "ticks": "outside",
            "zeroline": false,
            "zerolinecolor": "rgb(36,36,36)"
           },
           "zaxis": {
            "backgroundcolor": "white",
            "gridcolor": "rgb(232,232,232)",
            "gridwidth": 2,
            "linecolor": "rgb(36,36,36)",
            "showbackground": true,
            "showgrid": false,
            "showline": true,
            "ticks": "outside",
            "zeroline": false,
            "zerolinecolor": "rgb(36,36,36)"
           }
          },
          "shapedefaults": {
           "fillcolor": "black",
           "line": {
            "width": 0
           },
           "opacity": 0.3
          },
          "ternary": {
           "aaxis": {
            "gridcolor": "rgb(232,232,232)",
            "linecolor": "rgb(36,36,36)",
            "showgrid": false,
            "showline": true,
            "ticks": "outside"
           },
           "baxis": {
            "gridcolor": "rgb(232,232,232)",
            "linecolor": "rgb(36,36,36)",
            "showgrid": false,
            "showline": true,
            "ticks": "outside"
           },
           "bgcolor": "white",
           "caxis": {
            "gridcolor": "rgb(232,232,232)",
            "linecolor": "rgb(36,36,36)",
            "showgrid": false,
            "showline": true,
            "ticks": "outside"
           }
          },
          "title": {
           "x": 0.05
          },
          "xaxis": {
           "automargin": true,
           "gridcolor": "rgb(232,232,232)",
           "linecolor": "rgb(36,36,36)",
           "showgrid": false,
           "showline": true,
           "ticks": "outside",
           "title": {
            "standoff": 15
           },
           "zeroline": false,
           "zerolinecolor": "rgb(36,36,36)"
          },
          "yaxis": {
           "automargin": true,
           "gridcolor": "rgb(232,232,232)",
           "linecolor": "rgb(36,36,36)",
           "showgrid": false,
           "showline": true,
           "ticks": "outside",
           "title": {
            "standoff": 15
           },
           "zeroline": false,
           "zerolinecolor": "rgb(36,36,36)"
          }
         }
        },
        "title": {
         "text": "$\\text{(4) Simulated Data With Noise - Fitting Polynomials of Different Degrees}$"
        },
        "xaxis": {
         "anchor": "y",
         "domain": [
          0,
          0.2888888888888889
         ]
        },
        "xaxis2": {
         "anchor": "y2",
         "domain": [
          0.35555555555555557,
          0.6444444444444445
         ]
        },
        "xaxis3": {
         "anchor": "y3",
         "domain": [
          0.7111111111111111,
          1
         ]
        },
        "xaxis4": {
         "anchor": "y4",
         "domain": [
          0,
          0.2888888888888889
         ]
        },
        "xaxis5": {
         "anchor": "y5",
         "domain": [
          0.35555555555555557,
          0.6444444444444445
         ]
        },
        "xaxis6": {
         "anchor": "y6",
         "domain": [
          0.7111111111111111,
          1
         ]
        },
        "yaxis": {
         "anchor": "x",
         "domain": [
          0.625,
          1
         ]
        },
        "yaxis2": {
         "anchor": "x2",
         "domain": [
          0.625,
          1
         ]
        },
        "yaxis3": {
         "anchor": "x3",
         "domain": [
          0.625,
          1
         ]
        },
        "yaxis4": {
         "anchor": "x4",
         "domain": [
          0,
          0.375
         ]
        },
        "yaxis5": {
         "anchor": "x5",
         "domain": [
          0,
          0.375
         ]
        },
        "yaxis6": {
         "anchor": "x6",
         "domain": [
          0,
          0.375
         ]
        }
       }
      },
      "text/html": [
       "<div>                            <div id=\"b9cc1ec4-c163-4be4-b73e-83fc321c4ebf\" class=\"plotly-graph-div\" style=\"height:525px; width:100%;\"></div>            <script type=\"text/javascript\">                require([\"plotly\"], function(Plotly) {                    window.PLOTLYENV=window.PLOTLYENV || {};                                    if (document.getElementById(\"b9cc1ec4-c163-4be4-b73e-83fc321c4ebf\")) {                    Plotly.newPlot(                        \"b9cc1ec4-c163-4be4-b73e-83fc321c4ebf\",                        [{\"marker\": {\"color\": \"black\", \"opacity\": 0.7}, \"mode\": \"markers\", \"name\": \"Real Points\", \"showlegend\": false, \"type\": \"scatter\", \"x\": [-1.2, -1.0358974358974358, -0.8717948717948718, -0.7076923076923076, -0.5435897435897435, -0.37948717948717947, -0.21538461538461529, -0.05128205128205132, 0.11282051282051286, 0.27692307692307705, 0.441025641025641, 0.6051282051282052, 0.7692307692307694, 0.9333333333333333, 1.0974358974358973, 1.2615384615384617, 1.4256410256410257, 1.5897435897435896, 1.753846153846154, 1.917948717948718], \"xaxis\": \"x\", \"y\": [5.8096, 3.8381753317244733, 2.522800884051074, 1.7092797030916282, 1.2608197821340592, 1.058034061642376, 0.9989404292566787, 0.9989617197931566, 0.9909257152440888, 0.9250651447778439, 0.7690176847388803, 0.5078259586477458, 0.14393753720107805, -0.3027950617283952, -0.7951143730918573, -1.278357984664403, -1.6804585370450331, -1.911943723656666, -1.8659362907461214, -1.418154037384138], \"yaxis\": \"y\"}, {\"marker\": {\"color\": \"red\", \"opacity\": 0.7}, \"mode\": \"markers\", \"name\": \"Observed Points\", \"showlegend\": false, \"type\": \"scatter\", \"x\": [-1.2, -1.0358974358974358, -0.8717948717948718, -0.7076923076923076, -0.5435897435897435, -0.37948717948717947, -0.21538461538461529, -0.05128205128205132, 0.11282051282051286, 0.27692307692307705, 0.441025641025641, 0.6051282051282052, 0.7692307692307694, 0.9333333333333333, 1.0974358974358973, 1.2615384615384617, 1.4256410256410257, 1.5897435897435896, 1.753846153846154, 1.917948717948718], \"xaxis\": \"x\", \"y\": [6.735566152461027, 4.122754037714723, 2.7419755809407835, 3.93924825954048, 1.1570379456696693, 0.6709271786940312, 0.3038149021085126, 0.9723976085183392, 0.2446992669722996, 1.7063474441990456, 0.6918013180535798, 1.0847090695714272, 0.3318738878550176, -1.1246187753063386, -2.2402765475289144, 1.3872119309233377, -1.0910462634446354, -1.7030778643758098, -4.203940624477999, -1.7689613970926115], \"yaxis\": \"y\"}, {\"marker\": {\"color\": \"blue\", \"opacity\": 0.7}, \"mode\": \"markers\", \"name\": \"Predicted Points\", \"showlegend\": false, \"type\": \"scatter\", \"x\": [-1.2, -1.0358974358974358, -0.8717948717948718, -0.7076923076923076, -0.5435897435897435, -0.37948717948717947, -0.21538461538461529, -0.05128205128205132, 0.11282051282051286, 0.27692307692307705, 0.441025641025641, 0.6051282051282052, 0.7692307692307694, 0.9333333333333333, 1.0974358974358973, 1.2615384615384617, 1.4256410256410257, 1.5897435897435896, 1.753846153846154, 1.917948717948718], \"xaxis\": \"x\", \"y\": [4.72117687567039, 4.1583062932851425, 3.618664058488304, 3.1022501712798727, 2.60906463165985, 2.139107439628235, 1.6923785951850274, 1.2688780983302286, 0.8686059490638371, 0.4915621473858535, 0.13774669329627848, -0.19284041320488926, -0.5001991721176491, -0.7843295834420003, -1.045231647177944, -1.2829053633254803, -1.4973507318846078, -1.6885677528553273, -1.85655642623764, -2.001316752031544], \"yaxis\": \"y\"}, {\"marker\": {\"color\": \"black\", \"opacity\": 0.7}, \"mode\": \"markers\", \"name\": \"Real Points\", \"showlegend\": false, \"type\": \"scatter\", \"x\": [-1.2, -1.0358974358974358, -0.8717948717948718, -0.7076923076923076, -0.5435897435897435, -0.37948717948717947, -0.21538461538461529, -0.05128205128205132, 0.11282051282051286, 0.27692307692307705, 0.441025641025641, 0.6051282051282052, 0.7692307692307694, 0.9333333333333333, 1.0974358974358973, 1.2615384615384617, 1.4256410256410257, 1.5897435897435896, 1.753846153846154, 1.917948717948718], \"xaxis\": \"x2\", \"y\": [5.8096, 3.8381753317244733, 2.522800884051074, 1.7092797030916282, 1.2608197821340592, 1.058034061642376, 0.9989404292566787, 0.9989617197931566, 0.9909257152440888, 0.9250651447778439, 0.7690176847388803, 0.5078259586477458, 0.14393753720107805, -0.3027950617283952, -0.7951143730918573, -1.278357984664403, -1.6804585370450331, -1.911943723656666, -1.8659362907461214, -1.418154037384138], \"yaxis\": \"y2\"}, {\"marker\": {\"color\": \"red\", \"opacity\": 0.7}, \"mode\": \"markers\", \"name\": \"Observed Points\", \"showlegend\": false, \"type\": \"scatter\", \"x\": [-1.2, -1.0358974358974358, -0.8717948717948718, -0.7076923076923076, -0.5435897435897435, -0.37948717948717947, -0.21538461538461529, -0.05128205128205132, 0.11282051282051286, 0.27692307692307705, 0.441025641025641, 0.6051282051282052, 0.7692307692307694, 0.9333333333333333, 1.0974358974358973, 1.2615384615384617, 1.4256410256410257, 1.5897435897435896, 1.753846153846154, 1.917948717948718], \"xaxis\": \"x2\", \"y\": [6.735566152461027, 4.122754037714723, 2.7419755809407835, 3.93924825954048, 1.1570379456696693, 0.6709271786940312, 0.3038149021085126, 0.9723976085183392, 0.2446992669722996, 1.7063474441990456, 0.6918013180535798, 1.0847090695714272, 0.3318738878550176, -1.1246187753063386, -2.2402765475289144, 1.3872119309233377, -1.0910462634446354, -1.7030778643758098, -4.203940624477999, -1.7689613970926115], \"yaxis\": \"y2\"}, {\"marker\": {\"color\": \"blue\", \"opacity\": 0.7}, \"mode\": \"markers\", \"name\": \"Predicted Points\", \"showlegend\": false, \"type\": \"scatter\", \"x\": [-1.2, -1.0358974358974358, -0.8717948717948718, -0.7076923076923076, -0.5435897435897435, -0.37948717948717947, -0.21538461538461529, -0.05128205128205132, 0.11282051282051286, 0.27692307692307705, 0.441025641025641, 0.6051282051282052, 0.7692307692307694, 0.9333333333333333, 1.0974358974358973, 1.2615384615384617, 1.4256410256410257, 1.5897435897435896, 1.753846153846154, 1.917948717948718], \"xaxis\": \"x2\", \"y\": [5.9876778352176085, 4.624911909960435, 3.507567483089429, 2.609504183922497, 1.9045816417775523, 1.3666594859725056, 0.969597345825267, 0.6872548506537485, 0.4934916297758602, 0.3621673125095136, 0.26714152817261955, 0.1822739060830887, 0.08142407555883235, -0.06154833408223859, -0.2727836935222131, -0.5784223734431816, -1.0046047445272301, -1.57747117745645, -2.3231620429129323, -3.2678177115787603], \"yaxis\": \"y2\"}, {\"marker\": {\"color\": \"black\", \"opacity\": 0.7}, \"mode\": \"markers\", \"name\": \"Real Points\", \"showlegend\": false, \"type\": \"scatter\", \"x\": [-1.2, -1.0358974358974358, -0.8717948717948718, -0.7076923076923076, -0.5435897435897435, -0.37948717948717947, -0.21538461538461529, -0.05128205128205132, 0.11282051282051286, 0.27692307692307705, 0.441025641025641, 0.6051282051282052, 0.7692307692307694, 0.9333333333333333, 1.0974358974358973, 1.2615384615384617, 1.4256410256410257, 1.5897435897435896, 1.753846153846154, 1.917948717948718], \"xaxis\": \"x3\", \"y\": [5.8096, 3.8381753317244733, 2.522800884051074, 1.7092797030916282, 1.2608197821340592, 1.058034061642376, 0.9989404292566787, 0.9989617197931566, 0.9909257152440888, 0.9250651447778439, 0.7690176847388803, 0.5078259586477458, 0.14393753720107805, -0.3027950617283952, -0.7951143730918573, -1.278357984664403, -1.6804585370450331, -1.911943723656666, -1.8659362907461214, -1.418154037384138], \"yaxis\": \"y3\"}, {\"marker\": {\"color\": \"red\", \"opacity\": 0.7}, \"mode\": \"markers\", \"name\": \"Observed Points\", \"showlegend\": false, \"type\": \"scatter\", \"x\": [-1.2, -1.0358974358974358, -0.8717948717948718, -0.7076923076923076, -0.5435897435897435, -0.37948717948717947, -0.21538461538461529, -0.05128205128205132, 0.11282051282051286, 0.27692307692307705, 0.441025641025641, 0.6051282051282052, 0.7692307692307694, 0.9333333333333333, 1.0974358974358973, 1.2615384615384617, 1.4256410256410257, 1.5897435897435896, 1.753846153846154, 1.917948717948718], \"xaxis\": \"x3\", \"y\": [6.735566152461027, 4.122754037714723, 2.7419755809407835, 3.93924825954048, 1.1570379456696693, 0.6709271786940312, 0.3038149021085126, 0.9723976085183392, 0.2446992669722996, 1.7063474441990456, 0.6918013180535798, 1.0847090695714272, 0.3318738878550176, -1.1246187753063386, -2.2402765475289144, 1.3872119309233377, -1.0910462634446354, -1.7030778643758098, -4.203940624477999, -1.7689613970926115], \"yaxis\": \"y3\"}, {\"marker\": {\"color\": \"blue\", \"opacity\": 0.7}, \"mode\": \"markers\", \"name\": \"Predicted Points\", \"showlegend\": false, \"type\": \"scatter\", \"x\": [-1.2, -1.0358974358974358, -0.8717948717948718, -0.7076923076923076, -0.5435897435897435, -0.37948717948717947, -0.21538461538461529, -0.05128205128205132, 0.11282051282051286, 0.27692307692307705, 0.441025641025641, 0.6051282051282052, 0.7692307692307694, 0.9333333333333333, 1.0974358974358973, 1.2615384615384617, 1.4256410256410257, 1.5897435897435896, 1.753846153846154, 1.917948717948718], \"xaxis\": \"x3\", \"y\": [6.6111719614988225, 4.592096429629847, 3.14659719945294, 2.158452189574584, 1.5226995324401968, 1.1456375743341205, 0.9448248753796264, 0.8490802095389138, 0.7984825646131096, 0.744371142242269, 0.6493453579053747, 0.487264840920338, 0.2432494344439975, -0.0863208045278796, -0.4938056051605981, -0.9603044827805376, -1.4556567388751436, -1.9384414610929408, -2.35597752324352, -2.6443235852975473], \"yaxis\": \"y3\"}, {\"marker\": {\"color\": \"black\", \"opacity\": 0.7}, \"mode\": \"markers\", \"name\": \"Real Points\", \"showlegend\": false, \"type\": \"scatter\", \"x\": [-1.2, -1.0358974358974358, -0.8717948717948718, -0.7076923076923076, -0.5435897435897435, -0.37948717948717947, -0.21538461538461529, -0.05128205128205132, 0.11282051282051286, 0.27692307692307705, 0.441025641025641, 0.6051282051282052, 0.7692307692307694, 0.9333333333333333, 1.0974358974358973, 1.2615384615384617, 1.4256410256410257, 1.5897435897435896, 1.753846153846154, 1.917948717948718], \"xaxis\": \"x4\", \"y\": [5.8096, 3.8381753317244733, 2.522800884051074, 1.7092797030916282, 1.2608197821340592, 1.058034061642376, 0.9989404292566787, 0.9989617197931566, 0.9909257152440888, 0.9250651447778439, 0.7690176847388803, 0.5078259586477458, 0.14393753720107805, -0.3027950617283952, -0.7951143730918573, -1.278357984664403, -1.6804585370450331, -1.911943723656666, -1.8659362907461214, -1.418154037384138], \"yaxis\": \"y4\"}, {\"marker\": {\"color\": \"red\", \"opacity\": 0.7}, \"mode\": \"markers\", \"name\": \"Observed Points\", \"showlegend\": false, \"type\": \"scatter\", \"x\": [-1.2, -1.0358974358974358, -0.8717948717948718, -0.7076923076923076, -0.5435897435897435, -0.37948717948717947, -0.21538461538461529, -0.05128205128205132, 0.11282051282051286, 0.27692307692307705, 0.441025641025641, 0.6051282051282052, 0.7692307692307694, 0.9333333333333333, 1.0974358974358973, 1.2615384615384617, 1.4256410256410257, 1.5897435897435896, 1.753846153846154, 1.917948717948718], \"xaxis\": \"x4\", \"y\": [6.735566152461027, 4.122754037714723, 2.7419755809407835, 3.93924825954048, 1.1570379456696693, 0.6709271786940312, 0.3038149021085126, 0.9723976085183392, 0.2446992669722996, 1.7063474441990456, 0.6918013180535798, 1.0847090695714272, 0.3318738878550176, -1.1246187753063386, -2.2402765475289144, 1.3872119309233377, -1.0910462634446354, -1.7030778643758098, -4.203940624477999, -1.7689613970926115], \"yaxis\": \"y4\"}, {\"marker\": {\"color\": \"blue\", \"opacity\": 0.7}, \"mode\": \"markers\", \"name\": \"Predicted Points\", \"showlegend\": false, \"type\": \"scatter\", \"x\": [-1.2, -1.0358974358974358, -0.8717948717948718, -0.7076923076923076, -0.5435897435897435, -0.37948717948717947, -0.21538461538461529, -0.05128205128205132, 0.11282051282051286, 0.27692307692307705, 0.441025641025641, 0.6051282051282052, 0.7692307692307694, 0.9333333333333333, 1.0974358974358973, 1.2615384615384617, 1.4256410256410257, 1.5897435897435896, 1.753846153846154, 1.917948717948718], \"xaxis\": \"x4\", \"y\": [6.463377903777509, 4.677661410415862, 3.284019744351695, 2.2516432827301216, 1.5369603625711985, 1.0868402479651167, 0.8417960972674041, 0.7391879302941232, 0.7164255955170683, 0.7141717372589661, 0.6795447628886735, 0.5693218100163752, 0.3531417136887838, 0.016707973584338065, -0.435008278791599, -0.9745653129115446, -1.5488478320306855, -2.0758640059916997, -2.441542504029538, -2.496529527576241], \"yaxis\": \"y4\"}, {\"marker\": {\"color\": \"black\", \"opacity\": 0.7}, \"mode\": \"markers\", \"name\": \"Real Points\", \"showlegend\": false, \"type\": \"scatter\", \"x\": [-1.2, -1.0358974358974358, -0.8717948717948718, -0.7076923076923076, -0.5435897435897435, -0.37948717948717947, -0.21538461538461529, -0.05128205128205132, 0.11282051282051286, 0.27692307692307705, 0.441025641025641, 0.6051282051282052, 0.7692307692307694, 0.9333333333333333, 1.0974358974358973, 1.2615384615384617, 1.4256410256410257, 1.5897435897435896, 1.753846153846154, 1.917948717948718], \"xaxis\": \"x5\", \"y\": [5.8096, 3.8381753317244733, 2.522800884051074, 1.7092797030916282, 1.2608197821340592, 1.058034061642376, 0.9989404292566787, 0.9989617197931566, 0.9909257152440888, 0.9250651447778439, 0.7690176847388803, 0.5078259586477458, 0.14393753720107805, -0.3027950617283952, -0.7951143730918573, -1.278357984664403, -1.6804585370450331, -1.911943723656666, -1.8659362907461214, -1.418154037384138], \"yaxis\": \"y5\"}, {\"marker\": {\"color\": \"red\", \"opacity\": 0.7}, \"mode\": \"markers\", \"name\": \"Observed Points\", \"showlegend\": false, \"type\": \"scatter\", \"x\": [-1.2, -1.0358974358974358, -0.8717948717948718, -0.7076923076923076, -0.5435897435897435, -0.37948717948717947, -0.21538461538461529, -0.05128205128205132, 0.11282051282051286, 0.27692307692307705, 0.441025641025641, 0.6051282051282052, 0.7692307692307694, 0.9333333333333333, 1.0974358974358973, 1.2615384615384617, 1.4256410256410257, 1.5897435897435896, 1.753846153846154, 1.917948717948718], \"xaxis\": \"x5\", \"y\": [6.735566152461027, 4.122754037714723, 2.7419755809407835, 3.93924825954048, 1.1570379456696693, 0.6709271786940312, 0.3038149021085126, 0.9723976085183392, 0.2446992669722996, 1.7063474441990456, 0.6918013180535798, 1.0847090695714272, 0.3318738878550176, -1.1246187753063386, -2.2402765475289144, 1.3872119309233377, -1.0910462634446354, -1.7030778643758098, -4.203940624477999, -1.7689613970926115], \"yaxis\": \"y5\"}, {\"marker\": {\"color\": \"blue\", \"opacity\": 0.7}, \"mode\": \"markers\", \"name\": \"Predicted Points\", \"showlegend\": false, \"type\": \"scatter\", \"x\": [-1.2, -1.0358974358974358, -0.8717948717948718, -0.7076923076923076, -0.5435897435897435, -0.37948717948717947, -0.21538461538461529, -0.05128205128205132, 0.11282051282051286, 0.27692307692307705, 0.441025641025641, 0.6051282051282052, 0.7692307692307694, 0.9333333333333333, 1.0974358974358973, 1.2615384615384617, 1.4256410256410257, 1.5897435897435896, 1.753846153846154, 1.917948717948718], \"xaxis\": \"x5\", \"y\": [6.557588546201052, 4.563616948534726, 3.193114738504413, 2.2519349565456737, 1.6097329795516147, 1.1807106042705173, 0.9075685426745547, 0.7486673292995889, 0.6683966405560456, 0.6307530260108738, 0.5961260516405806, 0.5212928550553518, 0.3626211126942478, 0.08248041899148517, -0.3411379224862058, -0.9017926959311444, -1.548556158215166, -2.1667690118390412, -2.5555869659107797, -2.402318885152873], \"yaxis\": \"y5\"}, {\"marker\": {\"color\": \"black\", \"opacity\": 0.7}, \"mode\": \"markers\", \"name\": \"Real Points\", \"showlegend\": false, \"type\": \"scatter\", \"x\": [-1.2, -1.0358974358974358, -0.8717948717948718, -0.7076923076923076, -0.5435897435897435, -0.37948717948717947, -0.21538461538461529, -0.05128205128205132, 0.11282051282051286, 0.27692307692307705, 0.441025641025641, 0.6051282051282052, 0.7692307692307694, 0.9333333333333333, 1.0974358974358973, 1.2615384615384617, 1.4256410256410257, 1.5897435897435896, 1.753846153846154, 1.917948717948718], \"xaxis\": \"x6\", \"y\": [5.8096, 3.8381753317244733, 2.522800884051074, 1.7092797030916282, 1.2608197821340592, 1.058034061642376, 0.9989404292566787, 0.9989617197931566, 0.9909257152440888, 0.9250651447778439, 0.7690176847388803, 0.5078259586477458, 0.14393753720107805, -0.3027950617283952, -0.7951143730918573, -1.278357984664403, -1.6804585370450331, -1.911943723656666, -1.8659362907461214, -1.418154037384138], \"yaxis\": \"y6\"}, {\"marker\": {\"color\": \"red\", \"opacity\": 0.7}, \"mode\": \"markers\", \"name\": \"Observed Points\", \"showlegend\": false, \"type\": \"scatter\", \"x\": [-1.2, -1.0358974358974358, -0.8717948717948718, -0.7076923076923076, -0.5435897435897435, -0.37948717948717947, -0.21538461538461529, -0.05128205128205132, 0.11282051282051286, 0.27692307692307705, 0.441025641025641, 0.6051282051282052, 0.7692307692307694, 0.9333333333333333, 1.0974358974358973, 1.2615384615384617, 1.4256410256410257, 1.5897435897435896, 1.753846153846154, 1.917948717948718], \"xaxis\": \"x6\", \"y\": [6.735566152461027, 4.122754037714723, 2.7419755809407835, 3.93924825954048, 1.1570379456696693, 0.6709271786940312, 0.3038149021085126, 0.9723976085183392, 0.2446992669722996, 1.7063474441990456, 0.6918013180535798, 1.0847090695714272, 0.3318738878550176, -1.1246187753063386, -2.2402765475289144, 1.3872119309233377, -1.0910462634446354, -1.7030778643758098, -4.203940624477999, -1.7689613970926115], \"yaxis\": \"y6\"}, {\"marker\": {\"color\": \"blue\", \"opacity\": 0.7}, \"mode\": \"markers\", \"name\": \"Predicted Points\", \"showlegend\": false, \"type\": \"scatter\", \"x\": [-1.2, -1.0358974358974358, -0.8717948717948718, -0.7076923076923076, -0.5435897435897435, -0.37948717948717947, -0.21538461538461529, -0.05128205128205132, 0.11282051282051286, 0.27692307692307705, 0.441025641025641, 0.6051282051282052, 0.7692307692307694, 0.9333333333333333, 1.0974358974358973, 1.2615384615384617, 1.4256410256410257, 1.5897435897435896, 1.753846153846154, 1.917948717948718], \"xaxis\": \"x6\", \"y\": [6.391444092744906, 4.887161410528268, 3.2718147427731115, 2.0713878879292444, 1.3805770847692267, 1.081178245930696, 0.9901263902897662, 0.9485036146485496, 0.862831945219899, 0.7099674093924464, 0.5169116682590181, 0.326857550391509, 0.1627848273452992, -7.742862371218351e-05, -0.2416055641463668, -0.6726368011487311, -1.368009089598699, -2.2454690161076893, -2.879131427904241, -2.2361744316965897], \"yaxis\": \"y6\"}],                        {\"annotations\": [{\"font\": {\"size\": 16}, \"showarrow\": false, \"text\": \"$k=2, MSE=1.54$\", \"x\": 0.14444444444444446, \"xanchor\": \"center\", \"xref\": \"paper\", \"y\": 1.0, \"yanchor\": \"bottom\", \"yref\": \"paper\"}, {\"font\": {\"size\": 16}, \"showarrow\": false, \"text\": \"$k=3, MSE=1.12$\", \"x\": 0.5, \"xanchor\": \"center\", \"xref\": \"paper\", \"y\": 1.0, \"yanchor\": \"bottom\", \"yref\": \"paper\"}, {\"font\": {\"size\": 16}, \"showarrow\": false, \"text\": \"$k=4, MSE=1.0$\", \"x\": 0.8555555555555556, \"xanchor\": \"center\", \"xref\": \"paper\", \"y\": 1.0, \"yanchor\": \"bottom\", \"yref\": \"paper\"}, {\"font\": {\"size\": 16}, \"showarrow\": false, \"text\": \"$k=5, MSE=0.99$\", \"x\": 0.14444444444444446, \"xanchor\": \"center\", \"xref\": \"paper\", \"y\": 0.375, \"yanchor\": \"bottom\", \"yref\": \"paper\"}, {\"font\": {\"size\": 16}, \"showarrow\": false, \"text\": \"$k=6, MSE=0.98$\", \"x\": 0.5, \"xanchor\": \"center\", \"xref\": \"paper\", \"y\": 0.375, \"yanchor\": \"bottom\", \"yref\": \"paper\"}, {\"font\": {\"size\": 16}, \"showarrow\": false, \"text\": \"$k=7, MSE=0.95$\", \"x\": 0.8555555555555556, \"xanchor\": \"center\", \"xref\": \"paper\", \"y\": 0.375, \"yanchor\": \"bottom\", \"yref\": \"paper\"}], \"margin\": {\"t\": 80}, \"template\": {\"data\": {\"bar\": [{\"error_x\": {\"color\": \"rgb(36,36,36)\"}, \"error_y\": {\"color\": \"rgb(36,36,36)\"}, \"marker\": {\"line\": {\"color\": \"white\", \"width\": 0.5}}, \"type\": \"bar\"}], \"barpolar\": [{\"marker\": {\"line\": {\"color\": \"white\", \"width\": 0.5}}, \"type\": \"barpolar\"}], \"carpet\": [{\"aaxis\": {\"endlinecolor\": \"rgb(36,36,36)\", \"gridcolor\": \"white\", \"linecolor\": \"white\", \"minorgridcolor\": \"white\", \"startlinecolor\": \"rgb(36,36,36)\"}, \"baxis\": {\"endlinecolor\": \"rgb(36,36,36)\", \"gridcolor\": \"white\", \"linecolor\": \"white\", \"minorgridcolor\": \"white\", \"startlinecolor\": \"rgb(36,36,36)\"}, \"type\": \"carpet\"}], \"choropleth\": [{\"colorbar\": {\"outlinewidth\": 1, \"tickcolor\": \"rgb(36,36,36)\", \"ticks\": \"outside\"}, \"type\": \"choropleth\"}], \"contour\": [{\"colorbar\": {\"outlinewidth\": 1, \"tickcolor\": \"rgb(36,36,36)\", \"ticks\": \"outside\"}, \"colorscale\": [[0.0, \"#440154\"], [0.1111111111111111, \"#482878\"], [0.2222222222222222, \"#3e4989\"], [0.3333333333333333, \"#31688e\"], [0.4444444444444444, \"#26828e\"], [0.5555555555555556, \"#1f9e89\"], [0.6666666666666666, \"#35b779\"], [0.7777777777777778, \"#6ece58\"], [0.8888888888888888, \"#b5de2b\"], [1.0, \"#fde725\"]], \"type\": \"contour\"}], \"contourcarpet\": [{\"colorbar\": {\"outlinewidth\": 1, \"tickcolor\": \"rgb(36,36,36)\", \"ticks\": \"outside\"}, \"type\": \"contourcarpet\"}], \"heatmap\": [{\"colorbar\": {\"outlinewidth\": 1, \"tickcolor\": \"rgb(36,36,36)\", \"ticks\": \"outside\"}, \"colorscale\": [[0.0, \"#440154\"], [0.1111111111111111, \"#482878\"], [0.2222222222222222, \"#3e4989\"], [0.3333333333333333, \"#31688e\"], [0.4444444444444444, \"#26828e\"], [0.5555555555555556, \"#1f9e89\"], [0.6666666666666666, \"#35b779\"], [0.7777777777777778, \"#6ece58\"], [0.8888888888888888, \"#b5de2b\"], [1.0, \"#fde725\"]], \"type\": \"heatmap\"}], \"heatmapgl\": [{\"colorbar\": {\"outlinewidth\": 1, \"tickcolor\": \"rgb(36,36,36)\", \"ticks\": \"outside\"}, \"colorscale\": [[0.0, \"#440154\"], [0.1111111111111111, \"#482878\"], [0.2222222222222222, \"#3e4989\"], [0.3333333333333333, \"#31688e\"], [0.4444444444444444, \"#26828e\"], [0.5555555555555556, \"#1f9e89\"], [0.6666666666666666, \"#35b779\"], [0.7777777777777778, \"#6ece58\"], [0.8888888888888888, \"#b5de2b\"], [1.0, \"#fde725\"]], \"type\": \"heatmapgl\"}], \"histogram\": [{\"marker\": {\"line\": {\"color\": \"white\", \"width\": 0.6}}, \"type\": \"histogram\"}], \"histogram2d\": [{\"colorbar\": {\"outlinewidth\": 1, \"tickcolor\": \"rgb(36,36,36)\", \"ticks\": \"outside\"}, \"colorscale\": [[0.0, \"#440154\"], [0.1111111111111111, \"#482878\"], [0.2222222222222222, \"#3e4989\"], [0.3333333333333333, \"#31688e\"], [0.4444444444444444, \"#26828e\"], [0.5555555555555556, \"#1f9e89\"], [0.6666666666666666, \"#35b779\"], [0.7777777777777778, \"#6ece58\"], [0.8888888888888888, \"#b5de2b\"], [1.0, \"#fde725\"]], \"type\": \"histogram2d\"}], \"histogram2dcontour\": [{\"colorbar\": {\"outlinewidth\": 1, \"tickcolor\": \"rgb(36,36,36)\", \"ticks\": \"outside\"}, \"colorscale\": [[0.0, \"#440154\"], [0.1111111111111111, \"#482878\"], [0.2222222222222222, \"#3e4989\"], [0.3333333333333333, \"#31688e\"], [0.4444444444444444, \"#26828e\"], [0.5555555555555556, \"#1f9e89\"], [0.6666666666666666, \"#35b779\"], [0.7777777777777778, \"#6ece58\"], [0.8888888888888888, \"#b5de2b\"], [1.0, \"#fde725\"]], \"type\": \"histogram2dcontour\"}], \"mesh3d\": [{\"colorbar\": {\"outlinewidth\": 1, \"tickcolor\": \"rgb(36,36,36)\", \"ticks\": \"outside\"}, \"type\": \"mesh3d\"}], \"parcoords\": [{\"line\": {\"colorbar\": {\"outlinewidth\": 1, \"tickcolor\": \"rgb(36,36,36)\", \"ticks\": \"outside\"}}, \"type\": \"parcoords\"}], \"pie\": [{\"automargin\": true, \"type\": \"pie\"}], \"scatter\": [{\"marker\": {\"colorbar\": {\"outlinewidth\": 1, \"tickcolor\": \"rgb(36,36,36)\", \"ticks\": \"outside\"}}, \"type\": \"scatter\"}], \"scatter3d\": [{\"line\": {\"colorbar\": {\"outlinewidth\": 1, \"tickcolor\": \"rgb(36,36,36)\", \"ticks\": \"outside\"}}, \"marker\": {\"colorbar\": {\"outlinewidth\": 1, \"tickcolor\": \"rgb(36,36,36)\", \"ticks\": \"outside\"}}, \"type\": \"scatter3d\"}], \"scattercarpet\": [{\"marker\": {\"colorbar\": {\"outlinewidth\": 1, \"tickcolor\": \"rgb(36,36,36)\", \"ticks\": \"outside\"}}, \"type\": \"scattercarpet\"}], \"scattergeo\": [{\"marker\": {\"colorbar\": {\"outlinewidth\": 1, \"tickcolor\": \"rgb(36,36,36)\", \"ticks\": \"outside\"}}, \"type\": \"scattergeo\"}], \"scattergl\": [{\"marker\": {\"colorbar\": {\"outlinewidth\": 1, \"tickcolor\": \"rgb(36,36,36)\", \"ticks\": \"outside\"}}, \"type\": \"scattergl\"}], \"scattermapbox\": [{\"marker\": {\"colorbar\": {\"outlinewidth\": 1, \"tickcolor\": \"rgb(36,36,36)\", \"ticks\": \"outside\"}}, \"type\": \"scattermapbox\"}], \"scatterpolar\": [{\"marker\": {\"colorbar\": {\"outlinewidth\": 1, \"tickcolor\": \"rgb(36,36,36)\", \"ticks\": \"outside\"}}, \"type\": \"scatterpolar\"}], \"scatterpolargl\": [{\"marker\": {\"colorbar\": {\"outlinewidth\": 1, \"tickcolor\": \"rgb(36,36,36)\", \"ticks\": \"outside\"}}, \"type\": \"scatterpolargl\"}], \"scatterternary\": [{\"marker\": {\"colorbar\": {\"outlinewidth\": 1, \"tickcolor\": \"rgb(36,36,36)\", \"ticks\": \"outside\"}}, \"type\": \"scatterternary\"}], \"surface\": [{\"colorbar\": {\"outlinewidth\": 1, \"tickcolor\": \"rgb(36,36,36)\", \"ticks\": \"outside\"}, \"colorscale\": [[0.0, \"#440154\"], [0.1111111111111111, \"#482878\"], [0.2222222222222222, \"#3e4989\"], [0.3333333333333333, \"#31688e\"], [0.4444444444444444, \"#26828e\"], [0.5555555555555556, \"#1f9e89\"], [0.6666666666666666, \"#35b779\"], [0.7777777777777778, \"#6ece58\"], [0.8888888888888888, \"#b5de2b\"], [1.0, \"#fde725\"]], \"type\": \"surface\"}], \"table\": [{\"cells\": {\"fill\": {\"color\": \"rgb(237,237,237)\"}, \"line\": {\"color\": \"white\"}}, \"header\": {\"fill\": {\"color\": \"rgb(217,217,217)\"}, \"line\": {\"color\": \"white\"}}, \"type\": \"table\"}]}, \"layout\": {\"annotationdefaults\": {\"arrowhead\": 0, \"arrowwidth\": 1}, \"autotypenumbers\": \"strict\", \"coloraxis\": {\"colorbar\": {\"outlinewidth\": 1, \"tickcolor\": \"rgb(36,36,36)\", \"ticks\": \"outside\"}}, \"colorscale\": {\"diverging\": [[0.0, \"rgb(103,0,31)\"], [0.1, \"rgb(178,24,43)\"], [0.2, \"rgb(214,96,77)\"], [0.3, \"rgb(244,165,130)\"], [0.4, \"rgb(253,219,199)\"], [0.5, \"rgb(247,247,247)\"], [0.6, \"rgb(209,229,240)\"], [0.7, \"rgb(146,197,222)\"], [0.8, \"rgb(67,147,195)\"], [0.9, \"rgb(33,102,172)\"], [1.0, \"rgb(5,48,97)\"]], \"sequential\": [[0.0, \"#440154\"], [0.1111111111111111, \"#482878\"], [0.2222222222222222, \"#3e4989\"], [0.3333333333333333, \"#31688e\"], [0.4444444444444444, \"#26828e\"], [0.5555555555555556, \"#1f9e89\"], [0.6666666666666666, \"#35b779\"], [0.7777777777777778, \"#6ece58\"], [0.8888888888888888, \"#b5de2b\"], [1.0, \"#fde725\"]], \"sequentialminus\": [[0.0, \"#440154\"], [0.1111111111111111, \"#482878\"], [0.2222222222222222, \"#3e4989\"], [0.3333333333333333, \"#31688e\"], [0.4444444444444444, \"#26828e\"], [0.5555555555555556, \"#1f9e89\"], [0.6666666666666666, \"#35b779\"], [0.7777777777777778, \"#6ece58\"], [0.8888888888888888, \"#b5de2b\"], [1.0, \"#fde725\"]]}, \"colorway\": [\"#1F77B4\", \"#FF7F0E\", \"#2CA02C\", \"#D62728\", \"#9467BD\", \"#8C564B\", \"#E377C2\", \"#7F7F7F\", \"#BCBD22\", \"#17BECF\"], \"font\": {\"color\": \"rgb(36,36,36)\"}, \"geo\": {\"bgcolor\": \"white\", \"lakecolor\": \"white\", \"landcolor\": \"white\", \"showlakes\": true, \"showland\": true, \"subunitcolor\": \"white\"}, \"hoverlabel\": {\"align\": \"left\"}, \"hovermode\": \"closest\", \"mapbox\": {\"style\": \"light\"}, \"margin\": {\"b\": 0, \"l\": 20, \"r\": 20, \"t\": 40}, \"paper_bgcolor\": \"white\", \"plot_bgcolor\": \"white\", \"polar\": {\"angularaxis\": {\"gridcolor\": \"rgb(232,232,232)\", \"linecolor\": \"rgb(36,36,36)\", \"showgrid\": false, \"showline\": true, \"ticks\": \"outside\"}, \"bgcolor\": \"white\", \"radialaxis\": {\"gridcolor\": \"rgb(232,232,232)\", \"linecolor\": \"rgb(36,36,36)\", \"showgrid\": false, \"showline\": true, \"ticks\": \"outside\"}}, \"scene\": {\"xaxis\": {\"backgroundcolor\": \"white\", \"gridcolor\": \"rgb(232,232,232)\", \"gridwidth\": 2, \"linecolor\": \"rgb(36,36,36)\", \"showbackground\": true, \"showgrid\": false, \"showline\": true, \"ticks\": \"outside\", \"zeroline\": false, \"zerolinecolor\": \"rgb(36,36,36)\"}, \"yaxis\": {\"backgroundcolor\": \"white\", \"gridcolor\": \"rgb(232,232,232)\", \"gridwidth\": 2, \"linecolor\": \"rgb(36,36,36)\", \"showbackground\": true, \"showgrid\": false, \"showline\": true, \"ticks\": \"outside\", \"zeroline\": false, \"zerolinecolor\": \"rgb(36,36,36)\"}, \"zaxis\": {\"backgroundcolor\": \"white\", \"gridcolor\": \"rgb(232,232,232)\", \"gridwidth\": 2, \"linecolor\": \"rgb(36,36,36)\", \"showbackground\": true, \"showgrid\": false, \"showline\": true, \"ticks\": \"outside\", \"zeroline\": false, \"zerolinecolor\": \"rgb(36,36,36)\"}}, \"shapedefaults\": {\"fillcolor\": \"black\", \"line\": {\"width\": 0}, \"opacity\": 0.3}, \"ternary\": {\"aaxis\": {\"gridcolor\": \"rgb(232,232,232)\", \"linecolor\": \"rgb(36,36,36)\", \"showgrid\": false, \"showline\": true, \"ticks\": \"outside\"}, \"baxis\": {\"gridcolor\": \"rgb(232,232,232)\", \"linecolor\": \"rgb(36,36,36)\", \"showgrid\": false, \"showline\": true, \"ticks\": \"outside\"}, \"bgcolor\": \"white\", \"caxis\": {\"gridcolor\": \"rgb(232,232,232)\", \"linecolor\": \"rgb(36,36,36)\", \"showgrid\": false, \"showline\": true, \"ticks\": \"outside\"}}, \"title\": {\"x\": 0.05}, \"xaxis\": {\"automargin\": true, \"gridcolor\": \"rgb(232,232,232)\", \"linecolor\": \"rgb(36,36,36)\", \"showgrid\": false, \"showline\": true, \"ticks\": \"outside\", \"title\": {\"standoff\": 15}, \"zeroline\": false, \"zerolinecolor\": \"rgb(36,36,36)\"}, \"yaxis\": {\"automargin\": true, \"gridcolor\": \"rgb(232,232,232)\", \"linecolor\": \"rgb(36,36,36)\", \"showgrid\": false, \"showline\": true, \"ticks\": \"outside\", \"title\": {\"standoff\": 15}, \"zeroline\": false, \"zerolinecolor\": \"rgb(36,36,36)\"}}}, \"title\": {\"text\": \"$\\\\text{(4) Simulated Data With Noise - Fitting Polynomials of Different Degrees}$\"}, \"xaxis\": {\"anchor\": \"y\", \"domain\": [0.0, 0.2888888888888889]}, \"xaxis2\": {\"anchor\": \"y2\", \"domain\": [0.35555555555555557, 0.6444444444444445]}, \"xaxis3\": {\"anchor\": \"y3\", \"domain\": [0.7111111111111111, 1.0]}, \"xaxis4\": {\"anchor\": \"y4\", \"domain\": [0.0, 0.2888888888888889]}, \"xaxis5\": {\"anchor\": \"y5\", \"domain\": [0.35555555555555557, 0.6444444444444445]}, \"xaxis6\": {\"anchor\": \"y6\", \"domain\": [0.7111111111111111, 1.0]}, \"yaxis\": {\"anchor\": \"x\", \"domain\": [0.625, 1.0]}, \"yaxis2\": {\"anchor\": \"x2\", \"domain\": [0.625, 1.0]}, \"yaxis3\": {\"anchor\": \"x3\", \"domain\": [0.625, 1.0]}, \"yaxis4\": {\"anchor\": \"x4\", \"domain\": [0.0, 0.375]}, \"yaxis5\": {\"anchor\": \"x5\", \"domain\": [0.0, 0.375]}, \"yaxis6\": {\"anchor\": \"x6\", \"domain\": [0.0, 0.375]}},                        {\"responsive\": true}                    ).then(function(){\n",
       "                            \n",
       "var gd = document.getElementById('b9cc1ec4-c163-4be4-b73e-83fc321c4ebf');\n",
       "var x = new MutationObserver(function (mutations, observer) {{\n",
       "        var display = window.getComputedStyle(gd).display;\n",
       "        if (!display || display === 'none') {{\n",
       "            console.log([gd, 'removed!']);\n",
       "            Plotly.purge(gd);\n",
       "            observer.disconnect();\n",
       "        }}\n",
       "}});\n",
       "\n",
       "// Listen for the removal of the full notebook cells\n",
       "var notebookContainer = gd.closest('#notebook-container');\n",
       "if (notebookContainer) {{\n",
       "    x.observe(notebookContainer, {childList: true});\n",
       "}}\n",
       "\n",
       "// Listen for the clearing of the current output cell\n",
       "var outputEl = gd.closest('.output');\n",
       "if (outputEl) {{\n",
       "    x.observe(outputEl, {childList: true});\n",
       "}}\n",
       "\n",
       "                        })                };                });            </script>        </div>"
      ]
     },
     "metadata": {},
     "output_type": "display_data"
    }
   ],
   "source": [
    "y = y_ + np.random.normal(size=len(y_))\n",
    "\n",
    "ks = range(2, 8)\n",
    "fig = make_subplots(2, 3, subplot_titles=list(ks))\n",
    "for i, k in enumerate(ks):\n",
    "    r,c = i//3+1, i%3+1 \n",
    "    \n",
    "    y_hat = make_pipeline(PolynomialFeatures(k), LinearRegression(fit_intercept=False)).fit(X, y).predict(X)\n",
    "    fig.add_traces([go.Scatter(x=x, y=y_, mode=\"markers\", name=\"Real Points\",  marker=dict(color=\"black\", opacity=.7), showlegend=False),\n",
    "                    go.Scatter(x=x, y=y, mode=\"markers\", name=\"Observed Points\",  marker=dict(color=\"red\", opacity=.7), showlegend=False), \n",
    "                    go.Scatter(x=x, y=y_hat, mode=\"markers\", name=\"Predicted Points\",  marker=dict(color=\"blue\", opacity=.7), showlegend=False)], rows=r, cols=c)\n",
    "    fig[\"layout\"][\"annotations\"][i][\"text\"] = rf\"$k={{0}}, MSE={{1}}$\".format(k, round(np.mean((y-y_hat)**2), 2))\n",
    "\n",
    "fig.update_layout(title=r\"$\\text{(4) Simulated Data With Noise - Fitting Polynomials of Different Degrees}$\", margin=dict(t=80)).show()"
   ]
  },
  {
   "cell_type": "markdown",
   "metadata": {
    "pycharm": {
     "name": "#%% md\n"
    }
   },
   "source": [
    "How is it that we are able to fit \"better\" models for $k$s larger than the true one? As we increase $k$ we enable the model\n",
    "more \"degrees of freedom\" to try and adapt itself to the observed data. The higher $k$ the more the learner will \"go after\n",
    "the noise\" and miss the real signal of the data. In other words, what we have just observed is what is known as **overfitting**.\n",
    "\n",
    "Later in the course we will learn methods for detection and avoidance of overfitting.\n",
    "\n",
    "\n",
    "## Fitting Polynomial Over Different Sample Noise Levels\n",
    "\n",
    "Next, let us set $k=4$ (the true values) and study the outputted models when training over different noise levels. Though\n",
    "we will only be changing the scale of the noise (i.e. the variance, $\\sigma^2$), changing other properties such as its\n",
    "distribution is interesting too. As we would expect, as we increase the scale of the noise our error increases. We can\n",
    "observe this also in a visual manner, where the fitted polynomial (in blue) less and less resembles the actual model (in black)."
   ]
  },
  {
   "cell_type": "code",
   "execution_count": 7,
   "metadata": {
    "pycharm": {
     "is_executing": false,
     "name": "#%%\n"
    }
   },
   "outputs": [
    {
     "data": {
      "application/vnd.plotly.v1+json": {
       "config": {
        "plotlyServerURL": "https://plot.ly"
       },
       "data": [
        {
         "marker": {
          "color": "black",
          "opacity": 0.7
         },
         "mode": "markers",
         "name": "Real Points",
         "showlegend": false,
         "type": "scatter",
         "x": [
          -1.2,
          -1.0358974358974358,
          -0.8717948717948718,
          -0.7076923076923076,
          -0.5435897435897435,
          -0.37948717948717947,
          -0.21538461538461529,
          -0.05128205128205132,
          0.11282051282051286,
          0.27692307692307705,
          0.441025641025641,
          0.6051282051282052,
          0.7692307692307694,
          0.9333333333333333,
          1.0974358974358973,
          1.2615384615384617,
          1.4256410256410257,
          1.5897435897435896,
          1.753846153846154,
          1.917948717948718
         ],
         "xaxis": "x",
         "y": [
          5.8096,
          3.8381753317244733,
          2.522800884051074,
          1.7092797030916282,
          1.2608197821340592,
          1.058034061642376,
          0.9989404292566787,
          0.9989617197931566,
          0.9909257152440888,
          0.9250651447778439,
          0.7690176847388803,
          0.5078259586477458,
          0.14393753720107805,
          -0.3027950617283952,
          -0.7951143730918573,
          -1.278357984664403,
          -1.6804585370450331,
          -1.911943723656666,
          -1.8659362907461214,
          -1.418154037384138
         ],
         "yaxis": "y"
        },
        {
         "marker": {
          "color": "red",
          "opacity": 0.7
         },
         "mode": "markers",
         "name": "Observed Points",
         "showlegend": false,
         "type": "scatter",
         "x": [
          -1.2,
          -1.0358974358974358,
          -0.8717948717948718,
          -0.7076923076923076,
          -0.5435897435897435,
          -0.37948717948717947,
          -0.21538461538461529,
          -0.05128205128205132,
          0.11282051282051286,
          0.27692307692307705,
          0.441025641025641,
          0.6051282051282052,
          0.7692307692307694,
          0.9333333333333333,
          1.0974358974358973,
          1.2615384615384617,
          1.4256410256410257,
          1.5897435897435896,
          1.753846153846154,
          1.917948717948718
         ],
         "xaxis": "x",
         "y": [
          5.8096,
          3.8381753317244733,
          2.522800884051074,
          1.7092797030916282,
          1.2608197821340592,
          1.058034061642376,
          0.9989404292566787,
          0.9989617197931566,
          0.9909257152440888,
          0.9250651447778439,
          0.7690176847388803,
          0.5078259586477458,
          0.14393753720107805,
          -0.3027950617283952,
          -0.7951143730918573,
          -1.278357984664403,
          -1.6804585370450331,
          -1.911943723656666,
          -1.8659362907461214,
          -1.418154037384138
         ],
         "yaxis": "y"
        },
        {
         "marker": {
          "color": "blue",
          "opacity": 0.7
         },
         "mode": "markers",
         "name": "Predicted Points",
         "showlegend": false,
         "type": "scatter",
         "x": [
          -1.2,
          -1.0358974358974358,
          -0.8717948717948718,
          -0.7076923076923076,
          -0.5435897435897435,
          -0.37948717948717947,
          -0.21538461538461529,
          -0.05128205128205132,
          0.11282051282051286,
          0.27692307692307705,
          0.441025641025641,
          0.6051282051282052,
          0.7692307692307694,
          0.9333333333333333,
          1.0974358974358973,
          1.2615384615384617,
          1.4256410256410257,
          1.5897435897435896,
          1.753846153846154,
          1.917948717948718
         ],
         "xaxis": "x",
         "y": [
          5.809600000000005,
          3.838175331724477,
          2.5228008840510765,
          1.7092797030916298,
          1.26081978213406,
          1.0580340616423765,
          0.9989404292566788,
          0.9989617197931565,
          0.9909257152440889,
          0.9250651447778441,
          0.7690176847388805,
          0.507825958647746,
          0.1439375372010787,
          -0.3027950617283941,
          -0.7951143730918564,
          -1.2783579846644013,
          -1.6804585370450322,
          -1.9119437236566643,
          -1.86593629074612,
          -1.4181540373841361
         ],
         "yaxis": "y"
        },
        {
         "marker": {
          "color": "black",
          "opacity": 0.7
         },
         "mode": "markers",
         "name": "Real Points",
         "showlegend": false,
         "type": "scatter",
         "x": [
          -1.2,
          -1.0358974358974358,
          -0.8717948717948718,
          -0.7076923076923076,
          -0.5435897435897435,
          -0.37948717948717947,
          -0.21538461538461529,
          -0.05128205128205132,
          0.11282051282051286,
          0.27692307692307705,
          0.441025641025641,
          0.6051282051282052,
          0.7692307692307694,
          0.9333333333333333,
          1.0974358974358973,
          1.2615384615384617,
          1.4256410256410257,
          1.5897435897435896,
          1.753846153846154,
          1.917948717948718
         ],
         "xaxis": "x2",
         "y": [
          5.8096,
          3.8381753317244733,
          2.522800884051074,
          1.7092797030916282,
          1.2608197821340592,
          1.058034061642376,
          0.9989404292566787,
          0.9989617197931566,
          0.9909257152440888,
          0.9250651447778439,
          0.7690176847388803,
          0.5078259586477458,
          0.14393753720107805,
          -0.3027950617283952,
          -0.7951143730918573,
          -1.278357984664403,
          -1.6804585370450331,
          -1.911943723656666,
          -1.8659362907461214,
          -1.418154037384138
         ],
         "yaxis": "y2"
        },
        {
         "marker": {
          "color": "red",
          "opacity": 0.7
         },
         "mode": "markers",
         "name": "Observed Points",
         "showlegend": false,
         "type": "scatter",
         "x": [
          -1.2,
          -1.0358974358974358,
          -0.8717948717948718,
          -0.7076923076923076,
          -0.5435897435897435,
          -0.37948717948717947,
          -0.21538461538461529,
          -0.05128205128205132,
          0.11282051282051286,
          0.27692307692307705,
          0.441025641025641,
          0.6051282051282052,
          0.7692307692307694,
          0.9333333333333333,
          1.0974358974358973,
          1.2615384615384617,
          1.4256410256410257,
          1.5897435897435896,
          1.753846153846154,
          1.917948717948718
         ],
         "xaxis": "x2",
         "y": [
          5.950563039612076,
          2.9995669256802167,
          0.7651051922225189,
          0.953419383645049,
          2.484133080749474,
          2.112489104624788,
          0.7873002800238079,
          2.7020383504708523,
          1.3754677010930256,
          0.6117514926933462,
          0.6073821843145875,
          1.4191909972918557,
          -0.9336142174339861,
          -0.191860707350752,
          -0.5434926807591167,
          -1.0722921540597377,
          -2.8805943030056103,
          -1.5334591221500957,
          -1.6624777006293485,
          -2.504714035897462
         ],
         "yaxis": "y2"
        },
        {
         "marker": {
          "color": "blue",
          "opacity": 0.7
         },
         "mode": "markers",
         "name": "Predicted Points",
         "showlegend": false,
         "type": "scatter",
         "x": [
          -1.2,
          -1.0358974358974358,
          -0.8717948717948718,
          -0.7076923076923076,
          -0.5435897435897435,
          -0.37948717948717947,
          -0.21538461538461529,
          -0.05128205128205132,
          0.11282051282051286,
          0.27692307692307705,
          0.441025641025641,
          0.6051282051282052,
          0.7692307692307694,
          0.9333333333333333,
          1.0974358974358973,
          1.2615384615384617,
          1.4256410256410257,
          1.5897435897435896,
          1.753846153846154,
          1.917948717948718
         ],
         "xaxis": "x2",
         "y": [
          5.073751293727175,
          3.3436175393678162,
          2.251247481964505,
          1.6356723448847577,
          1.3547274922674675,
          1.2850524290228975,
          1.3220908008326826,
          1.380090394149829,
          1.3921031361987148,
          1.309985094975088,
          1.104396479246069,
          0.7648016385501496,
          0.29946906319719213,
          -0.2645286157315683,
          -0.8813146263835252,
          -1.4862080561347062,
          -1.9957238515897568,
          -2.30757281858196,
          -2.3006616221732266,
          -1.8350927866540907
         ],
         "yaxis": "y2"
        },
        {
         "marker": {
          "color": "black",
          "opacity": 0.7
         },
         "mode": "markers",
         "name": "Real Points",
         "showlegend": false,
         "type": "scatter",
         "x": [
          -1.2,
          -1.0358974358974358,
          -0.8717948717948718,
          -0.7076923076923076,
          -0.5435897435897435,
          -0.37948717948717947,
          -0.21538461538461529,
          -0.05128205128205132,
          0.11282051282051286,
          0.27692307692307705,
          0.441025641025641,
          0.6051282051282052,
          0.7692307692307694,
          0.9333333333333333,
          1.0974358974358973,
          1.2615384615384617,
          1.4256410256410257,
          1.5897435897435896,
          1.753846153846154,
          1.917948717948718
         ],
         "xaxis": "x3",
         "y": [
          5.8096,
          3.8381753317244733,
          2.522800884051074,
          1.7092797030916282,
          1.2608197821340592,
          1.058034061642376,
          0.9989404292566787,
          0.9989617197931566,
          0.9909257152440888,
          0.9250651447778439,
          0.7690176847388803,
          0.5078259586477458,
          0.14393753720107805,
          -0.3027950617283952,
          -0.7951143730918573,
          -1.278357984664403,
          -1.6804585370450331,
          -1.911943723656666,
          -1.8659362907461214,
          -1.418154037384138
         ],
         "yaxis": "y3"
        },
        {
         "marker": {
          "color": "red",
          "opacity": 0.7
         },
         "mode": "markers",
         "name": "Observed Points",
         "showlegend": false,
         "type": "scatter",
         "x": [
          -1.2,
          -1.0358974358974358,
          -0.8717948717948718,
          -0.7076923076923076,
          -0.5435897435897435,
          -0.37948717948717947,
          -0.21538461538461529,
          -0.05128205128205132,
          0.11282051282051286,
          0.27692307692307705,
          0.441025641025641,
          0.6051282051282052,
          0.7692307692307694,
          0.9333333333333333,
          1.0974358974358973,
          1.2615384615384617,
          1.4256410256410257,
          1.5897435897435896,
          1.753846153846154,
          1.917948717948718
         ],
         "xaxis": "x3",
         "y": [
          7.151463763310616,
          1.6408199380912465,
          -0.07424482217697603,
          2.3024110530707693,
          -0.12481379669302961,
          2.433982961069705,
          4.297963230412087,
          -1.200839643704994,
          5.0687277676082205,
          0.12420376427803759,
          -2.438464591924858,
          -1.8026064254896352,
          -0.106764215370035,
          0.18676396112173255,
          -2.8954030665782198,
          0.5580591434077828,
          -4.797872809111327,
          -2.1918351524558,
          2.458400863740049,
          -1.4828152918855313
         ],
         "yaxis": "y3"
        },
        {
         "marker": {
          "color": "blue",
          "opacity": 0.7
         },
         "mode": "markers",
         "name": "Predicted Points",
         "showlegend": false,
         "type": "scatter",
         "x": [
          -1.2,
          -1.0358974358974358,
          -0.8717948717948718,
          -0.7076923076923076,
          -0.5435897435897435,
          -0.37948717948717947,
          -0.21538461538461529,
          -0.05128205128205132,
          0.11282051282051286,
          0.27692307692307705,
          0.441025641025641,
          0.6051282051282052,
          0.7692307692307694,
          0.9333333333333333,
          1.0974358974358973,
          1.2615384615384617,
          1.4256410256410257,
          1.5897435897435896,
          1.753846153846154,
          1.917948717948718
         ],
         "xaxis": "x3",
         "y": [
          5.127353288042334,
          3.3101544337176607,
          2.178177948193391,
          1.545051392869825,
          1.2485024850924846,
          1.1503590981521055,
          1.1365492612846395,
          1.1171011596712561,
          1.026143134438339,
          0.821903682657489,
          0.48671145734552435,
          0.026995267464476447,
          -0.5267159220784046,
          -1.1197929904306523,
          -1.6735066607945868,
          -2.0850275004273096,
          -2.227425920640707,
          -1.9496721768014496,
          -1.0766363683309823,
          0.590911561294444
         ],
         "yaxis": "y3"
        },
        {
         "marker": {
          "color": "black",
          "opacity": 0.7
         },
         "mode": "markers",
         "name": "Real Points",
         "showlegend": false,
         "type": "scatter",
         "x": [
          -1.2,
          -1.0358974358974358,
          -0.8717948717948718,
          -0.7076923076923076,
          -0.5435897435897435,
          -0.37948717948717947,
          -0.21538461538461529,
          -0.05128205128205132,
          0.11282051282051286,
          0.27692307692307705,
          0.441025641025641,
          0.6051282051282052,
          0.7692307692307694,
          0.9333333333333333,
          1.0974358974358973,
          1.2615384615384617,
          1.4256410256410257,
          1.5897435897435896,
          1.753846153846154,
          1.917948717948718
         ],
         "xaxis": "x4",
         "y": [
          5.8096,
          3.8381753317244733,
          2.522800884051074,
          1.7092797030916282,
          1.2608197821340592,
          1.058034061642376,
          0.9989404292566787,
          0.9989617197931566,
          0.9909257152440888,
          0.9250651447778439,
          0.7690176847388803,
          0.5078259586477458,
          0.14393753720107805,
          -0.3027950617283952,
          -0.7951143730918573,
          -1.278357984664403,
          -1.6804585370450331,
          -1.911943723656666,
          -1.8659362907461214,
          -1.418154037384138
         ],
         "yaxis": "y4"
        },
        {
         "marker": {
          "color": "red",
          "opacity": 0.7
         },
         "mode": "markers",
         "name": "Observed Points",
         "showlegend": false,
         "type": "scatter",
         "x": [
          -1.2,
          -1.0358974358974358,
          -0.8717948717948718,
          -0.7076923076923076,
          -0.5435897435897435,
          -0.37948717948717947,
          -0.21538461538461529,
          -0.05128205128205132,
          0.11282051282051286,
          0.27692307692307705,
          0.441025641025641,
          0.6051282051282052,
          0.7692307692307694,
          0.9333333333333333,
          1.0974358974358973,
          1.2615384615384617,
          1.4256410256410257,
          1.5897435897435896,
          1.753846153846154,
          1.917948717948718
         ],
         "xaxis": "x4",
         "y": [
          9.481889809675204,
          4.0774095787686795,
          5.712754719791375,
          0.7378220303352491,
          1.2867959185380708,
          -1.408622006139505,
          0.6192736309694935,
          6.769812680299195,
          1.04875804673514,
          5.37925621540836,
          4.493819366972939,
          1.3734537800149673,
          -3.5236635820463738,
          -1.7392600359931238,
          0.1938682150043578,
          -1.2964247209819038,
          4.842590001139569,
          0.05370608639545171,
          2.798087813114686,
          -5.285743668659828
         ],
         "yaxis": "y4"
        },
        {
         "marker": {
          "color": "blue",
          "opacity": 0.7
         },
         "mode": "markers",
         "name": "Predicted Points",
         "showlegend": false,
         "type": "scatter",
         "x": [
          -1.2,
          -1.0358974358974358,
          -0.8717948717948718,
          -0.7076923076923076,
          -0.5435897435897435,
          -0.37948717948717947,
          -0.21538461538461529,
          -0.05128205128205132,
          0.11282051282051286,
          0.27692307692307705,
          0.441025641025641,
          0.6051282051282052,
          0.7692307692307694,
          0.9333333333333333,
          1.0974358974358973,
          1.2615384615384617,
          1.4256410256410257,
          1.5897435897435896,
          1.753846153846154,
          1.917948717948718
         ],
         "xaxis": "x4",
         "y": [
          8.23575732500729,
          5.622013445336818,
          3.7990297231627688,
          2.6089838362852555,
          1.9089331287859492,
          1.5708146110280587,
          1.4814449596563422,
          1.5425205175971033,
          1.6706172940581903,
          1.797190964528999,
          1.8685768707804695,
          1.845990020865089,
          1.7055250891168885,
          1.4381564161514482,
          1.0497380088658916,
          0.561003540438886,
          0.007566350330652227,
          -0.5600805557170538,
          -1.0765645056809223,
          -1.461633161256099
         ],
         "yaxis": "y4"
        },
        {
         "marker": {
          "color": "black",
          "opacity": 0.7
         },
         "mode": "markers",
         "name": "Real Points",
         "showlegend": false,
         "type": "scatter",
         "x": [
          -1.2,
          -1.0358974358974358,
          -0.8717948717948718,
          -0.7076923076923076,
          -0.5435897435897435,
          -0.37948717948717947,
          -0.21538461538461529,
          -0.05128205128205132,
          0.11282051282051286,
          0.27692307692307705,
          0.441025641025641,
          0.6051282051282052,
          0.7692307692307694,
          0.9333333333333333,
          1.0974358974358973,
          1.2615384615384617,
          1.4256410256410257,
          1.5897435897435896,
          1.753846153846154,
          1.917948717948718
         ],
         "xaxis": "x5",
         "y": [
          5.8096,
          3.8381753317244733,
          2.522800884051074,
          1.7092797030916282,
          1.2608197821340592,
          1.058034061642376,
          0.9989404292566787,
          0.9989617197931566,
          0.9909257152440888,
          0.9250651447778439,
          0.7690176847388803,
          0.5078259586477458,
          0.14393753720107805,
          -0.3027950617283952,
          -0.7951143730918573,
          -1.278357984664403,
          -1.6804585370450331,
          -1.911943723656666,
          -1.8659362907461214,
          -1.418154037384138
         ],
         "yaxis": "y5"
        },
        {
         "marker": {
          "color": "red",
          "opacity": 0.7
         },
         "mode": "markers",
         "name": "Observed Points",
         "showlegend": false,
         "type": "scatter",
         "x": [
          -1.2,
          -1.0358974358974358,
          -0.8717948717948718,
          -0.7076923076923076,
          -0.5435897435897435,
          -0.37948717948717947,
          -0.21538461538461529,
          -0.05128205128205132,
          0.11282051282051286,
          0.27692307692307705,
          0.441025641025641,
          0.6051282051282052,
          0.7692307692307694,
          0.9333333333333333,
          1.0974358974358973,
          1.2615384615384617,
          1.4256410256410257,
          1.5897435897435896,
          1.753846153846154,
          1.917948717948718
         ],
         "xaxis": "x5",
         "y": [
          3.896058722750041,
          7.28057398092698,
          -2.6465405002802895,
          2.599624083585443,
          -4.56766794982977,
          4.544189129680859,
          9.05334725211803,
          1.0866147660485714,
          -3.8792520843433147,
          1.6358375947479438,
          -0.32298459520986933,
          1.5194206488741182,
          -3.6262282833816233,
          -6.955600556969843,
          -2.20671059934447,
          -6.920904597417849,
          3.1646495212056385,
          -6.045325320018068,
          -1.3996880696261225,
          5.202399510242695
         ],
         "yaxis": "y5"
        },
        {
         "marker": {
          "color": "blue",
          "opacity": 0.7
         },
         "mode": "markers",
         "name": "Predicted Points",
         "showlegend": false,
         "type": "scatter",
         "x": [
          -1.2,
          -1.0358974358974358,
          -0.8717948717948718,
          -0.7076923076923076,
          -0.5435897435897435,
          -0.37948717948717947,
          -0.21538461538461529,
          -0.05128205128205132,
          0.11282051282051286,
          0.27692307692307705,
          0.441025641025641,
          0.6051282051282052,
          0.7692307692307694,
          0.9333333333333333,
          1.0974358974358973,
          1.2615384615384617,
          1.4256410256410257,
          1.5897435897435896,
          1.753846153846154,
          1.917948717948718
         ],
         "xaxis": "x5",
         "y": [
          4.718334555885314,
          2.8448987155004932,
          1.8681606402162343,
          1.4913329295541495,
          1.4614038173439283,
          1.5691371717233251,
          1.6490724951381637,
          1.5795249243423357,
          1.2825852303978011,
          0.7241198186745877,
          -0.08622927114920642,
          -1.0950443650874189,
          -2.205132154845815,
          -3.2755236978220927,
          -4.121474417105884,
          -4.51446410147875,
          -4.182196905414184,
          -2.808601349077616,
          -0.033830318326394604,
          4.545738935290181
         ],
         "yaxis": "y5"
        },
        {
         "marker": {
          "color": "black",
          "opacity": 0.7
         },
         "mode": "markers",
         "name": "Real Points",
         "showlegend": false,
         "type": "scatter",
         "x": [
          -1.2,
          -1.0358974358974358,
          -0.8717948717948718,
          -0.7076923076923076,
          -0.5435897435897435,
          -0.37948717948717947,
          -0.21538461538461529,
          -0.05128205128205132,
          0.11282051282051286,
          0.27692307692307705,
          0.441025641025641,
          0.6051282051282052,
          0.7692307692307694,
          0.9333333333333333,
          1.0974358974358973,
          1.2615384615384617,
          1.4256410256410257,
          1.5897435897435896,
          1.753846153846154,
          1.917948717948718
         ],
         "xaxis": "x6",
         "y": [
          5.8096,
          3.8381753317244733,
          2.522800884051074,
          1.7092797030916282,
          1.2608197821340592,
          1.058034061642376,
          0.9989404292566787,
          0.9989617197931566,
          0.9909257152440888,
          0.9250651447778439,
          0.7690176847388803,
          0.5078259586477458,
          0.14393753720107805,
          -0.3027950617283952,
          -0.7951143730918573,
          -1.278357984664403,
          -1.6804585370450331,
          -1.911943723656666,
          -1.8659362907461214,
          -1.418154037384138
         ],
         "yaxis": "y6"
        },
        {
         "marker": {
          "color": "red",
          "opacity": 0.7
         },
         "mode": "markers",
         "name": "Observed Points",
         "showlegend": false,
         "type": "scatter",
         "x": [
          -1.2,
          -1.0358974358974358,
          -0.8717948717948718,
          -0.7076923076923076,
          -0.5435897435897435,
          -0.37948717948717947,
          -0.21538461538461529,
          -0.05128205128205132,
          0.11282051282051286,
          0.27692307692307705,
          0.441025641025641,
          0.6051282051282052,
          0.7692307692307694,
          0.9333333333333333,
          1.0974358974358973,
          1.2615384615384617,
          1.4256410256410257,
          1.5897435897435896,
          1.753846153846154,
          1.917948717948718
         ],
         "xaxis": "x6",
         "y": [
          -0.35865732899241465,
          9.624899331919782,
          6.7808198473492,
          -2.838775931815274,
          -2.956316308059405,
          8.538395823503805,
          1.0750725603921356,
          4.482136842034324,
          3.100567570559416,
          1.724786805689508,
          -7.234274838885424,
          7.182223266135701,
          -0.792720313693666,
          11.844647391732066,
          -9.903604267077768,
          -9.420730028827721,
          3.8182180722392465,
          -10.209051434228993,
          -1.9560825656201286,
          4.0085055118603
         ],
         "yaxis": "y6"
        },
        {
         "marker": {
          "color": "blue",
          "opacity": 0.7
         },
         "mode": "markers",
         "name": "Predicted Points",
         "showlegend": false,
         "type": "scatter",
         "x": [
          -1.2,
          -1.0358974358974358,
          -0.8717948717948718,
          -0.7076923076923076,
          -0.5435897435897435,
          -0.37948717948717947,
          -0.21538461538461529,
          -0.05128205128205132,
          0.11282051282051286,
          0.27692307692307705,
          0.441025641025641,
          0.6051282051282052,
          0.7692307692307694,
          0.9333333333333333,
          1.0974358974358973,
          1.2615384615384617,
          1.4256410256410257,
          1.5897435897435896,
          1.753846153846154,
          1.917948717948718
         ],
         "xaxis": "x6",
         "y": [
          4.637892980602645,
          2.9545092665788903,
          2.207731471350555,
          2.088163926760461,
          2.3299407873328977,
          2.710726030273616,
          3.0517134554698297,
          3.2176266854902202,
          3.116719165584931,
          2.7007741636855687,
          1.9651047704052056,
          0.9485538990383766,
          -0.26650571443891913,
          -1.5541715113692147,
          -2.7450111104135866,
          -3.626062307551642,
          -3.9408330760815264,
          -3.3893015666199204,
          -1.6279161071020312,
          1.7304047972183767
         ],
         "yaxis": "y6"
        }
       ],
       "layout": {
        "annotations": [
         {
          "font": {
           "size": 16
          },
          "showarrow": false,
          "text": "$\\sigma^2=0, MSE=0.0$",
          "x": 0.14444444444444446,
          "xanchor": "center",
          "xref": "paper",
          "y": 1,
          "yanchor": "bottom",
          "yref": "paper"
         },
         {
          "font": {
           "size": 16
          },
          "showarrow": false,
          "text": "$\\sigma^2=1, MSE=0.64$",
          "x": 0.5,
          "xanchor": "center",
          "xref": "paper",
          "y": 1,
          "yanchor": "bottom",
          "yref": "paper"
         },
         {
          "font": {
           "size": 16
          },
          "showarrow": false,
          "text": "$\\sigma^2=2, MSE=4.7$",
          "x": 0.8555555555555556,
          "xanchor": "center",
          "xref": "paper",
          "y": 1,
          "yanchor": "bottom",
          "yref": "paper"
         },
         {
          "font": {
           "size": 16
          },
          "showarrow": false,
          "text": "$\\sigma^2=3, MSE=8.19$",
          "x": 0.14444444444444446,
          "xanchor": "center",
          "xref": "paper",
          "y": 0.375,
          "yanchor": "bottom",
          "yref": "paper"
         },
         {
          "font": {
           "size": 16
          },
          "showarrow": false,
          "text": "$\\sigma^2=4, MSE=13.42$",
          "x": 0.5,
          "xanchor": "center",
          "xref": "paper",
          "y": 0.375,
          "yanchor": "bottom",
          "yref": "paper"
         },
         {
          "font": {
           "size": 16
          },
          "showarrow": false,
          "text": "$\\sigma^2=5, MSE=34.16$",
          "x": 0.8555555555555556,
          "xanchor": "center",
          "xref": "paper",
          "y": 0.375,
          "yanchor": "bottom",
          "yref": "paper"
         }
        ],
        "margin": {
         "t": 80
        },
        "template": {
         "data": {
          "bar": [
           {
            "error_x": {
             "color": "rgb(36,36,36)"
            },
            "error_y": {
             "color": "rgb(36,36,36)"
            },
            "marker": {
             "line": {
              "color": "white",
              "width": 0.5
             }
            },
            "type": "bar"
           }
          ],
          "barpolar": [
           {
            "marker": {
             "line": {
              "color": "white",
              "width": 0.5
             }
            },
            "type": "barpolar"
           }
          ],
          "carpet": [
           {
            "aaxis": {
             "endlinecolor": "rgb(36,36,36)",
             "gridcolor": "white",
             "linecolor": "white",
             "minorgridcolor": "white",
             "startlinecolor": "rgb(36,36,36)"
            },
            "baxis": {
             "endlinecolor": "rgb(36,36,36)",
             "gridcolor": "white",
             "linecolor": "white",
             "minorgridcolor": "white",
             "startlinecolor": "rgb(36,36,36)"
            },
            "type": "carpet"
           }
          ],
          "choropleth": [
           {
            "colorbar": {
             "outlinewidth": 1,
             "tickcolor": "rgb(36,36,36)",
             "ticks": "outside"
            },
            "type": "choropleth"
           }
          ],
          "contour": [
           {
            "colorbar": {
             "outlinewidth": 1,
             "tickcolor": "rgb(36,36,36)",
             "ticks": "outside"
            },
            "colorscale": [
             [
              0,
              "#440154"
             ],
             [
              0.1111111111111111,
              "#482878"
             ],
             [
              0.2222222222222222,
              "#3e4989"
             ],
             [
              0.3333333333333333,
              "#31688e"
             ],
             [
              0.4444444444444444,
              "#26828e"
             ],
             [
              0.5555555555555556,
              "#1f9e89"
             ],
             [
              0.6666666666666666,
              "#35b779"
             ],
             [
              0.7777777777777778,
              "#6ece58"
             ],
             [
              0.8888888888888888,
              "#b5de2b"
             ],
             [
              1,
              "#fde725"
             ]
            ],
            "type": "contour"
           }
          ],
          "contourcarpet": [
           {
            "colorbar": {
             "outlinewidth": 1,
             "tickcolor": "rgb(36,36,36)",
             "ticks": "outside"
            },
            "type": "contourcarpet"
           }
          ],
          "heatmap": [
           {
            "colorbar": {
             "outlinewidth": 1,
             "tickcolor": "rgb(36,36,36)",
             "ticks": "outside"
            },
            "colorscale": [
             [
              0,
              "#440154"
             ],
             [
              0.1111111111111111,
              "#482878"
             ],
             [
              0.2222222222222222,
              "#3e4989"
             ],
             [
              0.3333333333333333,
              "#31688e"
             ],
             [
              0.4444444444444444,
              "#26828e"
             ],
             [
              0.5555555555555556,
              "#1f9e89"
             ],
             [
              0.6666666666666666,
              "#35b779"
             ],
             [
              0.7777777777777778,
              "#6ece58"
             ],
             [
              0.8888888888888888,
              "#b5de2b"
             ],
             [
              1,
              "#fde725"
             ]
            ],
            "type": "heatmap"
           }
          ],
          "heatmapgl": [
           {
            "colorbar": {
             "outlinewidth": 1,
             "tickcolor": "rgb(36,36,36)",
             "ticks": "outside"
            },
            "colorscale": [
             [
              0,
              "#440154"
             ],
             [
              0.1111111111111111,
              "#482878"
             ],
             [
              0.2222222222222222,
              "#3e4989"
             ],
             [
              0.3333333333333333,
              "#31688e"
             ],
             [
              0.4444444444444444,
              "#26828e"
             ],
             [
              0.5555555555555556,
              "#1f9e89"
             ],
             [
              0.6666666666666666,
              "#35b779"
             ],
             [
              0.7777777777777778,
              "#6ece58"
             ],
             [
              0.8888888888888888,
              "#b5de2b"
             ],
             [
              1,
              "#fde725"
             ]
            ],
            "type": "heatmapgl"
           }
          ],
          "histogram": [
           {
            "marker": {
             "line": {
              "color": "white",
              "width": 0.6
             }
            },
            "type": "histogram"
           }
          ],
          "histogram2d": [
           {
            "colorbar": {
             "outlinewidth": 1,
             "tickcolor": "rgb(36,36,36)",
             "ticks": "outside"
            },
            "colorscale": [
             [
              0,
              "#440154"
             ],
             [
              0.1111111111111111,
              "#482878"
             ],
             [
              0.2222222222222222,
              "#3e4989"
             ],
             [
              0.3333333333333333,
              "#31688e"
             ],
             [
              0.4444444444444444,
              "#26828e"
             ],
             [
              0.5555555555555556,
              "#1f9e89"
             ],
             [
              0.6666666666666666,
              "#35b779"
             ],
             [
              0.7777777777777778,
              "#6ece58"
             ],
             [
              0.8888888888888888,
              "#b5de2b"
             ],
             [
              1,
              "#fde725"
             ]
            ],
            "type": "histogram2d"
           }
          ],
          "histogram2dcontour": [
           {
            "colorbar": {
             "outlinewidth": 1,
             "tickcolor": "rgb(36,36,36)",
             "ticks": "outside"
            },
            "colorscale": [
             [
              0,
              "#440154"
             ],
             [
              0.1111111111111111,
              "#482878"
             ],
             [
              0.2222222222222222,
              "#3e4989"
             ],
             [
              0.3333333333333333,
              "#31688e"
             ],
             [
              0.4444444444444444,
              "#26828e"
             ],
             [
              0.5555555555555556,
              "#1f9e89"
             ],
             [
              0.6666666666666666,
              "#35b779"
             ],
             [
              0.7777777777777778,
              "#6ece58"
             ],
             [
              0.8888888888888888,
              "#b5de2b"
             ],
             [
              1,
              "#fde725"
             ]
            ],
            "type": "histogram2dcontour"
           }
          ],
          "mesh3d": [
           {
            "colorbar": {
             "outlinewidth": 1,
             "tickcolor": "rgb(36,36,36)",
             "ticks": "outside"
            },
            "type": "mesh3d"
           }
          ],
          "parcoords": [
           {
            "line": {
             "colorbar": {
              "outlinewidth": 1,
              "tickcolor": "rgb(36,36,36)",
              "ticks": "outside"
             }
            },
            "type": "parcoords"
           }
          ],
          "pie": [
           {
            "automargin": true,
            "type": "pie"
           }
          ],
          "scatter": [
           {
            "marker": {
             "colorbar": {
              "outlinewidth": 1,
              "tickcolor": "rgb(36,36,36)",
              "ticks": "outside"
             }
            },
            "type": "scatter"
           }
          ],
          "scatter3d": [
           {
            "line": {
             "colorbar": {
              "outlinewidth": 1,
              "tickcolor": "rgb(36,36,36)",
              "ticks": "outside"
             }
            },
            "marker": {
             "colorbar": {
              "outlinewidth": 1,
              "tickcolor": "rgb(36,36,36)",
              "ticks": "outside"
             }
            },
            "type": "scatter3d"
           }
          ],
          "scattercarpet": [
           {
            "marker": {
             "colorbar": {
              "outlinewidth": 1,
              "tickcolor": "rgb(36,36,36)",
              "ticks": "outside"
             }
            },
            "type": "scattercarpet"
           }
          ],
          "scattergeo": [
           {
            "marker": {
             "colorbar": {
              "outlinewidth": 1,
              "tickcolor": "rgb(36,36,36)",
              "ticks": "outside"
             }
            },
            "type": "scattergeo"
           }
          ],
          "scattergl": [
           {
            "marker": {
             "colorbar": {
              "outlinewidth": 1,
              "tickcolor": "rgb(36,36,36)",
              "ticks": "outside"
             }
            },
            "type": "scattergl"
           }
          ],
          "scattermapbox": [
           {
            "marker": {
             "colorbar": {
              "outlinewidth": 1,
              "tickcolor": "rgb(36,36,36)",
              "ticks": "outside"
             }
            },
            "type": "scattermapbox"
           }
          ],
          "scatterpolar": [
           {
            "marker": {
             "colorbar": {
              "outlinewidth": 1,
              "tickcolor": "rgb(36,36,36)",
              "ticks": "outside"
             }
            },
            "type": "scatterpolar"
           }
          ],
          "scatterpolargl": [
           {
            "marker": {
             "colorbar": {
              "outlinewidth": 1,
              "tickcolor": "rgb(36,36,36)",
              "ticks": "outside"
             }
            },
            "type": "scatterpolargl"
           }
          ],
          "scatterternary": [
           {
            "marker": {
             "colorbar": {
              "outlinewidth": 1,
              "tickcolor": "rgb(36,36,36)",
              "ticks": "outside"
             }
            },
            "type": "scatterternary"
           }
          ],
          "surface": [
           {
            "colorbar": {
             "outlinewidth": 1,
             "tickcolor": "rgb(36,36,36)",
             "ticks": "outside"
            },
            "colorscale": [
             [
              0,
              "#440154"
             ],
             [
              0.1111111111111111,
              "#482878"
             ],
             [
              0.2222222222222222,
              "#3e4989"
             ],
             [
              0.3333333333333333,
              "#31688e"
             ],
             [
              0.4444444444444444,
              "#26828e"
             ],
             [
              0.5555555555555556,
              "#1f9e89"
             ],
             [
              0.6666666666666666,
              "#35b779"
             ],
             [
              0.7777777777777778,
              "#6ece58"
             ],
             [
              0.8888888888888888,
              "#b5de2b"
             ],
             [
              1,
              "#fde725"
             ]
            ],
            "type": "surface"
           }
          ],
          "table": [
           {
            "cells": {
             "fill": {
              "color": "rgb(237,237,237)"
             },
             "line": {
              "color": "white"
             }
            },
            "header": {
             "fill": {
              "color": "rgb(217,217,217)"
             },
             "line": {
              "color": "white"
             }
            },
            "type": "table"
           }
          ]
         },
         "layout": {
          "annotationdefaults": {
           "arrowhead": 0,
           "arrowwidth": 1
          },
          "autotypenumbers": "strict",
          "coloraxis": {
           "colorbar": {
            "outlinewidth": 1,
            "tickcolor": "rgb(36,36,36)",
            "ticks": "outside"
           }
          },
          "colorscale": {
           "diverging": [
            [
             0,
             "rgb(103,0,31)"
            ],
            [
             0.1,
             "rgb(178,24,43)"
            ],
            [
             0.2,
             "rgb(214,96,77)"
            ],
            [
             0.3,
             "rgb(244,165,130)"
            ],
            [
             0.4,
             "rgb(253,219,199)"
            ],
            [
             0.5,
             "rgb(247,247,247)"
            ],
            [
             0.6,
             "rgb(209,229,240)"
            ],
            [
             0.7,
             "rgb(146,197,222)"
            ],
            [
             0.8,
             "rgb(67,147,195)"
            ],
            [
             0.9,
             "rgb(33,102,172)"
            ],
            [
             1,
             "rgb(5,48,97)"
            ]
           ],
           "sequential": [
            [
             0,
             "#440154"
            ],
            [
             0.1111111111111111,
             "#482878"
            ],
            [
             0.2222222222222222,
             "#3e4989"
            ],
            [
             0.3333333333333333,
             "#31688e"
            ],
            [
             0.4444444444444444,
             "#26828e"
            ],
            [
             0.5555555555555556,
             "#1f9e89"
            ],
            [
             0.6666666666666666,
             "#35b779"
            ],
            [
             0.7777777777777778,
             "#6ece58"
            ],
            [
             0.8888888888888888,
             "#b5de2b"
            ],
            [
             1,
             "#fde725"
            ]
           ],
           "sequentialminus": [
            [
             0,
             "#440154"
            ],
            [
             0.1111111111111111,
             "#482878"
            ],
            [
             0.2222222222222222,
             "#3e4989"
            ],
            [
             0.3333333333333333,
             "#31688e"
            ],
            [
             0.4444444444444444,
             "#26828e"
            ],
            [
             0.5555555555555556,
             "#1f9e89"
            ],
            [
             0.6666666666666666,
             "#35b779"
            ],
            [
             0.7777777777777778,
             "#6ece58"
            ],
            [
             0.8888888888888888,
             "#b5de2b"
            ],
            [
             1,
             "#fde725"
            ]
           ]
          },
          "colorway": [
           "#1F77B4",
           "#FF7F0E",
           "#2CA02C",
           "#D62728",
           "#9467BD",
           "#8C564B",
           "#E377C2",
           "#7F7F7F",
           "#BCBD22",
           "#17BECF"
          ],
          "font": {
           "color": "rgb(36,36,36)"
          },
          "geo": {
           "bgcolor": "white",
           "lakecolor": "white",
           "landcolor": "white",
           "showlakes": true,
           "showland": true,
           "subunitcolor": "white"
          },
          "hoverlabel": {
           "align": "left"
          },
          "hovermode": "closest",
          "mapbox": {
           "style": "light"
          },
          "margin": {
           "b": 0,
           "l": 20,
           "r": 20,
           "t": 40
          },
          "paper_bgcolor": "white",
          "plot_bgcolor": "white",
          "polar": {
           "angularaxis": {
            "gridcolor": "rgb(232,232,232)",
            "linecolor": "rgb(36,36,36)",
            "showgrid": false,
            "showline": true,
            "ticks": "outside"
           },
           "bgcolor": "white",
           "radialaxis": {
            "gridcolor": "rgb(232,232,232)",
            "linecolor": "rgb(36,36,36)",
            "showgrid": false,
            "showline": true,
            "ticks": "outside"
           }
          },
          "scene": {
           "xaxis": {
            "backgroundcolor": "white",
            "gridcolor": "rgb(232,232,232)",
            "gridwidth": 2,
            "linecolor": "rgb(36,36,36)",
            "showbackground": true,
            "showgrid": false,
            "showline": true,
            "ticks": "outside",
            "zeroline": false,
            "zerolinecolor": "rgb(36,36,36)"
           },
           "yaxis": {
            "backgroundcolor": "white",
            "gridcolor": "rgb(232,232,232)",
            "gridwidth": 2,
            "linecolor": "rgb(36,36,36)",
            "showbackground": true,
            "showgrid": false,
            "showline": true,
            "ticks": "outside",
            "zeroline": false,
            "zerolinecolor": "rgb(36,36,36)"
           },
           "zaxis": {
            "backgroundcolor": "white",
            "gridcolor": "rgb(232,232,232)",
            "gridwidth": 2,
            "linecolor": "rgb(36,36,36)",
            "showbackground": true,
            "showgrid": false,
            "showline": true,
            "ticks": "outside",
            "zeroline": false,
            "zerolinecolor": "rgb(36,36,36)"
           }
          },
          "shapedefaults": {
           "fillcolor": "black",
           "line": {
            "width": 0
           },
           "opacity": 0.3
          },
          "ternary": {
           "aaxis": {
            "gridcolor": "rgb(232,232,232)",
            "linecolor": "rgb(36,36,36)",
            "showgrid": false,
            "showline": true,
            "ticks": "outside"
           },
           "baxis": {
            "gridcolor": "rgb(232,232,232)",
            "linecolor": "rgb(36,36,36)",
            "showgrid": false,
            "showline": true,
            "ticks": "outside"
           },
           "bgcolor": "white",
           "caxis": {
            "gridcolor": "rgb(232,232,232)",
            "linecolor": "rgb(36,36,36)",
            "showgrid": false,
            "showline": true,
            "ticks": "outside"
           }
          },
          "title": {
           "x": 0.05
          },
          "xaxis": {
           "automargin": true,
           "gridcolor": "rgb(232,232,232)",
           "linecolor": "rgb(36,36,36)",
           "showgrid": false,
           "showline": true,
           "ticks": "outside",
           "title": {
            "standoff": 15
           },
           "zeroline": false,
           "zerolinecolor": "rgb(36,36,36)"
          },
          "yaxis": {
           "automargin": true,
           "gridcolor": "rgb(232,232,232)",
           "linecolor": "rgb(36,36,36)",
           "showgrid": false,
           "showline": true,
           "ticks": "outside",
           "title": {
            "standoff": 15
           },
           "zeroline": false,
           "zerolinecolor": "rgb(36,36,36)"
          }
         }
        },
        "title": {
         "text": "$\\text{(5) Simulated Data - Different Noise Scales}$"
        },
        "xaxis": {
         "anchor": "y",
         "domain": [
          0,
          0.2888888888888889
         ]
        },
        "xaxis2": {
         "anchor": "y2",
         "domain": [
          0.35555555555555557,
          0.6444444444444445
         ]
        },
        "xaxis3": {
         "anchor": "y3",
         "domain": [
          0.7111111111111111,
          1
         ]
        },
        "xaxis4": {
         "anchor": "y4",
         "domain": [
          0,
          0.2888888888888889
         ]
        },
        "xaxis5": {
         "anchor": "y5",
         "domain": [
          0.35555555555555557,
          0.6444444444444445
         ]
        },
        "xaxis6": {
         "anchor": "y6",
         "domain": [
          0.7111111111111111,
          1
         ]
        },
        "yaxis": {
         "anchor": "x",
         "domain": [
          0.625,
          1
         ]
        },
        "yaxis2": {
         "anchor": "x2",
         "domain": [
          0.625,
          1
         ]
        },
        "yaxis3": {
         "anchor": "x3",
         "domain": [
          0.625,
          1
         ]
        },
        "yaxis4": {
         "anchor": "x4",
         "domain": [
          0,
          0.375
         ]
        },
        "yaxis5": {
         "anchor": "x5",
         "domain": [
          0,
          0.375
         ]
        },
        "yaxis6": {
         "anchor": "x6",
         "domain": [
          0,
          0.375
         ]
        }
       }
      },
      "text/html": [
       "<div>                            <div id=\"d582886e-9129-42a7-b115-155b0ff18e02\" class=\"plotly-graph-div\" style=\"height:525px; width:100%;\"></div>            <script type=\"text/javascript\">                require([\"plotly\"], function(Plotly) {                    window.PLOTLYENV=window.PLOTLYENV || {};                                    if (document.getElementById(\"d582886e-9129-42a7-b115-155b0ff18e02\")) {                    Plotly.newPlot(                        \"d582886e-9129-42a7-b115-155b0ff18e02\",                        [{\"marker\": {\"color\": \"black\", \"opacity\": 0.7}, \"mode\": \"markers\", \"name\": \"Real Points\", \"showlegend\": false, \"type\": \"scatter\", \"x\": [-1.2, -1.0358974358974358, -0.8717948717948718, -0.7076923076923076, -0.5435897435897435, -0.37948717948717947, -0.21538461538461529, -0.05128205128205132, 0.11282051282051286, 0.27692307692307705, 0.441025641025641, 0.6051282051282052, 0.7692307692307694, 0.9333333333333333, 1.0974358974358973, 1.2615384615384617, 1.4256410256410257, 1.5897435897435896, 1.753846153846154, 1.917948717948718], \"xaxis\": \"x\", \"y\": [5.8096, 3.8381753317244733, 2.522800884051074, 1.7092797030916282, 1.2608197821340592, 1.058034061642376, 0.9989404292566787, 0.9989617197931566, 0.9909257152440888, 0.9250651447778439, 0.7690176847388803, 0.5078259586477458, 0.14393753720107805, -0.3027950617283952, -0.7951143730918573, -1.278357984664403, -1.6804585370450331, -1.911943723656666, -1.8659362907461214, -1.418154037384138], \"yaxis\": \"y\"}, {\"marker\": {\"color\": \"red\", \"opacity\": 0.7}, \"mode\": \"markers\", \"name\": \"Observed Points\", \"showlegend\": false, \"type\": \"scatter\", \"x\": [-1.2, -1.0358974358974358, -0.8717948717948718, -0.7076923076923076, -0.5435897435897435, -0.37948717948717947, -0.21538461538461529, -0.05128205128205132, 0.11282051282051286, 0.27692307692307705, 0.441025641025641, 0.6051282051282052, 0.7692307692307694, 0.9333333333333333, 1.0974358974358973, 1.2615384615384617, 1.4256410256410257, 1.5897435897435896, 1.753846153846154, 1.917948717948718], \"xaxis\": \"x\", \"y\": [5.8096, 3.8381753317244733, 2.522800884051074, 1.7092797030916282, 1.2608197821340592, 1.058034061642376, 0.9989404292566787, 0.9989617197931566, 0.9909257152440888, 0.9250651447778439, 0.7690176847388803, 0.5078259586477458, 0.14393753720107805, -0.3027950617283952, -0.7951143730918573, -1.278357984664403, -1.6804585370450331, -1.911943723656666, -1.8659362907461214, -1.418154037384138], \"yaxis\": \"y\"}, {\"marker\": {\"color\": \"blue\", \"opacity\": 0.7}, \"mode\": \"markers\", \"name\": \"Predicted Points\", \"showlegend\": false, \"type\": \"scatter\", \"x\": [-1.2, -1.0358974358974358, -0.8717948717948718, -0.7076923076923076, -0.5435897435897435, -0.37948717948717947, -0.21538461538461529, -0.05128205128205132, 0.11282051282051286, 0.27692307692307705, 0.441025641025641, 0.6051282051282052, 0.7692307692307694, 0.9333333333333333, 1.0974358974358973, 1.2615384615384617, 1.4256410256410257, 1.5897435897435896, 1.753846153846154, 1.917948717948718], \"xaxis\": \"x\", \"y\": [5.809600000000005, 3.838175331724477, 2.5228008840510765, 1.7092797030916298, 1.26081978213406, 1.0580340616423765, 0.9989404292566788, 0.9989617197931565, 0.9909257152440889, 0.9250651447778441, 0.7690176847388805, 0.507825958647746, 0.1439375372010787, -0.3027950617283941, -0.7951143730918564, -1.2783579846644013, -1.6804585370450322, -1.9119437236566643, -1.86593629074612, -1.4181540373841361], \"yaxis\": \"y\"}, {\"marker\": {\"color\": \"black\", \"opacity\": 0.7}, \"mode\": \"markers\", \"name\": \"Real Points\", \"showlegend\": false, \"type\": \"scatter\", \"x\": [-1.2, -1.0358974358974358, -0.8717948717948718, -0.7076923076923076, -0.5435897435897435, -0.37948717948717947, -0.21538461538461529, -0.05128205128205132, 0.11282051282051286, 0.27692307692307705, 0.441025641025641, 0.6051282051282052, 0.7692307692307694, 0.9333333333333333, 1.0974358974358973, 1.2615384615384617, 1.4256410256410257, 1.5897435897435896, 1.753846153846154, 1.917948717948718], \"xaxis\": \"x2\", \"y\": [5.8096, 3.8381753317244733, 2.522800884051074, 1.7092797030916282, 1.2608197821340592, 1.058034061642376, 0.9989404292566787, 0.9989617197931566, 0.9909257152440888, 0.9250651447778439, 0.7690176847388803, 0.5078259586477458, 0.14393753720107805, -0.3027950617283952, -0.7951143730918573, -1.278357984664403, -1.6804585370450331, -1.911943723656666, -1.8659362907461214, -1.418154037384138], \"yaxis\": \"y2\"}, {\"marker\": {\"color\": \"red\", \"opacity\": 0.7}, \"mode\": \"markers\", \"name\": \"Observed Points\", \"showlegend\": false, \"type\": \"scatter\", \"x\": [-1.2, -1.0358974358974358, -0.8717948717948718, -0.7076923076923076, -0.5435897435897435, -0.37948717948717947, -0.21538461538461529, -0.05128205128205132, 0.11282051282051286, 0.27692307692307705, 0.441025641025641, 0.6051282051282052, 0.7692307692307694, 0.9333333333333333, 1.0974358974358973, 1.2615384615384617, 1.4256410256410257, 1.5897435897435896, 1.753846153846154, 1.917948717948718], \"xaxis\": \"x2\", \"y\": [5.950563039612076, 2.9995669256802167, 0.7651051922225189, 0.953419383645049, 2.484133080749474, 2.112489104624788, 0.7873002800238079, 2.7020383504708523, 1.3754677010930256, 0.6117514926933462, 0.6073821843145875, 1.4191909972918557, -0.9336142174339861, -0.191860707350752, -0.5434926807591167, -1.0722921540597377, -2.8805943030056103, -1.5334591221500957, -1.6624777006293485, -2.504714035897462], \"yaxis\": \"y2\"}, {\"marker\": {\"color\": \"blue\", \"opacity\": 0.7}, \"mode\": \"markers\", \"name\": \"Predicted Points\", \"showlegend\": false, \"type\": \"scatter\", \"x\": [-1.2, -1.0358974358974358, -0.8717948717948718, -0.7076923076923076, -0.5435897435897435, -0.37948717948717947, -0.21538461538461529, -0.05128205128205132, 0.11282051282051286, 0.27692307692307705, 0.441025641025641, 0.6051282051282052, 0.7692307692307694, 0.9333333333333333, 1.0974358974358973, 1.2615384615384617, 1.4256410256410257, 1.5897435897435896, 1.753846153846154, 1.917948717948718], \"xaxis\": \"x2\", \"y\": [5.073751293727175, 3.3436175393678162, 2.251247481964505, 1.6356723448847577, 1.3547274922674675, 1.2850524290228975, 1.3220908008326826, 1.380090394149829, 1.3921031361987148, 1.309985094975088, 1.104396479246069, 0.7648016385501496, 0.29946906319719213, -0.2645286157315683, -0.8813146263835252, -1.4862080561347062, -1.9957238515897568, -2.30757281858196, -2.3006616221732266, -1.8350927866540907], \"yaxis\": \"y2\"}, {\"marker\": {\"color\": \"black\", \"opacity\": 0.7}, \"mode\": \"markers\", \"name\": \"Real Points\", \"showlegend\": false, \"type\": \"scatter\", \"x\": [-1.2, -1.0358974358974358, -0.8717948717948718, -0.7076923076923076, -0.5435897435897435, -0.37948717948717947, -0.21538461538461529, -0.05128205128205132, 0.11282051282051286, 0.27692307692307705, 0.441025641025641, 0.6051282051282052, 0.7692307692307694, 0.9333333333333333, 1.0974358974358973, 1.2615384615384617, 1.4256410256410257, 1.5897435897435896, 1.753846153846154, 1.917948717948718], \"xaxis\": \"x3\", \"y\": [5.8096, 3.8381753317244733, 2.522800884051074, 1.7092797030916282, 1.2608197821340592, 1.058034061642376, 0.9989404292566787, 0.9989617197931566, 0.9909257152440888, 0.9250651447778439, 0.7690176847388803, 0.5078259586477458, 0.14393753720107805, -0.3027950617283952, -0.7951143730918573, -1.278357984664403, -1.6804585370450331, -1.911943723656666, -1.8659362907461214, -1.418154037384138], \"yaxis\": \"y3\"}, {\"marker\": {\"color\": \"red\", \"opacity\": 0.7}, \"mode\": \"markers\", \"name\": \"Observed Points\", \"showlegend\": false, \"type\": \"scatter\", \"x\": [-1.2, -1.0358974358974358, -0.8717948717948718, -0.7076923076923076, -0.5435897435897435, -0.37948717948717947, -0.21538461538461529, -0.05128205128205132, 0.11282051282051286, 0.27692307692307705, 0.441025641025641, 0.6051282051282052, 0.7692307692307694, 0.9333333333333333, 1.0974358974358973, 1.2615384615384617, 1.4256410256410257, 1.5897435897435896, 1.753846153846154, 1.917948717948718], \"xaxis\": \"x3\", \"y\": [7.151463763310616, 1.6408199380912465, -0.07424482217697603, 2.3024110530707693, -0.12481379669302961, 2.433982961069705, 4.297963230412087, -1.200839643704994, 5.0687277676082205, 0.12420376427803759, -2.438464591924858, -1.8026064254896352, -0.106764215370035, 0.18676396112173255, -2.8954030665782198, 0.5580591434077828, -4.797872809111327, -2.1918351524558, 2.458400863740049, -1.4828152918855313], \"yaxis\": \"y3\"}, {\"marker\": {\"color\": \"blue\", \"opacity\": 0.7}, \"mode\": \"markers\", \"name\": \"Predicted Points\", \"showlegend\": false, \"type\": \"scatter\", \"x\": [-1.2, -1.0358974358974358, -0.8717948717948718, -0.7076923076923076, -0.5435897435897435, -0.37948717948717947, -0.21538461538461529, -0.05128205128205132, 0.11282051282051286, 0.27692307692307705, 0.441025641025641, 0.6051282051282052, 0.7692307692307694, 0.9333333333333333, 1.0974358974358973, 1.2615384615384617, 1.4256410256410257, 1.5897435897435896, 1.753846153846154, 1.917948717948718], \"xaxis\": \"x3\", \"y\": [5.127353288042334, 3.3101544337176607, 2.178177948193391, 1.545051392869825, 1.2485024850924846, 1.1503590981521055, 1.1365492612846395, 1.1171011596712561, 1.026143134438339, 0.821903682657489, 0.48671145734552435, 0.026995267464476447, -0.5267159220784046, -1.1197929904306523, -1.6735066607945868, -2.0850275004273096, -2.227425920640707, -1.9496721768014496, -1.0766363683309823, 0.590911561294444], \"yaxis\": \"y3\"}, {\"marker\": {\"color\": \"black\", \"opacity\": 0.7}, \"mode\": \"markers\", \"name\": \"Real Points\", \"showlegend\": false, \"type\": \"scatter\", \"x\": [-1.2, -1.0358974358974358, -0.8717948717948718, -0.7076923076923076, -0.5435897435897435, -0.37948717948717947, -0.21538461538461529, -0.05128205128205132, 0.11282051282051286, 0.27692307692307705, 0.441025641025641, 0.6051282051282052, 0.7692307692307694, 0.9333333333333333, 1.0974358974358973, 1.2615384615384617, 1.4256410256410257, 1.5897435897435896, 1.753846153846154, 1.917948717948718], \"xaxis\": \"x4\", \"y\": [5.8096, 3.8381753317244733, 2.522800884051074, 1.7092797030916282, 1.2608197821340592, 1.058034061642376, 0.9989404292566787, 0.9989617197931566, 0.9909257152440888, 0.9250651447778439, 0.7690176847388803, 0.5078259586477458, 0.14393753720107805, -0.3027950617283952, -0.7951143730918573, -1.278357984664403, -1.6804585370450331, -1.911943723656666, -1.8659362907461214, -1.418154037384138], \"yaxis\": \"y4\"}, {\"marker\": {\"color\": \"red\", \"opacity\": 0.7}, \"mode\": \"markers\", \"name\": \"Observed Points\", \"showlegend\": false, \"type\": \"scatter\", \"x\": [-1.2, -1.0358974358974358, -0.8717948717948718, -0.7076923076923076, -0.5435897435897435, -0.37948717948717947, -0.21538461538461529, -0.05128205128205132, 0.11282051282051286, 0.27692307692307705, 0.441025641025641, 0.6051282051282052, 0.7692307692307694, 0.9333333333333333, 1.0974358974358973, 1.2615384615384617, 1.4256410256410257, 1.5897435897435896, 1.753846153846154, 1.917948717948718], \"xaxis\": \"x4\", \"y\": [9.481889809675204, 4.0774095787686795, 5.712754719791375, 0.7378220303352491, 1.2867959185380708, -1.408622006139505, 0.6192736309694935, 6.769812680299195, 1.04875804673514, 5.37925621540836, 4.493819366972939, 1.3734537800149673, -3.5236635820463738, -1.7392600359931238, 0.1938682150043578, -1.2964247209819038, 4.842590001139569, 0.05370608639545171, 2.798087813114686, -5.285743668659828], \"yaxis\": \"y4\"}, {\"marker\": {\"color\": \"blue\", \"opacity\": 0.7}, \"mode\": \"markers\", \"name\": \"Predicted Points\", \"showlegend\": false, \"type\": \"scatter\", \"x\": [-1.2, -1.0358974358974358, -0.8717948717948718, -0.7076923076923076, -0.5435897435897435, -0.37948717948717947, -0.21538461538461529, -0.05128205128205132, 0.11282051282051286, 0.27692307692307705, 0.441025641025641, 0.6051282051282052, 0.7692307692307694, 0.9333333333333333, 1.0974358974358973, 1.2615384615384617, 1.4256410256410257, 1.5897435897435896, 1.753846153846154, 1.917948717948718], \"xaxis\": \"x4\", \"y\": [8.23575732500729, 5.622013445336818, 3.7990297231627688, 2.6089838362852555, 1.9089331287859492, 1.5708146110280587, 1.4814449596563422, 1.5425205175971033, 1.6706172940581903, 1.797190964528999, 1.8685768707804695, 1.845990020865089, 1.7055250891168885, 1.4381564161514482, 1.0497380088658916, 0.561003540438886, 0.007566350330652227, -0.5600805557170538, -1.0765645056809223, -1.461633161256099], \"yaxis\": \"y4\"}, {\"marker\": {\"color\": \"black\", \"opacity\": 0.7}, \"mode\": \"markers\", \"name\": \"Real Points\", \"showlegend\": false, \"type\": \"scatter\", \"x\": [-1.2, -1.0358974358974358, -0.8717948717948718, -0.7076923076923076, -0.5435897435897435, -0.37948717948717947, -0.21538461538461529, -0.05128205128205132, 0.11282051282051286, 0.27692307692307705, 0.441025641025641, 0.6051282051282052, 0.7692307692307694, 0.9333333333333333, 1.0974358974358973, 1.2615384615384617, 1.4256410256410257, 1.5897435897435896, 1.753846153846154, 1.917948717948718], \"xaxis\": \"x5\", \"y\": [5.8096, 3.8381753317244733, 2.522800884051074, 1.7092797030916282, 1.2608197821340592, 1.058034061642376, 0.9989404292566787, 0.9989617197931566, 0.9909257152440888, 0.9250651447778439, 0.7690176847388803, 0.5078259586477458, 0.14393753720107805, -0.3027950617283952, -0.7951143730918573, -1.278357984664403, -1.6804585370450331, -1.911943723656666, -1.8659362907461214, -1.418154037384138], \"yaxis\": \"y5\"}, {\"marker\": {\"color\": \"red\", \"opacity\": 0.7}, \"mode\": \"markers\", \"name\": \"Observed Points\", \"showlegend\": false, \"type\": \"scatter\", \"x\": [-1.2, -1.0358974358974358, -0.8717948717948718, -0.7076923076923076, -0.5435897435897435, -0.37948717948717947, -0.21538461538461529, -0.05128205128205132, 0.11282051282051286, 0.27692307692307705, 0.441025641025641, 0.6051282051282052, 0.7692307692307694, 0.9333333333333333, 1.0974358974358973, 1.2615384615384617, 1.4256410256410257, 1.5897435897435896, 1.753846153846154, 1.917948717948718], \"xaxis\": \"x5\", \"y\": [3.896058722750041, 7.28057398092698, -2.6465405002802895, 2.599624083585443, -4.56766794982977, 4.544189129680859, 9.05334725211803, 1.0866147660485714, -3.8792520843433147, 1.6358375947479438, -0.32298459520986933, 1.5194206488741182, -3.6262282833816233, -6.955600556969843, -2.20671059934447, -6.920904597417849, 3.1646495212056385, -6.045325320018068, -1.3996880696261225, 5.202399510242695], \"yaxis\": \"y5\"}, {\"marker\": {\"color\": \"blue\", \"opacity\": 0.7}, \"mode\": \"markers\", \"name\": \"Predicted Points\", \"showlegend\": false, \"type\": \"scatter\", \"x\": [-1.2, -1.0358974358974358, -0.8717948717948718, -0.7076923076923076, -0.5435897435897435, -0.37948717948717947, -0.21538461538461529, -0.05128205128205132, 0.11282051282051286, 0.27692307692307705, 0.441025641025641, 0.6051282051282052, 0.7692307692307694, 0.9333333333333333, 1.0974358974358973, 1.2615384615384617, 1.4256410256410257, 1.5897435897435896, 1.753846153846154, 1.917948717948718], \"xaxis\": \"x5\", \"y\": [4.718334555885314, 2.8448987155004932, 1.8681606402162343, 1.4913329295541495, 1.4614038173439283, 1.5691371717233251, 1.6490724951381637, 1.5795249243423357, 1.2825852303978011, 0.7241198186745877, -0.08622927114920642, -1.0950443650874189, -2.205132154845815, -3.2755236978220927, -4.121474417105884, -4.51446410147875, -4.182196905414184, -2.808601349077616, -0.033830318326394604, 4.545738935290181], \"yaxis\": \"y5\"}, {\"marker\": {\"color\": \"black\", \"opacity\": 0.7}, \"mode\": \"markers\", \"name\": \"Real Points\", \"showlegend\": false, \"type\": \"scatter\", \"x\": [-1.2, -1.0358974358974358, -0.8717948717948718, -0.7076923076923076, -0.5435897435897435, -0.37948717948717947, -0.21538461538461529, -0.05128205128205132, 0.11282051282051286, 0.27692307692307705, 0.441025641025641, 0.6051282051282052, 0.7692307692307694, 0.9333333333333333, 1.0974358974358973, 1.2615384615384617, 1.4256410256410257, 1.5897435897435896, 1.753846153846154, 1.917948717948718], \"xaxis\": \"x6\", \"y\": [5.8096, 3.8381753317244733, 2.522800884051074, 1.7092797030916282, 1.2608197821340592, 1.058034061642376, 0.9989404292566787, 0.9989617197931566, 0.9909257152440888, 0.9250651447778439, 0.7690176847388803, 0.5078259586477458, 0.14393753720107805, -0.3027950617283952, -0.7951143730918573, -1.278357984664403, -1.6804585370450331, -1.911943723656666, -1.8659362907461214, -1.418154037384138], \"yaxis\": \"y6\"}, {\"marker\": {\"color\": \"red\", \"opacity\": 0.7}, \"mode\": \"markers\", \"name\": \"Observed Points\", \"showlegend\": false, \"type\": \"scatter\", \"x\": [-1.2, -1.0358974358974358, -0.8717948717948718, -0.7076923076923076, -0.5435897435897435, -0.37948717948717947, -0.21538461538461529, -0.05128205128205132, 0.11282051282051286, 0.27692307692307705, 0.441025641025641, 0.6051282051282052, 0.7692307692307694, 0.9333333333333333, 1.0974358974358973, 1.2615384615384617, 1.4256410256410257, 1.5897435897435896, 1.753846153846154, 1.917948717948718], \"xaxis\": \"x6\", \"y\": [-0.35865732899241465, 9.624899331919782, 6.7808198473492, -2.838775931815274, -2.956316308059405, 8.538395823503805, 1.0750725603921356, 4.482136842034324, 3.100567570559416, 1.724786805689508, -7.234274838885424, 7.182223266135701, -0.792720313693666, 11.844647391732066, -9.903604267077768, -9.420730028827721, 3.8182180722392465, -10.209051434228993, -1.9560825656201286, 4.0085055118603], \"yaxis\": \"y6\"}, {\"marker\": {\"color\": \"blue\", \"opacity\": 0.7}, \"mode\": \"markers\", \"name\": \"Predicted Points\", \"showlegend\": false, \"type\": \"scatter\", \"x\": [-1.2, -1.0358974358974358, -0.8717948717948718, -0.7076923076923076, -0.5435897435897435, -0.37948717948717947, -0.21538461538461529, -0.05128205128205132, 0.11282051282051286, 0.27692307692307705, 0.441025641025641, 0.6051282051282052, 0.7692307692307694, 0.9333333333333333, 1.0974358974358973, 1.2615384615384617, 1.4256410256410257, 1.5897435897435896, 1.753846153846154, 1.917948717948718], \"xaxis\": \"x6\", \"y\": [4.637892980602645, 2.9545092665788903, 2.207731471350555, 2.088163926760461, 2.3299407873328977, 2.710726030273616, 3.0517134554698297, 3.2176266854902202, 3.116719165584931, 2.7007741636855687, 1.9651047704052056, 0.9485538990383766, -0.26650571443891913, -1.5541715113692147, -2.7450111104135866, -3.626062307551642, -3.9408330760815264, -3.3893015666199204, -1.6279161071020312, 1.7304047972183767], \"yaxis\": \"y6\"}],                        {\"annotations\": [{\"font\": {\"size\": 16}, \"showarrow\": false, \"text\": \"$\\\\sigma^2=0, MSE=0.0$\", \"x\": 0.14444444444444446, \"xanchor\": \"center\", \"xref\": \"paper\", \"y\": 1.0, \"yanchor\": \"bottom\", \"yref\": \"paper\"}, {\"font\": {\"size\": 16}, \"showarrow\": false, \"text\": \"$\\\\sigma^2=1, MSE=0.64$\", \"x\": 0.5, \"xanchor\": \"center\", \"xref\": \"paper\", \"y\": 1.0, \"yanchor\": \"bottom\", \"yref\": \"paper\"}, {\"font\": {\"size\": 16}, \"showarrow\": false, \"text\": \"$\\\\sigma^2=2, MSE=4.7$\", \"x\": 0.8555555555555556, \"xanchor\": \"center\", \"xref\": \"paper\", \"y\": 1.0, \"yanchor\": \"bottom\", \"yref\": \"paper\"}, {\"font\": {\"size\": 16}, \"showarrow\": false, \"text\": \"$\\\\sigma^2=3, MSE=8.19$\", \"x\": 0.14444444444444446, \"xanchor\": \"center\", \"xref\": \"paper\", \"y\": 0.375, \"yanchor\": \"bottom\", \"yref\": \"paper\"}, {\"font\": {\"size\": 16}, \"showarrow\": false, \"text\": \"$\\\\sigma^2=4, MSE=13.42$\", \"x\": 0.5, \"xanchor\": \"center\", \"xref\": \"paper\", \"y\": 0.375, \"yanchor\": \"bottom\", \"yref\": \"paper\"}, {\"font\": {\"size\": 16}, \"showarrow\": false, \"text\": \"$\\\\sigma^2=5, MSE=34.16$\", \"x\": 0.8555555555555556, \"xanchor\": \"center\", \"xref\": \"paper\", \"y\": 0.375, \"yanchor\": \"bottom\", \"yref\": \"paper\"}], \"margin\": {\"t\": 80}, \"template\": {\"data\": {\"bar\": [{\"error_x\": {\"color\": \"rgb(36,36,36)\"}, \"error_y\": {\"color\": \"rgb(36,36,36)\"}, \"marker\": {\"line\": {\"color\": \"white\", \"width\": 0.5}}, \"type\": \"bar\"}], \"barpolar\": [{\"marker\": {\"line\": {\"color\": \"white\", \"width\": 0.5}}, \"type\": \"barpolar\"}], \"carpet\": [{\"aaxis\": {\"endlinecolor\": \"rgb(36,36,36)\", \"gridcolor\": \"white\", \"linecolor\": \"white\", \"minorgridcolor\": \"white\", \"startlinecolor\": \"rgb(36,36,36)\"}, \"baxis\": {\"endlinecolor\": \"rgb(36,36,36)\", \"gridcolor\": \"white\", \"linecolor\": \"white\", \"minorgridcolor\": \"white\", \"startlinecolor\": \"rgb(36,36,36)\"}, \"type\": \"carpet\"}], \"choropleth\": [{\"colorbar\": {\"outlinewidth\": 1, \"tickcolor\": \"rgb(36,36,36)\", \"ticks\": \"outside\"}, \"type\": \"choropleth\"}], \"contour\": [{\"colorbar\": {\"outlinewidth\": 1, \"tickcolor\": \"rgb(36,36,36)\", \"ticks\": \"outside\"}, \"colorscale\": [[0.0, \"#440154\"], [0.1111111111111111, \"#482878\"], [0.2222222222222222, \"#3e4989\"], [0.3333333333333333, \"#31688e\"], [0.4444444444444444, \"#26828e\"], [0.5555555555555556, \"#1f9e89\"], [0.6666666666666666, \"#35b779\"], [0.7777777777777778, \"#6ece58\"], [0.8888888888888888, \"#b5de2b\"], [1.0, \"#fde725\"]], \"type\": \"contour\"}], \"contourcarpet\": [{\"colorbar\": {\"outlinewidth\": 1, \"tickcolor\": \"rgb(36,36,36)\", \"ticks\": \"outside\"}, \"type\": \"contourcarpet\"}], \"heatmap\": [{\"colorbar\": {\"outlinewidth\": 1, \"tickcolor\": \"rgb(36,36,36)\", \"ticks\": \"outside\"}, \"colorscale\": [[0.0, \"#440154\"], [0.1111111111111111, \"#482878\"], [0.2222222222222222, \"#3e4989\"], [0.3333333333333333, \"#31688e\"], [0.4444444444444444, \"#26828e\"], [0.5555555555555556, \"#1f9e89\"], [0.6666666666666666, \"#35b779\"], [0.7777777777777778, \"#6ece58\"], [0.8888888888888888, \"#b5de2b\"], [1.0, \"#fde725\"]], \"type\": \"heatmap\"}], \"heatmapgl\": [{\"colorbar\": {\"outlinewidth\": 1, \"tickcolor\": \"rgb(36,36,36)\", \"ticks\": \"outside\"}, \"colorscale\": [[0.0, \"#440154\"], [0.1111111111111111, \"#482878\"], [0.2222222222222222, \"#3e4989\"], [0.3333333333333333, \"#31688e\"], [0.4444444444444444, \"#26828e\"], [0.5555555555555556, \"#1f9e89\"], [0.6666666666666666, \"#35b779\"], [0.7777777777777778, \"#6ece58\"], [0.8888888888888888, \"#b5de2b\"], [1.0, \"#fde725\"]], \"type\": \"heatmapgl\"}], \"histogram\": [{\"marker\": {\"line\": {\"color\": \"white\", \"width\": 0.6}}, \"type\": \"histogram\"}], \"histogram2d\": [{\"colorbar\": {\"outlinewidth\": 1, \"tickcolor\": \"rgb(36,36,36)\", \"ticks\": \"outside\"}, \"colorscale\": [[0.0, \"#440154\"], [0.1111111111111111, \"#482878\"], [0.2222222222222222, \"#3e4989\"], [0.3333333333333333, \"#31688e\"], [0.4444444444444444, \"#26828e\"], [0.5555555555555556, \"#1f9e89\"], [0.6666666666666666, \"#35b779\"], [0.7777777777777778, \"#6ece58\"], [0.8888888888888888, \"#b5de2b\"], [1.0, \"#fde725\"]], \"type\": \"histogram2d\"}], \"histogram2dcontour\": [{\"colorbar\": {\"outlinewidth\": 1, \"tickcolor\": \"rgb(36,36,36)\", \"ticks\": \"outside\"}, \"colorscale\": [[0.0, \"#440154\"], [0.1111111111111111, \"#482878\"], [0.2222222222222222, \"#3e4989\"], [0.3333333333333333, \"#31688e\"], [0.4444444444444444, \"#26828e\"], [0.5555555555555556, \"#1f9e89\"], [0.6666666666666666, \"#35b779\"], [0.7777777777777778, \"#6ece58\"], [0.8888888888888888, \"#b5de2b\"], [1.0, \"#fde725\"]], \"type\": \"histogram2dcontour\"}], \"mesh3d\": [{\"colorbar\": {\"outlinewidth\": 1, \"tickcolor\": \"rgb(36,36,36)\", \"ticks\": \"outside\"}, \"type\": \"mesh3d\"}], \"parcoords\": [{\"line\": {\"colorbar\": {\"outlinewidth\": 1, \"tickcolor\": \"rgb(36,36,36)\", \"ticks\": \"outside\"}}, \"type\": \"parcoords\"}], \"pie\": [{\"automargin\": true, \"type\": \"pie\"}], \"scatter\": [{\"marker\": {\"colorbar\": {\"outlinewidth\": 1, \"tickcolor\": \"rgb(36,36,36)\", \"ticks\": \"outside\"}}, \"type\": \"scatter\"}], \"scatter3d\": [{\"line\": {\"colorbar\": {\"outlinewidth\": 1, \"tickcolor\": \"rgb(36,36,36)\", \"ticks\": \"outside\"}}, \"marker\": {\"colorbar\": {\"outlinewidth\": 1, \"tickcolor\": \"rgb(36,36,36)\", \"ticks\": \"outside\"}}, \"type\": \"scatter3d\"}], \"scattercarpet\": [{\"marker\": {\"colorbar\": {\"outlinewidth\": 1, \"tickcolor\": \"rgb(36,36,36)\", \"ticks\": \"outside\"}}, \"type\": \"scattercarpet\"}], \"scattergeo\": [{\"marker\": {\"colorbar\": {\"outlinewidth\": 1, \"tickcolor\": \"rgb(36,36,36)\", \"ticks\": \"outside\"}}, \"type\": \"scattergeo\"}], \"scattergl\": [{\"marker\": {\"colorbar\": {\"outlinewidth\": 1, \"tickcolor\": \"rgb(36,36,36)\", \"ticks\": \"outside\"}}, \"type\": \"scattergl\"}], \"scattermapbox\": [{\"marker\": {\"colorbar\": {\"outlinewidth\": 1, \"tickcolor\": \"rgb(36,36,36)\", \"ticks\": \"outside\"}}, \"type\": \"scattermapbox\"}], \"scatterpolar\": [{\"marker\": {\"colorbar\": {\"outlinewidth\": 1, \"tickcolor\": \"rgb(36,36,36)\", \"ticks\": \"outside\"}}, \"type\": \"scatterpolar\"}], \"scatterpolargl\": [{\"marker\": {\"colorbar\": {\"outlinewidth\": 1, \"tickcolor\": \"rgb(36,36,36)\", \"ticks\": \"outside\"}}, \"type\": \"scatterpolargl\"}], \"scatterternary\": [{\"marker\": {\"colorbar\": {\"outlinewidth\": 1, \"tickcolor\": \"rgb(36,36,36)\", \"ticks\": \"outside\"}}, \"type\": \"scatterternary\"}], \"surface\": [{\"colorbar\": {\"outlinewidth\": 1, \"tickcolor\": \"rgb(36,36,36)\", \"ticks\": \"outside\"}, \"colorscale\": [[0.0, \"#440154\"], [0.1111111111111111, \"#482878\"], [0.2222222222222222, \"#3e4989\"], [0.3333333333333333, \"#31688e\"], [0.4444444444444444, \"#26828e\"], [0.5555555555555556, \"#1f9e89\"], [0.6666666666666666, \"#35b779\"], [0.7777777777777778, \"#6ece58\"], [0.8888888888888888, \"#b5de2b\"], [1.0, \"#fde725\"]], \"type\": \"surface\"}], \"table\": [{\"cells\": {\"fill\": {\"color\": \"rgb(237,237,237)\"}, \"line\": {\"color\": \"white\"}}, \"header\": {\"fill\": {\"color\": \"rgb(217,217,217)\"}, \"line\": {\"color\": \"white\"}}, \"type\": \"table\"}]}, \"layout\": {\"annotationdefaults\": {\"arrowhead\": 0, \"arrowwidth\": 1}, \"autotypenumbers\": \"strict\", \"coloraxis\": {\"colorbar\": {\"outlinewidth\": 1, \"tickcolor\": \"rgb(36,36,36)\", \"ticks\": \"outside\"}}, \"colorscale\": {\"diverging\": [[0.0, \"rgb(103,0,31)\"], [0.1, \"rgb(178,24,43)\"], [0.2, \"rgb(214,96,77)\"], [0.3, \"rgb(244,165,130)\"], [0.4, \"rgb(253,219,199)\"], [0.5, \"rgb(247,247,247)\"], [0.6, \"rgb(209,229,240)\"], [0.7, \"rgb(146,197,222)\"], [0.8, \"rgb(67,147,195)\"], [0.9, \"rgb(33,102,172)\"], [1.0, \"rgb(5,48,97)\"]], \"sequential\": [[0.0, \"#440154\"], [0.1111111111111111, \"#482878\"], [0.2222222222222222, \"#3e4989\"], [0.3333333333333333, \"#31688e\"], [0.4444444444444444, \"#26828e\"], [0.5555555555555556, \"#1f9e89\"], [0.6666666666666666, \"#35b779\"], [0.7777777777777778, \"#6ece58\"], [0.8888888888888888, \"#b5de2b\"], [1.0, \"#fde725\"]], \"sequentialminus\": [[0.0, \"#440154\"], [0.1111111111111111, \"#482878\"], [0.2222222222222222, \"#3e4989\"], [0.3333333333333333, \"#31688e\"], [0.4444444444444444, \"#26828e\"], [0.5555555555555556, \"#1f9e89\"], [0.6666666666666666, \"#35b779\"], [0.7777777777777778, \"#6ece58\"], [0.8888888888888888, \"#b5de2b\"], [1.0, \"#fde725\"]]}, \"colorway\": [\"#1F77B4\", \"#FF7F0E\", \"#2CA02C\", \"#D62728\", \"#9467BD\", \"#8C564B\", \"#E377C2\", \"#7F7F7F\", \"#BCBD22\", \"#17BECF\"], \"font\": {\"color\": \"rgb(36,36,36)\"}, \"geo\": {\"bgcolor\": \"white\", \"lakecolor\": \"white\", \"landcolor\": \"white\", \"showlakes\": true, \"showland\": true, \"subunitcolor\": \"white\"}, \"hoverlabel\": {\"align\": \"left\"}, \"hovermode\": \"closest\", \"mapbox\": {\"style\": \"light\"}, \"margin\": {\"b\": 0, \"l\": 20, \"r\": 20, \"t\": 40}, \"paper_bgcolor\": \"white\", \"plot_bgcolor\": \"white\", \"polar\": {\"angularaxis\": {\"gridcolor\": \"rgb(232,232,232)\", \"linecolor\": \"rgb(36,36,36)\", \"showgrid\": false, \"showline\": true, \"ticks\": \"outside\"}, \"bgcolor\": \"white\", \"radialaxis\": {\"gridcolor\": \"rgb(232,232,232)\", \"linecolor\": \"rgb(36,36,36)\", \"showgrid\": false, \"showline\": true, \"ticks\": \"outside\"}}, \"scene\": {\"xaxis\": {\"backgroundcolor\": \"white\", \"gridcolor\": \"rgb(232,232,232)\", \"gridwidth\": 2, \"linecolor\": \"rgb(36,36,36)\", \"showbackground\": true, \"showgrid\": false, \"showline\": true, \"ticks\": \"outside\", \"zeroline\": false, \"zerolinecolor\": \"rgb(36,36,36)\"}, \"yaxis\": {\"backgroundcolor\": \"white\", \"gridcolor\": \"rgb(232,232,232)\", \"gridwidth\": 2, \"linecolor\": \"rgb(36,36,36)\", \"showbackground\": true, \"showgrid\": false, \"showline\": true, \"ticks\": \"outside\", \"zeroline\": false, \"zerolinecolor\": \"rgb(36,36,36)\"}, \"zaxis\": {\"backgroundcolor\": \"white\", \"gridcolor\": \"rgb(232,232,232)\", \"gridwidth\": 2, \"linecolor\": \"rgb(36,36,36)\", \"showbackground\": true, \"showgrid\": false, \"showline\": true, \"ticks\": \"outside\", \"zeroline\": false, \"zerolinecolor\": \"rgb(36,36,36)\"}}, \"shapedefaults\": {\"fillcolor\": \"black\", \"line\": {\"width\": 0}, \"opacity\": 0.3}, \"ternary\": {\"aaxis\": {\"gridcolor\": \"rgb(232,232,232)\", \"linecolor\": \"rgb(36,36,36)\", \"showgrid\": false, \"showline\": true, \"ticks\": \"outside\"}, \"baxis\": {\"gridcolor\": \"rgb(232,232,232)\", \"linecolor\": \"rgb(36,36,36)\", \"showgrid\": false, \"showline\": true, \"ticks\": \"outside\"}, \"bgcolor\": \"white\", \"caxis\": {\"gridcolor\": \"rgb(232,232,232)\", \"linecolor\": \"rgb(36,36,36)\", \"showgrid\": false, \"showline\": true, \"ticks\": \"outside\"}}, \"title\": {\"x\": 0.05}, \"xaxis\": {\"automargin\": true, \"gridcolor\": \"rgb(232,232,232)\", \"linecolor\": \"rgb(36,36,36)\", \"showgrid\": false, \"showline\": true, \"ticks\": \"outside\", \"title\": {\"standoff\": 15}, \"zeroline\": false, \"zerolinecolor\": \"rgb(36,36,36)\"}, \"yaxis\": {\"automargin\": true, \"gridcolor\": \"rgb(232,232,232)\", \"linecolor\": \"rgb(36,36,36)\", \"showgrid\": false, \"showline\": true, \"ticks\": \"outside\", \"title\": {\"standoff\": 15}, \"zeroline\": false, \"zerolinecolor\": \"rgb(36,36,36)\"}}}, \"title\": {\"text\": \"$\\\\text{(5) Simulated Data - Different Noise Scales}$\"}, \"xaxis\": {\"anchor\": \"y\", \"domain\": [0.0, 0.2888888888888889]}, \"xaxis2\": {\"anchor\": \"y2\", \"domain\": [0.35555555555555557, 0.6444444444444445]}, \"xaxis3\": {\"anchor\": \"y3\", \"domain\": [0.7111111111111111, 1.0]}, \"xaxis4\": {\"anchor\": \"y4\", \"domain\": [0.0, 0.2888888888888889]}, \"xaxis5\": {\"anchor\": \"y5\", \"domain\": [0.35555555555555557, 0.6444444444444445]}, \"xaxis6\": {\"anchor\": \"y6\", \"domain\": [0.7111111111111111, 1.0]}, \"yaxis\": {\"anchor\": \"x\", \"domain\": [0.625, 1.0]}, \"yaxis2\": {\"anchor\": \"x2\", \"domain\": [0.625, 1.0]}, \"yaxis3\": {\"anchor\": \"x3\", \"domain\": [0.625, 1.0]}, \"yaxis4\": {\"anchor\": \"x4\", \"domain\": [0.0, 0.375]}, \"yaxis5\": {\"anchor\": \"x5\", \"domain\": [0.0, 0.375]}, \"yaxis6\": {\"anchor\": \"x6\", \"domain\": [0.0, 0.375]}},                        {\"responsive\": true}                    ).then(function(){\n",
       "                            \n",
       "var gd = document.getElementById('d582886e-9129-42a7-b115-155b0ff18e02');\n",
       "var x = new MutationObserver(function (mutations, observer) {{\n",
       "        var display = window.getComputedStyle(gd).display;\n",
       "        if (!display || display === 'none') {{\n",
       "            console.log([gd, 'removed!']);\n",
       "            Plotly.purge(gd);\n",
       "            observer.disconnect();\n",
       "        }}\n",
       "}});\n",
       "\n",
       "// Listen for the removal of the full notebook cells\n",
       "var notebookContainer = gd.closest('#notebook-container');\n",
       "if (notebookContainer) {{\n",
       "    x.observe(notebookContainer, {childList: true});\n",
       "}}\n",
       "\n",
       "// Listen for the clearing of the current output cell\n",
       "var outputEl = gd.closest('.output');\n",
       "if (outputEl) {{\n",
       "    x.observe(outputEl, {childList: true});\n",
       "}}\n",
       "\n",
       "                        })                };                });            </script>        </div>"
      ]
     },
     "metadata": {},
     "output_type": "display_data"
    }
   ],
   "source": [
    "scales = range(6)\n",
    "fig = make_subplots(2, 3, subplot_titles=list(map(str, scales)))\n",
    "for i, s in enumerate(scales):\n",
    "    r,c = i//3+1, i%3+1\n",
    "    \n",
    "    y = y_ + np.random.normal(scale=s, size=len(y_))\n",
    "    y_hat = make_pipeline(PolynomialFeatures(4), LinearRegression(fit_intercept=False)).fit(X, y).predict(X)\n",
    "\n",
    "    fig.add_traces([go.Scatter(x=x, y=y_, mode=\"markers\", name=\"Real Points\",  marker=dict(color=\"black\", opacity=.7), showlegend=False),\n",
    "                    go.Scatter(x=x, y=y, mode=\"markers\", name=\"Observed Points\",  marker=dict(color=\"red\", opacity=.7), showlegend=False),\n",
    "                    go.Scatter(x=x, y=y_hat, mode=\"markers\", name=\"Predicted Points\",  marker=dict(color=\"blue\", opacity=.7), showlegend=False)], rows=r, cols=c)\n",
    "    fig[\"layout\"][\"annotations\"][i][\"text\"] = rf\"$\\sigma^2={{0}}, MSE={{1}}$\".format(s, round(np.mean((y-y_hat)**2), 2))\n",
    "\n",
    "fig.update_layout(title=r\"$\\text{(5) Simulated Data - Different Noise Scales}$\", margin=dict(t=80)).show()"
   ]
  },
  {
   "cell_type": "markdown",
   "metadata": {
    "pycharm": {
     "name": "#%% md\n"
    }
   },
   "source": [
    "## The Influence Of $k$ And $\\sigma^2$ On Error\n",
    "\n",
    "Lastly, let us check how the error is influenced by both $k$ and $\\sigma^2$. For each value of $k$ and $\\sigma^2$ we will\n",
    "add noise drawn from $\\mathcal{N}\\left(0,\\sigma^2\\right)$ and then, based on the noisy data, let the learner select an\n",
    "hypothesis from $\\mathcal{H}_{poly}^k$. We repeat the process for each set of $\\left(k,\\sigma^2\\right)$ 10 times and report\n",
    "the mean MSE value. Results are seen in heatmap below: \n"
   ]
  },
  {
   "cell_type": "code",
   "execution_count": 8,
   "metadata": {
    "pycharm": {
     "is_executing": false,
     "name": "#%%\n"
    }
   },
   "outputs": [
    {
     "data": {
      "application/vnd.plotly.v1+json": {
       "config": {
        "plotlyServerURL": "https://plot.ly"
       },
       "data": [
        {
         "colorscale": [
          [
           0,
           "rgb(241, 236, 236)"
          ],
          [
           0.09090909090909091,
           "rgb(230, 209, 203)"
          ],
          [
           0.18181818181818182,
           "rgb(221, 182, 170)"
          ],
          [
           0.2727272727272727,
           "rgb(213, 156, 137)"
          ],
          [
           0.36363636363636365,
           "rgb(205, 129, 103)"
          ],
          [
           0.45454545454545453,
           "rgb(196, 102, 73)"
          ],
          [
           0.5454545454545454,
           "rgb(186, 74, 47)"
          ],
          [
           0.6363636363636364,
           "rgb(172, 44, 36)"
          ],
          [
           0.7272727272727273,
           "rgb(149, 19, 39)"
          ],
          [
           0.8181818181818182,
           "rgb(120, 14, 40)"
          ],
          [
           0.9090909090909091,
           "rgb(89, 13, 31)"
          ],
          [
           1,
           "rgb(60, 9, 17)"
          ]
         ],
         "type": "heatmap",
         "x": [
          0,
          0,
          0,
          0,
          0,
          0,
          0,
          0,
          0,
          0,
          1,
          1,
          1,
          1,
          1,
          1,
          1,
          1,
          1,
          1,
          2,
          2,
          2,
          2,
          2,
          2,
          2,
          2,
          2,
          2,
          3,
          3,
          3,
          3,
          3,
          3,
          3,
          3,
          3,
          3,
          4,
          4,
          4,
          4,
          4,
          4,
          4,
          4,
          4,
          4,
          5,
          5,
          5,
          5,
          5,
          5,
          5,
          5,
          5,
          5,
          6,
          6,
          6,
          6,
          6,
          6,
          6,
          6,
          6,
          6,
          7,
          7,
          7,
          7,
          7,
          7,
          7,
          7,
          7,
          7,
          8,
          8,
          8,
          8,
          8,
          8,
          8,
          8,
          8,
          8,
          9,
          9,
          9,
          9,
          9,
          9,
          9,
          9,
          9,
          9
         ],
         "y": [
          0,
          0.5555555555555556,
          1.1111111111111112,
          1.6666666666666667,
          2.2222222222222223,
          2.7777777777777777,
          3.3333333333333335,
          3.8888888888888893,
          4.444444444444445,
          5,
          0,
          0.5555555555555556,
          1.1111111111111112,
          1.6666666666666667,
          2.2222222222222223,
          2.7777777777777777,
          3.3333333333333335,
          3.8888888888888893,
          4.444444444444445,
          5,
          0,
          0.5555555555555556,
          1.1111111111111112,
          1.6666666666666667,
          2.2222222222222223,
          2.7777777777777777,
          3.3333333333333335,
          3.8888888888888893,
          4.444444444444445,
          5,
          0,
          0.5555555555555556,
          1.1111111111111112,
          1.6666666666666667,
          2.2222222222222223,
          2.7777777777777777,
          3.3333333333333335,
          3.8888888888888893,
          4.444444444444445,
          5,
          0,
          0.5555555555555556,
          1.1111111111111112,
          1.6666666666666667,
          2.2222222222222223,
          2.7777777777777777,
          3.3333333333333335,
          3.8888888888888893,
          4.444444444444445,
          5,
          0,
          0.5555555555555556,
          1.1111111111111112,
          1.6666666666666667,
          2.2222222222222223,
          2.7777777777777777,
          3.3333333333333335,
          3.8888888888888893,
          4.444444444444445,
          5,
          0,
          0.5555555555555556,
          1.1111111111111112,
          1.6666666666666667,
          2.2222222222222223,
          2.7777777777777777,
          3.3333333333333335,
          3.8888888888888893,
          4.444444444444445,
          5,
          0,
          0.5555555555555556,
          1.1111111111111112,
          1.6666666666666667,
          2.2222222222222223,
          2.7777777777777777,
          3.3333333333333335,
          3.8888888888888893,
          4.444444444444445,
          5,
          0,
          0.5555555555555556,
          1.1111111111111112,
          1.6666666666666667,
          2.2222222222222223,
          2.7777777777777777,
          3.3333333333333335,
          3.8888888888888893,
          4.444444444444445,
          5,
          0,
          0.5555555555555556,
          1.1111111111111112,
          1.6666666666666667,
          2.2222222222222223,
          2.7777777777777777,
          3.3333333333333335,
          3.8888888888888893,
          4.444444444444445,
          5
         ],
         "z": [
          3.5985769347008363,
          3.8488786333990097,
          4.779452202041879,
          6.620169178211874,
          7.96522296347125,
          11.706373776242444,
          14.31351795996981,
          18.222048327741973,
          20.007724061054493,
          30.021667412066797,
          0.5232075621691131,
          0.7222808645129771,
          1.4932866486484333,
          2.7304147497178475,
          5.9398505168081615,
          7.705044437049819,
          10.577465385982293,
          11.644951540891416,
          19.064028359159426,
          23.854201059914665,
          0.4200361063196548,
          0.7034521290960158,
          1.3741181773682742,
          2.7459510663561053,
          4.716018767806675,
          5.92537526293388,
          11.096905480511586,
          14.363608844178547,
          21.011812395677296,
          19.334868394075404,
          0.2829178894203396,
          0.5544188314554486,
          1.3110405393976567,
          2.6066600710663628,
          3.9787733425384637,
          6.088560602353249,
          9.065663274191616,
          11.244720533885976,
          14.518093916654928,
          20.303952467429696,
          3.310134314017231e-30,
          0.19627345582999034,
          1.0367356097513205,
          2.147005690425279,
          3.3962760511179075,
          5.883034742643438,
          10.536172655473226,
          12.97910513373985,
          13.533728906899523,
          19.671382309589237,
          3.862336947671938e-30,
          0.18866001289622217,
          0.8089920478849428,
          1.900860818241141,
          3.287132889408354,
          7.300481198522126,
          7.794768741129365,
          10.764062372331898,
          12.259928959891457,
          19.459557746175324,
          1.2960084878311204e-27,
          0.20809883652708522,
          0.7689243654097042,
          2.1671378180110725,
          3.1644238703952694,
          4.98882320936281,
          7.615517000575994,
          10.310234013460269,
          12.697019636522233,
          19.47739756182986,
          1.2190366175993448e-29,
          0.1475971217988462,
          0.7547192409832075,
          1.457266919264526,
          2.638448191416349,
          5.988197923795144,
          7.130575507421389,
          7.817767066936241,
          11.060865356781779,
          13.569605199678293,
          2.280304505420948e-26,
          0.21574850697413508,
          0.6751328111111381,
          1.5924820463932092,
          2.6688266889910195,
          3.96740623121134,
          6.257577803167998,
          7.466436169160394,
          9.557813464988486,
          11.82996724991169,
          2.1992887369737826e-28,
          0.14488138890716873,
          0.4825373612722476,
          1.42104239730484,
          2.9946364215027907,
          3.944745621896904,
          5.685676607072923,
          6.529821331418702,
          9.085308440689483,
          10.994320454387111
         ]
        }
       ],
       "layout": {
        "template": {
         "data": {
          "bar": [
           {
            "error_x": {
             "color": "rgb(36,36,36)"
            },
            "error_y": {
             "color": "rgb(36,36,36)"
            },
            "marker": {
             "line": {
              "color": "white",
              "width": 0.5
             }
            },
            "type": "bar"
           }
          ],
          "barpolar": [
           {
            "marker": {
             "line": {
              "color": "white",
              "width": 0.5
             }
            },
            "type": "barpolar"
           }
          ],
          "carpet": [
           {
            "aaxis": {
             "endlinecolor": "rgb(36,36,36)",
             "gridcolor": "white",
             "linecolor": "white",
             "minorgridcolor": "white",
             "startlinecolor": "rgb(36,36,36)"
            },
            "baxis": {
             "endlinecolor": "rgb(36,36,36)",
             "gridcolor": "white",
             "linecolor": "white",
             "minorgridcolor": "white",
             "startlinecolor": "rgb(36,36,36)"
            },
            "type": "carpet"
           }
          ],
          "choropleth": [
           {
            "colorbar": {
             "outlinewidth": 1,
             "tickcolor": "rgb(36,36,36)",
             "ticks": "outside"
            },
            "type": "choropleth"
           }
          ],
          "contour": [
           {
            "colorbar": {
             "outlinewidth": 1,
             "tickcolor": "rgb(36,36,36)",
             "ticks": "outside"
            },
            "colorscale": [
             [
              0,
              "#440154"
             ],
             [
              0.1111111111111111,
              "#482878"
             ],
             [
              0.2222222222222222,
              "#3e4989"
             ],
             [
              0.3333333333333333,
              "#31688e"
             ],
             [
              0.4444444444444444,
              "#26828e"
             ],
             [
              0.5555555555555556,
              "#1f9e89"
             ],
             [
              0.6666666666666666,
              "#35b779"
             ],
             [
              0.7777777777777778,
              "#6ece58"
             ],
             [
              0.8888888888888888,
              "#b5de2b"
             ],
             [
              1,
              "#fde725"
             ]
            ],
            "type": "contour"
           }
          ],
          "contourcarpet": [
           {
            "colorbar": {
             "outlinewidth": 1,
             "tickcolor": "rgb(36,36,36)",
             "ticks": "outside"
            },
            "type": "contourcarpet"
           }
          ],
          "heatmap": [
           {
            "colorbar": {
             "outlinewidth": 1,
             "tickcolor": "rgb(36,36,36)",
             "ticks": "outside"
            },
            "colorscale": [
             [
              0,
              "#440154"
             ],
             [
              0.1111111111111111,
              "#482878"
             ],
             [
              0.2222222222222222,
              "#3e4989"
             ],
             [
              0.3333333333333333,
              "#31688e"
             ],
             [
              0.4444444444444444,
              "#26828e"
             ],
             [
              0.5555555555555556,
              "#1f9e89"
             ],
             [
              0.6666666666666666,
              "#35b779"
             ],
             [
              0.7777777777777778,
              "#6ece58"
             ],
             [
              0.8888888888888888,
              "#b5de2b"
             ],
             [
              1,
              "#fde725"
             ]
            ],
            "type": "heatmap"
           }
          ],
          "heatmapgl": [
           {
            "colorbar": {
             "outlinewidth": 1,
             "tickcolor": "rgb(36,36,36)",
             "ticks": "outside"
            },
            "colorscale": [
             [
              0,
              "#440154"
             ],
             [
              0.1111111111111111,
              "#482878"
             ],
             [
              0.2222222222222222,
              "#3e4989"
             ],
             [
              0.3333333333333333,
              "#31688e"
             ],
             [
              0.4444444444444444,
              "#26828e"
             ],
             [
              0.5555555555555556,
              "#1f9e89"
             ],
             [
              0.6666666666666666,
              "#35b779"
             ],
             [
              0.7777777777777778,
              "#6ece58"
             ],
             [
              0.8888888888888888,
              "#b5de2b"
             ],
             [
              1,
              "#fde725"
             ]
            ],
            "type": "heatmapgl"
           }
          ],
          "histogram": [
           {
            "marker": {
             "line": {
              "color": "white",
              "width": 0.6
             }
            },
            "type": "histogram"
           }
          ],
          "histogram2d": [
           {
            "colorbar": {
             "outlinewidth": 1,
             "tickcolor": "rgb(36,36,36)",
             "ticks": "outside"
            },
            "colorscale": [
             [
              0,
              "#440154"
             ],
             [
              0.1111111111111111,
              "#482878"
             ],
             [
              0.2222222222222222,
              "#3e4989"
             ],
             [
              0.3333333333333333,
              "#31688e"
             ],
             [
              0.4444444444444444,
              "#26828e"
             ],
             [
              0.5555555555555556,
              "#1f9e89"
             ],
             [
              0.6666666666666666,
              "#35b779"
             ],
             [
              0.7777777777777778,
              "#6ece58"
             ],
             [
              0.8888888888888888,
              "#b5de2b"
             ],
             [
              1,
              "#fde725"
             ]
            ],
            "type": "histogram2d"
           }
          ],
          "histogram2dcontour": [
           {
            "colorbar": {
             "outlinewidth": 1,
             "tickcolor": "rgb(36,36,36)",
             "ticks": "outside"
            },
            "colorscale": [
             [
              0,
              "#440154"
             ],
             [
              0.1111111111111111,
              "#482878"
             ],
             [
              0.2222222222222222,
              "#3e4989"
             ],
             [
              0.3333333333333333,
              "#31688e"
             ],
             [
              0.4444444444444444,
              "#26828e"
             ],
             [
              0.5555555555555556,
              "#1f9e89"
             ],
             [
              0.6666666666666666,
              "#35b779"
             ],
             [
              0.7777777777777778,
              "#6ece58"
             ],
             [
              0.8888888888888888,
              "#b5de2b"
             ],
             [
              1,
              "#fde725"
             ]
            ],
            "type": "histogram2dcontour"
           }
          ],
          "mesh3d": [
           {
            "colorbar": {
             "outlinewidth": 1,
             "tickcolor": "rgb(36,36,36)",
             "ticks": "outside"
            },
            "type": "mesh3d"
           }
          ],
          "parcoords": [
           {
            "line": {
             "colorbar": {
              "outlinewidth": 1,
              "tickcolor": "rgb(36,36,36)",
              "ticks": "outside"
             }
            },
            "type": "parcoords"
           }
          ],
          "pie": [
           {
            "automargin": true,
            "type": "pie"
           }
          ],
          "scatter": [
           {
            "marker": {
             "colorbar": {
              "outlinewidth": 1,
              "tickcolor": "rgb(36,36,36)",
              "ticks": "outside"
             }
            },
            "type": "scatter"
           }
          ],
          "scatter3d": [
           {
            "line": {
             "colorbar": {
              "outlinewidth": 1,
              "tickcolor": "rgb(36,36,36)",
              "ticks": "outside"
             }
            },
            "marker": {
             "colorbar": {
              "outlinewidth": 1,
              "tickcolor": "rgb(36,36,36)",
              "ticks": "outside"
             }
            },
            "type": "scatter3d"
           }
          ],
          "scattercarpet": [
           {
            "marker": {
             "colorbar": {
              "outlinewidth": 1,
              "tickcolor": "rgb(36,36,36)",
              "ticks": "outside"
             }
            },
            "type": "scattercarpet"
           }
          ],
          "scattergeo": [
           {
            "marker": {
             "colorbar": {
              "outlinewidth": 1,
              "tickcolor": "rgb(36,36,36)",
              "ticks": "outside"
             }
            },
            "type": "scattergeo"
           }
          ],
          "scattergl": [
           {
            "marker": {
             "colorbar": {
              "outlinewidth": 1,
              "tickcolor": "rgb(36,36,36)",
              "ticks": "outside"
             }
            },
            "type": "scattergl"
           }
          ],
          "scattermapbox": [
           {
            "marker": {
             "colorbar": {
              "outlinewidth": 1,
              "tickcolor": "rgb(36,36,36)",
              "ticks": "outside"
             }
            },
            "type": "scattermapbox"
           }
          ],
          "scatterpolar": [
           {
            "marker": {
             "colorbar": {
              "outlinewidth": 1,
              "tickcolor": "rgb(36,36,36)",
              "ticks": "outside"
             }
            },
            "type": "scatterpolar"
           }
          ],
          "scatterpolargl": [
           {
            "marker": {
             "colorbar": {
              "outlinewidth": 1,
              "tickcolor": "rgb(36,36,36)",
              "ticks": "outside"
             }
            },
            "type": "scatterpolargl"
           }
          ],
          "scatterternary": [
           {
            "marker": {
             "colorbar": {
              "outlinewidth": 1,
              "tickcolor": "rgb(36,36,36)",
              "ticks": "outside"
             }
            },
            "type": "scatterternary"
           }
          ],
          "surface": [
           {
            "colorbar": {
             "outlinewidth": 1,
             "tickcolor": "rgb(36,36,36)",
             "ticks": "outside"
            },
            "colorscale": [
             [
              0,
              "#440154"
             ],
             [
              0.1111111111111111,
              "#482878"
             ],
             [
              0.2222222222222222,
              "#3e4989"
             ],
             [
              0.3333333333333333,
              "#31688e"
             ],
             [
              0.4444444444444444,
              "#26828e"
             ],
             [
              0.5555555555555556,
              "#1f9e89"
             ],
             [
              0.6666666666666666,
              "#35b779"
             ],
             [
              0.7777777777777778,
              "#6ece58"
             ],
             [
              0.8888888888888888,
              "#b5de2b"
             ],
             [
              1,
              "#fde725"
             ]
            ],
            "type": "surface"
           }
          ],
          "table": [
           {
            "cells": {
             "fill": {
              "color": "rgb(237,237,237)"
             },
             "line": {
              "color": "white"
             }
            },
            "header": {
             "fill": {
              "color": "rgb(217,217,217)"
             },
             "line": {
              "color": "white"
             }
            },
            "type": "table"
           }
          ]
         },
         "layout": {
          "annotationdefaults": {
           "arrowhead": 0,
           "arrowwidth": 1
          },
          "autotypenumbers": "strict",
          "coloraxis": {
           "colorbar": {
            "outlinewidth": 1,
            "tickcolor": "rgb(36,36,36)",
            "ticks": "outside"
           }
          },
          "colorscale": {
           "diverging": [
            [
             0,
             "rgb(103,0,31)"
            ],
            [
             0.1,
             "rgb(178,24,43)"
            ],
            [
             0.2,
             "rgb(214,96,77)"
            ],
            [
             0.3,
             "rgb(244,165,130)"
            ],
            [
             0.4,
             "rgb(253,219,199)"
            ],
            [
             0.5,
             "rgb(247,247,247)"
            ],
            [
             0.6,
             "rgb(209,229,240)"
            ],
            [
             0.7,
             "rgb(146,197,222)"
            ],
            [
             0.8,
             "rgb(67,147,195)"
            ],
            [
             0.9,
             "rgb(33,102,172)"
            ],
            [
             1,
             "rgb(5,48,97)"
            ]
           ],
           "sequential": [
            [
             0,
             "#440154"
            ],
            [
             0.1111111111111111,
             "#482878"
            ],
            [
             0.2222222222222222,
             "#3e4989"
            ],
            [
             0.3333333333333333,
             "#31688e"
            ],
            [
             0.4444444444444444,
             "#26828e"
            ],
            [
             0.5555555555555556,
             "#1f9e89"
            ],
            [
             0.6666666666666666,
             "#35b779"
            ],
            [
             0.7777777777777778,
             "#6ece58"
            ],
            [
             0.8888888888888888,
             "#b5de2b"
            ],
            [
             1,
             "#fde725"
            ]
           ],
           "sequentialminus": [
            [
             0,
             "#440154"
            ],
            [
             0.1111111111111111,
             "#482878"
            ],
            [
             0.2222222222222222,
             "#3e4989"
            ],
            [
             0.3333333333333333,
             "#31688e"
            ],
            [
             0.4444444444444444,
             "#26828e"
            ],
            [
             0.5555555555555556,
             "#1f9e89"
            ],
            [
             0.6666666666666666,
             "#35b779"
            ],
            [
             0.7777777777777778,
             "#6ece58"
            ],
            [
             0.8888888888888888,
             "#b5de2b"
            ],
            [
             1,
             "#fde725"
            ]
           ]
          },
          "colorway": [
           "#1F77B4",
           "#FF7F0E",
           "#2CA02C",
           "#D62728",
           "#9467BD",
           "#8C564B",
           "#E377C2",
           "#7F7F7F",
           "#BCBD22",
           "#17BECF"
          ],
          "font": {
           "color": "rgb(36,36,36)"
          },
          "geo": {
           "bgcolor": "white",
           "lakecolor": "white",
           "landcolor": "white",
           "showlakes": true,
           "showland": true,
           "subunitcolor": "white"
          },
          "hoverlabel": {
           "align": "left"
          },
          "hovermode": "closest",
          "mapbox": {
           "style": "light"
          },
          "margin": {
           "b": 0,
           "l": 20,
           "r": 20,
           "t": 40
          },
          "paper_bgcolor": "white",
          "plot_bgcolor": "white",
          "polar": {
           "angularaxis": {
            "gridcolor": "rgb(232,232,232)",
            "linecolor": "rgb(36,36,36)",
            "showgrid": false,
            "showline": true,
            "ticks": "outside"
           },
           "bgcolor": "white",
           "radialaxis": {
            "gridcolor": "rgb(232,232,232)",
            "linecolor": "rgb(36,36,36)",
            "showgrid": false,
            "showline": true,
            "ticks": "outside"
           }
          },
          "scene": {
           "xaxis": {
            "backgroundcolor": "white",
            "gridcolor": "rgb(232,232,232)",
            "gridwidth": 2,
            "linecolor": "rgb(36,36,36)",
            "showbackground": true,
            "showgrid": false,
            "showline": true,
            "ticks": "outside",
            "zeroline": false,
            "zerolinecolor": "rgb(36,36,36)"
           },
           "yaxis": {
            "backgroundcolor": "white",
            "gridcolor": "rgb(232,232,232)",
            "gridwidth": 2,
            "linecolor": "rgb(36,36,36)",
            "showbackground": true,
            "showgrid": false,
            "showline": true,
            "ticks": "outside",
            "zeroline": false,
            "zerolinecolor": "rgb(36,36,36)"
           },
           "zaxis": {
            "backgroundcolor": "white",
            "gridcolor": "rgb(232,232,232)",
            "gridwidth": 2,
            "linecolor": "rgb(36,36,36)",
            "showbackground": true,
            "showgrid": false,
            "showline": true,
            "ticks": "outside",
            "zeroline": false,
            "zerolinecolor": "rgb(36,36,36)"
           }
          },
          "shapedefaults": {
           "fillcolor": "black",
           "line": {
            "width": 0
           },
           "opacity": 0.3
          },
          "ternary": {
           "aaxis": {
            "gridcolor": "rgb(232,232,232)",
            "linecolor": "rgb(36,36,36)",
            "showgrid": false,
            "showline": true,
            "ticks": "outside"
           },
           "baxis": {
            "gridcolor": "rgb(232,232,232)",
            "linecolor": "rgb(36,36,36)",
            "showgrid": false,
            "showline": true,
            "ticks": "outside"
           },
           "bgcolor": "white",
           "caxis": {
            "gridcolor": "rgb(232,232,232)",
            "linecolor": "rgb(36,36,36)",
            "showgrid": false,
            "showline": true,
            "ticks": "outside"
           }
          },
          "title": {
           "x": 0.05
          },
          "xaxis": {
           "automargin": true,
           "gridcolor": "rgb(232,232,232)",
           "linecolor": "rgb(36,36,36)",
           "showgrid": false,
           "showline": true,
           "ticks": "outside",
           "title": {
            "standoff": 15
           },
           "zeroline": false,
           "zerolinecolor": "rgb(36,36,36)"
          },
          "yaxis": {
           "automargin": true,
           "gridcolor": "rgb(232,232,232)",
           "linecolor": "rgb(36,36,36)",
           "showgrid": false,
           "showline": true,
           "ticks": "outside",
           "title": {
            "standoff": 15
           },
           "zeroline": false,
           "zerolinecolor": "rgb(36,36,36)"
          }
         }
        },
        "title": {
         "text": "$\\text{(6) Average Train } MSE \\text{ As Function of } \\left(k,\\sigma^2\\right)$"
        },
        "xaxis": {
         "title": {
          "text": "$k$ - Fitted Polynomial Degree"
         }
        },
        "yaxis": {
         "title": {
          "text": "$\\sigma^2$ - Noise Levels"
         }
        }
       }
      },
      "text/html": [
       "<div>                            <div id=\"dc7db5b7-01fd-4594-93e0-78e322acfc1d\" class=\"plotly-graph-div\" style=\"height:525px; width:100%;\"></div>            <script type=\"text/javascript\">                require([\"plotly\"], function(Plotly) {                    window.PLOTLYENV=window.PLOTLYENV || {};                                    if (document.getElementById(\"dc7db5b7-01fd-4594-93e0-78e322acfc1d\")) {                    Plotly.newPlot(                        \"dc7db5b7-01fd-4594-93e0-78e322acfc1d\",                        [{\"colorscale\": [[0.0, \"rgb(241, 236, 236)\"], [0.09090909090909091, \"rgb(230, 209, 203)\"], [0.18181818181818182, \"rgb(221, 182, 170)\"], [0.2727272727272727, \"rgb(213, 156, 137)\"], [0.36363636363636365, \"rgb(205, 129, 103)\"], [0.45454545454545453, \"rgb(196, 102, 73)\"], [0.5454545454545454, \"rgb(186, 74, 47)\"], [0.6363636363636364, \"rgb(172, 44, 36)\"], [0.7272727272727273, \"rgb(149, 19, 39)\"], [0.8181818181818182, \"rgb(120, 14, 40)\"], [0.9090909090909091, \"rgb(89, 13, 31)\"], [1.0, \"rgb(60, 9, 17)\"]], \"type\": \"heatmap\", \"x\": [0, 0, 0, 0, 0, 0, 0, 0, 0, 0, 1, 1, 1, 1, 1, 1, 1, 1, 1, 1, 2, 2, 2, 2, 2, 2, 2, 2, 2, 2, 3, 3, 3, 3, 3, 3, 3, 3, 3, 3, 4, 4, 4, 4, 4, 4, 4, 4, 4, 4, 5, 5, 5, 5, 5, 5, 5, 5, 5, 5, 6, 6, 6, 6, 6, 6, 6, 6, 6, 6, 7, 7, 7, 7, 7, 7, 7, 7, 7, 7, 8, 8, 8, 8, 8, 8, 8, 8, 8, 8, 9, 9, 9, 9, 9, 9, 9, 9, 9, 9], \"y\": [0.0, 0.5555555555555556, 1.1111111111111112, 1.6666666666666667, 2.2222222222222223, 2.7777777777777777, 3.3333333333333335, 3.8888888888888893, 4.444444444444445, 5.0, 0.0, 0.5555555555555556, 1.1111111111111112, 1.6666666666666667, 2.2222222222222223, 2.7777777777777777, 3.3333333333333335, 3.8888888888888893, 4.444444444444445, 5.0, 0.0, 0.5555555555555556, 1.1111111111111112, 1.6666666666666667, 2.2222222222222223, 2.7777777777777777, 3.3333333333333335, 3.8888888888888893, 4.444444444444445, 5.0, 0.0, 0.5555555555555556, 1.1111111111111112, 1.6666666666666667, 2.2222222222222223, 2.7777777777777777, 3.3333333333333335, 3.8888888888888893, 4.444444444444445, 5.0, 0.0, 0.5555555555555556, 1.1111111111111112, 1.6666666666666667, 2.2222222222222223, 2.7777777777777777, 3.3333333333333335, 3.8888888888888893, 4.444444444444445, 5.0, 0.0, 0.5555555555555556, 1.1111111111111112, 1.6666666666666667, 2.2222222222222223, 2.7777777777777777, 3.3333333333333335, 3.8888888888888893, 4.444444444444445, 5.0, 0.0, 0.5555555555555556, 1.1111111111111112, 1.6666666666666667, 2.2222222222222223, 2.7777777777777777, 3.3333333333333335, 3.8888888888888893, 4.444444444444445, 5.0, 0.0, 0.5555555555555556, 1.1111111111111112, 1.6666666666666667, 2.2222222222222223, 2.7777777777777777, 3.3333333333333335, 3.8888888888888893, 4.444444444444445, 5.0, 0.0, 0.5555555555555556, 1.1111111111111112, 1.6666666666666667, 2.2222222222222223, 2.7777777777777777, 3.3333333333333335, 3.8888888888888893, 4.444444444444445, 5.0, 0.0, 0.5555555555555556, 1.1111111111111112, 1.6666666666666667, 2.2222222222222223, 2.7777777777777777, 3.3333333333333335, 3.8888888888888893, 4.444444444444445, 5.0], \"z\": [3.5985769347008363, 3.8488786333990097, 4.779452202041879, 6.620169178211874, 7.96522296347125, 11.706373776242444, 14.31351795996981, 18.222048327741973, 20.007724061054493, 30.021667412066797, 0.5232075621691131, 0.7222808645129771, 1.4932866486484333, 2.7304147497178475, 5.9398505168081615, 7.705044437049819, 10.577465385982293, 11.644951540891416, 19.064028359159426, 23.854201059914665, 0.4200361063196548, 0.7034521290960158, 1.3741181773682742, 2.7459510663561053, 4.716018767806675, 5.92537526293388, 11.096905480511586, 14.363608844178547, 21.011812395677296, 19.334868394075404, 0.2829178894203396, 0.5544188314554486, 1.3110405393976567, 2.6066600710663628, 3.9787733425384637, 6.088560602353249, 9.065663274191616, 11.244720533885976, 14.518093916654928, 20.303952467429696, 3.310134314017231e-30, 0.19627345582999034, 1.0367356097513205, 2.147005690425279, 3.3962760511179075, 5.883034742643438, 10.536172655473226, 12.97910513373985, 13.533728906899523, 19.671382309589237, 3.862336947671938e-30, 0.18866001289622217, 0.8089920478849428, 1.900860818241141, 3.287132889408354, 7.300481198522126, 7.794768741129365, 10.764062372331898, 12.259928959891457, 19.459557746175324, 1.2960084878311204e-27, 0.20809883652708522, 0.7689243654097042, 2.1671378180110725, 3.1644238703952694, 4.98882320936281, 7.615517000575994, 10.310234013460269, 12.697019636522233, 19.47739756182986, 1.2190366175993448e-29, 0.1475971217988462, 0.7547192409832075, 1.457266919264526, 2.638448191416349, 5.988197923795144, 7.130575507421389, 7.817767066936241, 11.060865356781779, 13.569605199678293, 2.280304505420948e-26, 0.21574850697413508, 0.6751328111111381, 1.5924820463932092, 2.6688266889910195, 3.96740623121134, 6.257577803167998, 7.466436169160394, 9.557813464988486, 11.82996724991169, 2.1992887369737826e-28, 0.14488138890716873, 0.4825373612722476, 1.42104239730484, 2.9946364215027907, 3.944745621896904, 5.685676607072923, 6.529821331418702, 9.085308440689483, 10.994320454387111]}],                        {\"template\": {\"data\": {\"bar\": [{\"error_x\": {\"color\": \"rgb(36,36,36)\"}, \"error_y\": {\"color\": \"rgb(36,36,36)\"}, \"marker\": {\"line\": {\"color\": \"white\", \"width\": 0.5}}, \"type\": \"bar\"}], \"barpolar\": [{\"marker\": {\"line\": {\"color\": \"white\", \"width\": 0.5}}, \"type\": \"barpolar\"}], \"carpet\": [{\"aaxis\": {\"endlinecolor\": \"rgb(36,36,36)\", \"gridcolor\": \"white\", \"linecolor\": \"white\", \"minorgridcolor\": \"white\", \"startlinecolor\": \"rgb(36,36,36)\"}, \"baxis\": {\"endlinecolor\": \"rgb(36,36,36)\", \"gridcolor\": \"white\", \"linecolor\": \"white\", \"minorgridcolor\": \"white\", \"startlinecolor\": \"rgb(36,36,36)\"}, \"type\": \"carpet\"}], \"choropleth\": [{\"colorbar\": {\"outlinewidth\": 1, \"tickcolor\": \"rgb(36,36,36)\", \"ticks\": \"outside\"}, \"type\": \"choropleth\"}], \"contour\": [{\"colorbar\": {\"outlinewidth\": 1, \"tickcolor\": \"rgb(36,36,36)\", \"ticks\": \"outside\"}, \"colorscale\": [[0.0, \"#440154\"], [0.1111111111111111, \"#482878\"], [0.2222222222222222, \"#3e4989\"], [0.3333333333333333, \"#31688e\"], [0.4444444444444444, \"#26828e\"], [0.5555555555555556, \"#1f9e89\"], [0.6666666666666666, \"#35b779\"], [0.7777777777777778, \"#6ece58\"], [0.8888888888888888, \"#b5de2b\"], [1.0, \"#fde725\"]], \"type\": \"contour\"}], \"contourcarpet\": [{\"colorbar\": {\"outlinewidth\": 1, \"tickcolor\": \"rgb(36,36,36)\", \"ticks\": \"outside\"}, \"type\": \"contourcarpet\"}], \"heatmap\": [{\"colorbar\": {\"outlinewidth\": 1, \"tickcolor\": \"rgb(36,36,36)\", \"ticks\": \"outside\"}, \"colorscale\": [[0.0, \"#440154\"], [0.1111111111111111, \"#482878\"], [0.2222222222222222, \"#3e4989\"], [0.3333333333333333, \"#31688e\"], [0.4444444444444444, \"#26828e\"], [0.5555555555555556, \"#1f9e89\"], [0.6666666666666666, \"#35b779\"], [0.7777777777777778, \"#6ece58\"], [0.8888888888888888, \"#b5de2b\"], [1.0, \"#fde725\"]], \"type\": \"heatmap\"}], \"heatmapgl\": [{\"colorbar\": {\"outlinewidth\": 1, \"tickcolor\": \"rgb(36,36,36)\", \"ticks\": \"outside\"}, \"colorscale\": [[0.0, \"#440154\"], [0.1111111111111111, \"#482878\"], [0.2222222222222222, \"#3e4989\"], [0.3333333333333333, \"#31688e\"], [0.4444444444444444, \"#26828e\"], [0.5555555555555556, \"#1f9e89\"], [0.6666666666666666, \"#35b779\"], [0.7777777777777778, \"#6ece58\"], [0.8888888888888888, \"#b5de2b\"], [1.0, \"#fde725\"]], \"type\": \"heatmapgl\"}], \"histogram\": [{\"marker\": {\"line\": {\"color\": \"white\", \"width\": 0.6}}, \"type\": \"histogram\"}], \"histogram2d\": [{\"colorbar\": {\"outlinewidth\": 1, \"tickcolor\": \"rgb(36,36,36)\", \"ticks\": \"outside\"}, \"colorscale\": [[0.0, \"#440154\"], [0.1111111111111111, \"#482878\"], [0.2222222222222222, \"#3e4989\"], [0.3333333333333333, \"#31688e\"], [0.4444444444444444, \"#26828e\"], [0.5555555555555556, \"#1f9e89\"], [0.6666666666666666, \"#35b779\"], [0.7777777777777778, \"#6ece58\"], [0.8888888888888888, \"#b5de2b\"], [1.0, \"#fde725\"]], \"type\": \"histogram2d\"}], \"histogram2dcontour\": [{\"colorbar\": {\"outlinewidth\": 1, \"tickcolor\": \"rgb(36,36,36)\", \"ticks\": \"outside\"}, \"colorscale\": [[0.0, \"#440154\"], [0.1111111111111111, \"#482878\"], [0.2222222222222222, \"#3e4989\"], [0.3333333333333333, \"#31688e\"], [0.4444444444444444, \"#26828e\"], [0.5555555555555556, \"#1f9e89\"], [0.6666666666666666, \"#35b779\"], [0.7777777777777778, \"#6ece58\"], [0.8888888888888888, \"#b5de2b\"], [1.0, \"#fde725\"]], \"type\": \"histogram2dcontour\"}], \"mesh3d\": [{\"colorbar\": {\"outlinewidth\": 1, \"tickcolor\": \"rgb(36,36,36)\", \"ticks\": \"outside\"}, \"type\": \"mesh3d\"}], \"parcoords\": [{\"line\": {\"colorbar\": {\"outlinewidth\": 1, \"tickcolor\": \"rgb(36,36,36)\", \"ticks\": \"outside\"}}, \"type\": \"parcoords\"}], \"pie\": [{\"automargin\": true, \"type\": \"pie\"}], \"scatter\": [{\"marker\": {\"colorbar\": {\"outlinewidth\": 1, \"tickcolor\": \"rgb(36,36,36)\", \"ticks\": \"outside\"}}, \"type\": \"scatter\"}], \"scatter3d\": [{\"line\": {\"colorbar\": {\"outlinewidth\": 1, \"tickcolor\": \"rgb(36,36,36)\", \"ticks\": \"outside\"}}, \"marker\": {\"colorbar\": {\"outlinewidth\": 1, \"tickcolor\": \"rgb(36,36,36)\", \"ticks\": \"outside\"}}, \"type\": \"scatter3d\"}], \"scattercarpet\": [{\"marker\": {\"colorbar\": {\"outlinewidth\": 1, \"tickcolor\": \"rgb(36,36,36)\", \"ticks\": \"outside\"}}, \"type\": \"scattercarpet\"}], \"scattergeo\": [{\"marker\": {\"colorbar\": {\"outlinewidth\": 1, \"tickcolor\": \"rgb(36,36,36)\", \"ticks\": \"outside\"}}, \"type\": \"scattergeo\"}], \"scattergl\": [{\"marker\": {\"colorbar\": {\"outlinewidth\": 1, \"tickcolor\": \"rgb(36,36,36)\", \"ticks\": \"outside\"}}, \"type\": \"scattergl\"}], \"scattermapbox\": [{\"marker\": {\"colorbar\": {\"outlinewidth\": 1, \"tickcolor\": \"rgb(36,36,36)\", \"ticks\": \"outside\"}}, \"type\": \"scattermapbox\"}], \"scatterpolar\": [{\"marker\": {\"colorbar\": {\"outlinewidth\": 1, \"tickcolor\": \"rgb(36,36,36)\", \"ticks\": \"outside\"}}, \"type\": \"scatterpolar\"}], \"scatterpolargl\": [{\"marker\": {\"colorbar\": {\"outlinewidth\": 1, \"tickcolor\": \"rgb(36,36,36)\", \"ticks\": \"outside\"}}, \"type\": \"scatterpolargl\"}], \"scatterternary\": [{\"marker\": {\"colorbar\": {\"outlinewidth\": 1, \"tickcolor\": \"rgb(36,36,36)\", \"ticks\": \"outside\"}}, \"type\": \"scatterternary\"}], \"surface\": [{\"colorbar\": {\"outlinewidth\": 1, \"tickcolor\": \"rgb(36,36,36)\", \"ticks\": \"outside\"}, \"colorscale\": [[0.0, \"#440154\"], [0.1111111111111111, \"#482878\"], [0.2222222222222222, \"#3e4989\"], [0.3333333333333333, \"#31688e\"], [0.4444444444444444, \"#26828e\"], [0.5555555555555556, \"#1f9e89\"], [0.6666666666666666, \"#35b779\"], [0.7777777777777778, \"#6ece58\"], [0.8888888888888888, \"#b5de2b\"], [1.0, \"#fde725\"]], \"type\": \"surface\"}], \"table\": [{\"cells\": {\"fill\": {\"color\": \"rgb(237,237,237)\"}, \"line\": {\"color\": \"white\"}}, \"header\": {\"fill\": {\"color\": \"rgb(217,217,217)\"}, \"line\": {\"color\": \"white\"}}, \"type\": \"table\"}]}, \"layout\": {\"annotationdefaults\": {\"arrowhead\": 0, \"arrowwidth\": 1}, \"autotypenumbers\": \"strict\", \"coloraxis\": {\"colorbar\": {\"outlinewidth\": 1, \"tickcolor\": \"rgb(36,36,36)\", \"ticks\": \"outside\"}}, \"colorscale\": {\"diverging\": [[0.0, \"rgb(103,0,31)\"], [0.1, \"rgb(178,24,43)\"], [0.2, \"rgb(214,96,77)\"], [0.3, \"rgb(244,165,130)\"], [0.4, \"rgb(253,219,199)\"], [0.5, \"rgb(247,247,247)\"], [0.6, \"rgb(209,229,240)\"], [0.7, \"rgb(146,197,222)\"], [0.8, \"rgb(67,147,195)\"], [0.9, \"rgb(33,102,172)\"], [1.0, \"rgb(5,48,97)\"]], \"sequential\": [[0.0, \"#440154\"], [0.1111111111111111, \"#482878\"], [0.2222222222222222, \"#3e4989\"], [0.3333333333333333, \"#31688e\"], [0.4444444444444444, \"#26828e\"], [0.5555555555555556, \"#1f9e89\"], [0.6666666666666666, \"#35b779\"], [0.7777777777777778, \"#6ece58\"], [0.8888888888888888, \"#b5de2b\"], [1.0, \"#fde725\"]], \"sequentialminus\": [[0.0, \"#440154\"], [0.1111111111111111, \"#482878\"], [0.2222222222222222, \"#3e4989\"], [0.3333333333333333, \"#31688e\"], [0.4444444444444444, \"#26828e\"], [0.5555555555555556, \"#1f9e89\"], [0.6666666666666666, \"#35b779\"], [0.7777777777777778, \"#6ece58\"], [0.8888888888888888, \"#b5de2b\"], [1.0, \"#fde725\"]]}, \"colorway\": [\"#1F77B4\", \"#FF7F0E\", \"#2CA02C\", \"#D62728\", \"#9467BD\", \"#8C564B\", \"#E377C2\", \"#7F7F7F\", \"#BCBD22\", \"#17BECF\"], \"font\": {\"color\": \"rgb(36,36,36)\"}, \"geo\": {\"bgcolor\": \"white\", \"lakecolor\": \"white\", \"landcolor\": \"white\", \"showlakes\": true, \"showland\": true, \"subunitcolor\": \"white\"}, \"hoverlabel\": {\"align\": \"left\"}, \"hovermode\": \"closest\", \"mapbox\": {\"style\": \"light\"}, \"margin\": {\"b\": 0, \"l\": 20, \"r\": 20, \"t\": 40}, \"paper_bgcolor\": \"white\", \"plot_bgcolor\": \"white\", \"polar\": {\"angularaxis\": {\"gridcolor\": \"rgb(232,232,232)\", \"linecolor\": \"rgb(36,36,36)\", \"showgrid\": false, \"showline\": true, \"ticks\": \"outside\"}, \"bgcolor\": \"white\", \"radialaxis\": {\"gridcolor\": \"rgb(232,232,232)\", \"linecolor\": \"rgb(36,36,36)\", \"showgrid\": false, \"showline\": true, \"ticks\": \"outside\"}}, \"scene\": {\"xaxis\": {\"backgroundcolor\": \"white\", \"gridcolor\": \"rgb(232,232,232)\", \"gridwidth\": 2, \"linecolor\": \"rgb(36,36,36)\", \"showbackground\": true, \"showgrid\": false, \"showline\": true, \"ticks\": \"outside\", \"zeroline\": false, \"zerolinecolor\": \"rgb(36,36,36)\"}, \"yaxis\": {\"backgroundcolor\": \"white\", \"gridcolor\": \"rgb(232,232,232)\", \"gridwidth\": 2, \"linecolor\": \"rgb(36,36,36)\", \"showbackground\": true, \"showgrid\": false, \"showline\": true, \"ticks\": \"outside\", \"zeroline\": false, \"zerolinecolor\": \"rgb(36,36,36)\"}, \"zaxis\": {\"backgroundcolor\": \"white\", \"gridcolor\": \"rgb(232,232,232)\", \"gridwidth\": 2, \"linecolor\": \"rgb(36,36,36)\", \"showbackground\": true, \"showgrid\": false, \"showline\": true, \"ticks\": \"outside\", \"zeroline\": false, \"zerolinecolor\": \"rgb(36,36,36)\"}}, \"shapedefaults\": {\"fillcolor\": \"black\", \"line\": {\"width\": 0}, \"opacity\": 0.3}, \"ternary\": {\"aaxis\": {\"gridcolor\": \"rgb(232,232,232)\", \"linecolor\": \"rgb(36,36,36)\", \"showgrid\": false, \"showline\": true, \"ticks\": \"outside\"}, \"baxis\": {\"gridcolor\": \"rgb(232,232,232)\", \"linecolor\": \"rgb(36,36,36)\", \"showgrid\": false, \"showline\": true, \"ticks\": \"outside\"}, \"bgcolor\": \"white\", \"caxis\": {\"gridcolor\": \"rgb(232,232,232)\", \"linecolor\": \"rgb(36,36,36)\", \"showgrid\": false, \"showline\": true, \"ticks\": \"outside\"}}, \"title\": {\"x\": 0.05}, \"xaxis\": {\"automargin\": true, \"gridcolor\": \"rgb(232,232,232)\", \"linecolor\": \"rgb(36,36,36)\", \"showgrid\": false, \"showline\": true, \"ticks\": \"outside\", \"title\": {\"standoff\": 15}, \"zeroline\": false, \"zerolinecolor\": \"rgb(36,36,36)\"}, \"yaxis\": {\"automargin\": true, \"gridcolor\": \"rgb(232,232,232)\", \"linecolor\": \"rgb(36,36,36)\", \"showgrid\": false, \"showline\": true, \"ticks\": \"outside\", \"title\": {\"standoff\": 15}, \"zeroline\": false, \"zerolinecolor\": \"rgb(36,36,36)\"}}}, \"title\": {\"text\": \"$\\\\text{(6) Average Train } MSE \\\\text{ As Function of } \\\\left(k,\\\\sigma^2\\\\right)$\"}, \"xaxis\": {\"title\": {\"text\": \"$k$ - Fitted Polynomial Degree\"}}, \"yaxis\": {\"title\": {\"text\": \"$\\\\sigma^2$ - Noise Levels\"}}},                        {\"responsive\": true}                    ).then(function(){\n",
       "                            \n",
       "var gd = document.getElementById('dc7db5b7-01fd-4594-93e0-78e322acfc1d');\n",
       "var x = new MutationObserver(function (mutations, observer) {{\n",
       "        var display = window.getComputedStyle(gd).display;\n",
       "        if (!display || display === 'none') {{\n",
       "            console.log([gd, 'removed!']);\n",
       "            Plotly.purge(gd);\n",
       "            observer.disconnect();\n",
       "        }}\n",
       "}});\n",
       "\n",
       "// Listen for the removal of the full notebook cells\n",
       "var notebookContainer = gd.closest('#notebook-container');\n",
       "if (notebookContainer) {{\n",
       "    x.observe(notebookContainer, {childList: true});\n",
       "}}\n",
       "\n",
       "// Listen for the clearing of the current output cell\n",
       "var outputEl = gd.closest('.output');\n",
       "if (outputEl) {{\n",
       "    x.observe(outputEl, {childList: true});\n",
       "}}\n",
       "\n",
       "                        })                };                });            </script>        </div>"
      ]
     },
     "metadata": {},
     "output_type": "display_data"
    }
   ],
   "source": [
    "from sklearn.model_selection import ParameterGrid\n",
    "\n",
    "df = []\n",
    "for setting in ParameterGrid(dict(k=range(10), s=np.linspace(0, 5, 10), repetition=range(10))):\n",
    "    y = y_ + np.random.normal(scale=setting[\"s\"], size=len(y_))\n",
    "    y_hat = make_pipeline(PolynomialFeatures(setting[\"k\"]), LinearRegression(fit_intercept=False)).fit(X, y).predict(X)\n",
    "    \n",
    "    df.append([setting[\"k\"], setting[\"s\"], np.mean((y-y_hat)**2)])\n",
    "    \n",
    "df = pd.DataFrame.from_records(df, columns=[\"k\", \"sigma\",\"mse\"]).groupby([\"k\",\"sigma\"]).mean().reset_index()\n",
    "\n",
    "go.Figure(go.Heatmap(x=df.k, y=df.sigma, z=df.mse, colorscale=\"amp\"),\n",
    "          layout=go.Layout(title=r\"$\\text{(6) Average Train } MSE \\text{ As Function of } \\left(k,\\sigma^2\\right)$\", \n",
    "                           xaxis_title=r\"$k$ - Fitted Polynomial Degree\",\n",
    "                           yaxis_title=r\"$\\sigma^2$ - Noise Levels\")).show()\n"
   ]
  },
  {
   "cell_type": "markdown",
   "metadata": {
    "pycharm": {
     "name": "#%% md\n"
    }
   },
   "source": [
    "# Time To Think...\n",
    "\n",
    "In the above figure, we observe the following trends:\n",
    "- As already seen before, for the noise-free data, once we reach the correct $k$ we achieve zero MSE.\n",
    "- Across all values of $k$, as we increase $\\sigma^2$ we get higher MSE values.\n",
    "- For all noise levels, we manage to reduce MSE values by increasing $k$.\n",
    "\n",
    "So, by choosing a **richer** hypothesis class (i.e. larger and that can express more functions - polynomials of higher\n",
    "degree) we are able to choose an hypothesis that fits the **observed** data **better**, regardless to how noisy the data is.\n",
    "Try and think how the above heatmap would look if instead of calculating the MSE over the training samples (i.e train error)\n",
    "we would have calculated it over a **new** set of test samples drawn from the same distribution.\n",
    "\n",
    "Use the below code to create a test set. Change the code generating figure 6 such that the reported error is a test error. Do not forget to add the noise (that depends on $\\sigma^2$) to the test data. What has changed between what we observe for the train error to the test error? What happens for high/low values of $\\sigma^2$? What happens for high/low values of $k$?"
   ]
  },
  {
   "cell_type": "code",
   "execution_count": 9,
   "metadata": {},
   "outputs": [
    {
     "ename": "ValueError",
     "evalue": "could not convert string to float: ",
     "output_type": "error",
     "traceback": [
      "\u001b[1;31m---------------------------------------------------------------------------\u001b[0m",
      "\u001b[1;31mValueError\u001b[0m                                Traceback (most recent call last)",
      "\u001b[1;32m<ipython-input-9-1f3d6719ca8b>\u001b[0m in \u001b[0;36m<module>\u001b[1;34m\u001b[0m\n\u001b[0;32m      3\u001b[0m \u001b[1;33m\u001b[0m\u001b[0m\n\u001b[0;32m      4\u001b[0m \u001b[1;31m# Generate the noisy y values of the test set. Set the noise level (the scale parameter) according to the specific setting\u001b[0m\u001b[1;33m\u001b[0m\u001b[1;33m\u001b[0m\u001b[1;33m\u001b[0m\u001b[0m\n\u001b[1;32m----> 5\u001b[1;33m \u001b[0mtestY\u001b[0m \u001b[1;33m=\u001b[0m \u001b[0mresponse\u001b[0m\u001b[1;33m(\u001b[0m\u001b[0mtestX\u001b[0m\u001b[1;33m)\u001b[0m \u001b[1;33m+\u001b[0m \u001b[0mnp\u001b[0m\u001b[1;33m.\u001b[0m\u001b[0mrandom\u001b[0m\u001b[1;33m.\u001b[0m\u001b[0mnormal\u001b[0m\u001b[1;33m(\u001b[0m\u001b[0mscale\u001b[0m\u001b[1;33m=\u001b[0m\u001b[0m___\u001b[0m\u001b[1;33m,\u001b[0m \u001b[0msize\u001b[0m\u001b[1;33m=\u001b[0m\u001b[0mlen\u001b[0m\u001b[1;33m(\u001b[0m\u001b[0my_\u001b[0m\u001b[1;33m)\u001b[0m\u001b[1;33m)\u001b[0m\u001b[1;33m\u001b[0m\u001b[1;33m\u001b[0m\u001b[0m\n\u001b[0m",
      "\u001b[1;32mmtrand.pyx\u001b[0m in \u001b[0;36mnumpy.random.mtrand.RandomState.normal\u001b[1;34m()\u001b[0m\n",
      "\u001b[1;32m_common.pyx\u001b[0m in \u001b[0;36mnumpy.random._common.cont\u001b[1;34m()\u001b[0m\n",
      "\u001b[1;31mValueError\u001b[0m: could not convert string to float: "
     ]
    }
   ],
   "source": [
    "# Generate the x values of the test set\n",
    "testX = np.linspace(-1.2, 2, 40)[1::2].reshape(-1,1)\n",
    "\n",
    "# Generate the noisy y values of the test set. Set the noise level (the scale parameter) according to the specific setting\n",
    "testY = response(testX) + np.random.normal(scale=___, size=len(y_))"
   ]
  }
 ],
 "metadata": {
  "kernelspec": {
   "display_name": "Python 3 (ipykernel)",
   "language": "python",
   "name": "python3"
  },
  "language_info": {
   "codemirror_mode": {
    "name": "ipython",
    "version": 3
   },
   "file_extension": ".py",
   "mimetype": "text/x-python",
   "name": "python",
   "nbconvert_exporter": "python",
   "pygments_lexer": "ipython3",
   "version": "3.7.11"
  },
  "pycharm": {
   "stem_cell": {
    "cell_type": "raw",
    "metadata": {
     "collapsed": false
    },
    "source": []
   }
  }
 },
 "nbformat": 4,
 "nbformat_minor": 1
}
